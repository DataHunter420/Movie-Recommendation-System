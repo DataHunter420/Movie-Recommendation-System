{
  "nbformat": 4,
  "nbformat_minor": 0,
  "metadata": {
    "colab": {
      "provenance": [],
      "authorship_tag": "ABX9TyObrpJqy3b3cL3ujOtXmuvz",
      "include_colab_link": true
    },
    "kernelspec": {
      "name": "python3",
      "display_name": "Python 3"
    },
    "language_info": {
      "name": "python"
    }
  },
  "cells": [
    {
      "cell_type": "markdown",
      "metadata": {
        "id": "view-in-github",
        "colab_type": "text"
      },
      "source": [
        "<a href=\"https://colab.research.google.com/github/DataHunter420/Movie-Recommendation-System/blob/main/Movie_AI.ipynb\" target=\"_parent\"><img src=\"https://colab.research.google.com/assets/colab-badge.svg\" alt=\"Open In Colab\"/></a>"
      ]
    },
    {
      "cell_type": "markdown",
      "source": [
        "**Movie Recommendation System**"
      ],
      "metadata": {
        "id": "tP-aH83zk6JW"
      }
    },
    {
      "cell_type": "markdown",
      "source": [
        "**Movie Recommendation System** is a system that seeks to predict or filter preferences according to the user's choices. Recommender systems are utilized in a variety of areas including movies, music, news, books, research articles, search queries, social tags, and products in general.Recommender systems produce a list of recommendations in any of the two ways -\n",
        "\n"
      ],
      "metadata": {
        "id": "x9TM0chElAc8"
      }
    },
    {
      "cell_type": "markdown",
      "source": [
        "**Collaborative filtering:** Collaborative filtering approaches build a model from the user's past behavior (i.e. items purchased or searched by the user) as well as similar decisions made by other users. This model is then used to predict items (or ratings for items) that users may have an interest in."
      ],
      "metadata": {
        "id": "YogQQ8-vmVLq"
      }
    },
    {
      "cell_type": "markdown",
      "source": [
        "**Content-based filtering:** Content-based filtering approaches uses a series of discrete characteristics of an item in order to recommend additional items with similar properties. Content-based filtering methods are totally based on a description of the item and a profile of the user's preferences. It recommends items based on the user's past preferences. Let's develop a basic recommendation system using Python and Pandas.\n",
        "Let's develop a basic recommendation system by suggesting items that are most similar to a particular item, in this case, movies. It just tells what movies/items are most similar to the user's movie choice."
      ],
      "metadata": {
        "id": "6s5hS_TZmbIk"
      }
    },
    {
      "cell_type": "markdown",
      "source": [
        "**Import Libararies**"
      ],
      "metadata": {
        "id": "1_P_oTNomd33"
      }
    },
    {
      "cell_type": "code",
      "source": [
        "import pandas as pd"
      ],
      "metadata": {
        "id": "C1iAD0zxk-D3"
      },
      "execution_count": 1,
      "outputs": []
    },
    {
      "cell_type": "code",
      "source": [
        "import numpy as np\n"
      ],
      "metadata": {
        "id": "MG-PUJPNmokQ"
      },
      "execution_count": 2,
      "outputs": []
    },
    {
      "cell_type": "markdown",
      "source": [
        "**Data Import**"
      ],
      "metadata": {
        "id": "HTuxSFFsm_gz"
      }
    },
    {
      "cell_type": "code",
      "source": [
        "df = pd.read_csv('https://github.com/YBI-Foundation/Dataset/raw/main/Movies%20Recommendation.csv')"
      ],
      "metadata": {
        "id": "0cCOryn7mtH2"
      },
      "execution_count": 3,
      "outputs": []
    },
    {
      "cell_type": "code",
      "source": [
        "df.head()"
      ],
      "metadata": {
        "colab": {
          "base_uri": "https://localhost:8080/",
          "height": 672
        },
        "id": "EK0BJm7InSKF",
        "outputId": "c370d10c-d323-48b1-c252-743b1273840a"
      },
      "execution_count": 4,
      "outputs": [
        {
          "output_type": "execute_result",
          "data": {
            "text/plain": [
              "   Movie_ID      Movie_Title                       Movie_Genre Movie_Language  \\\n",
              "0         1       Four Rooms                      Crime Comedy             en   \n",
              "1         2        Star Wars  Adventure Action Science Fiction             en   \n",
              "2         3     Finding Nemo                  Animation Family             en   \n",
              "3         4     Forrest Gump              Comedy Drama Romance             en   \n",
              "4         5  American Beauty                             Drama             en   \n",
              "\n",
              "   Movie_Budget  Movie_Popularity Movie_Release_Date  Movie_Revenue  \\\n",
              "0       4000000         22.876230         09-12-1995        4300000   \n",
              "1      11000000        126.393695         25-05-1977      775398007   \n",
              "2      94000000         85.688789         30-05-2003      940335536   \n",
              "3      55000000        138.133331         06-07-1994      677945399   \n",
              "4      15000000         80.878605         15-09-1999      356296601   \n",
              "\n",
              "   Movie_Runtime  Movie_Vote  ...  \\\n",
              "0           98.0         6.5  ...   \n",
              "1          121.0         8.1  ...   \n",
              "2          100.0         7.6  ...   \n",
              "3          142.0         8.2  ...   \n",
              "4          122.0         7.9  ...   \n",
              "\n",
              "                                      Movie_Homepage  \\\n",
              "0                                                NaN   \n",
              "1  http://www.starwars.com/films/star-wars-episod...   \n",
              "2              http://movies.disney.com/finding-nemo   \n",
              "3                                                NaN   \n",
              "4                      http://www.dreamworks.com/ab/   \n",
              "\n",
              "                                      Movie_Keywords  \\\n",
              "0          hotel new year's eve witch bet hotel room   \n",
              "1        android galaxy hermit death star lightsaber   \n",
              "2  father son relationship harbor underwater fish...   \n",
              "3  vietnam veteran hippie mentally disabled runni...   \n",
              "4  male nudity female nudity adultery midlife cri...   \n",
              "\n",
              "                                      Movie_Overview  \\\n",
              "0  It's Ted the Bellhop's first night on the job....   \n",
              "1  Princess Leia is captured and held hostage by ...   \n",
              "2  Nemo, an adventurous young clownfish, is unexp...   \n",
              "3  A man with a low IQ has accomplished great thi...   \n",
              "4  Lester Burnham, a depressed suburban father in...   \n",
              "\n",
              "                              Movie_Production_House  \\\n",
              "0  [{\"name\": \"Miramax Films\", \"id\": 14}, {\"name\":...   \n",
              "1  [{\"name\": \"Lucasfilm\", \"id\": 1}, {\"name\": \"Twe...   \n",
              "2     [{\"name\": \"Pixar Animation Studios\", \"id\": 3}]   \n",
              "3          [{\"name\": \"Paramount Pictures\", \"id\": 4}]   \n",
              "4  [{\"name\": \"DreamWorks SKG\", \"id\": 27}, {\"name\"...   \n",
              "\n",
              "                            Movie_Production_Country  \\\n",
              "0  [{\"iso_3166_1\": \"US\", \"name\": \"United States o...   \n",
              "1  [{\"iso_3166_1\": \"US\", \"name\": \"United States o...   \n",
              "2  [{\"iso_3166_1\": \"US\", \"name\": \"United States o...   \n",
              "3  [{\"iso_3166_1\": \"US\", \"name\": \"United States o...   \n",
              "4  [{\"iso_3166_1\": \"US\", \"name\": \"United States o...   \n",
              "\n",
              "                      Movie_Spoken_Language  \\\n",
              "0  [{\"iso_639_1\": \"en\", \"name\": \"English\"}]   \n",
              "1  [{\"iso_639_1\": \"en\", \"name\": \"English\"}]   \n",
              "2  [{\"iso_639_1\": \"en\", \"name\": \"English\"}]   \n",
              "3  [{\"iso_639_1\": \"en\", \"name\": \"English\"}]   \n",
              "4  [{\"iso_639_1\": \"en\", \"name\": \"English\"}]   \n",
              "\n",
              "                                       Movie_Tagline  \\\n",
              "0  Twelve outrageous guests. Four scandalous requ...   \n",
              "1       A long time ago in a galaxy far, far away...   \n",
              "2  There are 3.7 trillion fish in the ocean, they...   \n",
              "3  The world will never be the same, once you've ...   \n",
              "4                                       Look closer.   \n",
              "\n",
              "                                          Movie_Cast  \\\n",
              "0  Tim Roth Antonio Banderas Jennifer Beals Madon...   \n",
              "1  Mark Hamill Harrison Ford Carrie Fisher Peter ...   \n",
              "2  Albert Brooks Ellen DeGeneres Alexander Gould ...   \n",
              "3  Tom Hanks Robin Wright Gary Sinise Mykelti Wil...   \n",
              "4  Kevin Spacey Annette Bening Thora Birch Wes Be...   \n",
              "\n",
              "                                          Movie_Crew   Movie_Director  \n",
              "0  [{'name': 'Allison Anders', 'gender': 1, 'depa...   Allison Anders  \n",
              "1  [{'name': 'George Lucas', 'gender': 2, 'depart...     George Lucas  \n",
              "2  [{'name': 'Andrew Stanton', 'gender': 2, 'depa...   Andrew Stanton  \n",
              "3  [{'name': 'Alan Silvestri', 'gender': 2, 'depa...  Robert Zemeckis  \n",
              "4  [{'name': 'Thomas Newman', 'gender': 2, 'depar...       Sam Mendes  \n",
              "\n",
              "[5 rows x 21 columns]"
            ],
            "text/html": [
              "\n",
              "  <div id=\"df-d4ce4c67-02c6-42b2-9e3f-53a6d20d2337\" class=\"colab-df-container\">\n",
              "    <div>\n",
              "<style scoped>\n",
              "    .dataframe tbody tr th:only-of-type {\n",
              "        vertical-align: middle;\n",
              "    }\n",
              "\n",
              "    .dataframe tbody tr th {\n",
              "        vertical-align: top;\n",
              "    }\n",
              "\n",
              "    .dataframe thead th {\n",
              "        text-align: right;\n",
              "    }\n",
              "</style>\n",
              "<table border=\"1\" class=\"dataframe\">\n",
              "  <thead>\n",
              "    <tr style=\"text-align: right;\">\n",
              "      <th></th>\n",
              "      <th>Movie_ID</th>\n",
              "      <th>Movie_Title</th>\n",
              "      <th>Movie_Genre</th>\n",
              "      <th>Movie_Language</th>\n",
              "      <th>Movie_Budget</th>\n",
              "      <th>Movie_Popularity</th>\n",
              "      <th>Movie_Release_Date</th>\n",
              "      <th>Movie_Revenue</th>\n",
              "      <th>Movie_Runtime</th>\n",
              "      <th>Movie_Vote</th>\n",
              "      <th>...</th>\n",
              "      <th>Movie_Homepage</th>\n",
              "      <th>Movie_Keywords</th>\n",
              "      <th>Movie_Overview</th>\n",
              "      <th>Movie_Production_House</th>\n",
              "      <th>Movie_Production_Country</th>\n",
              "      <th>Movie_Spoken_Language</th>\n",
              "      <th>Movie_Tagline</th>\n",
              "      <th>Movie_Cast</th>\n",
              "      <th>Movie_Crew</th>\n",
              "      <th>Movie_Director</th>\n",
              "    </tr>\n",
              "  </thead>\n",
              "  <tbody>\n",
              "    <tr>\n",
              "      <th>0</th>\n",
              "      <td>1</td>\n",
              "      <td>Four Rooms</td>\n",
              "      <td>Crime Comedy</td>\n",
              "      <td>en</td>\n",
              "      <td>4000000</td>\n",
              "      <td>22.876230</td>\n",
              "      <td>09-12-1995</td>\n",
              "      <td>4300000</td>\n",
              "      <td>98.0</td>\n",
              "      <td>6.5</td>\n",
              "      <td>...</td>\n",
              "      <td>NaN</td>\n",
              "      <td>hotel new year's eve witch bet hotel room</td>\n",
              "      <td>It's Ted the Bellhop's first night on the job....</td>\n",
              "      <td>[{\"name\": \"Miramax Films\", \"id\": 14}, {\"name\":...</td>\n",
              "      <td>[{\"iso_3166_1\": \"US\", \"name\": \"United States o...</td>\n",
              "      <td>[{\"iso_639_1\": \"en\", \"name\": \"English\"}]</td>\n",
              "      <td>Twelve outrageous guests. Four scandalous requ...</td>\n",
              "      <td>Tim Roth Antonio Banderas Jennifer Beals Madon...</td>\n",
              "      <td>[{'name': 'Allison Anders', 'gender': 1, 'depa...</td>\n",
              "      <td>Allison Anders</td>\n",
              "    </tr>\n",
              "    <tr>\n",
              "      <th>1</th>\n",
              "      <td>2</td>\n",
              "      <td>Star Wars</td>\n",
              "      <td>Adventure Action Science Fiction</td>\n",
              "      <td>en</td>\n",
              "      <td>11000000</td>\n",
              "      <td>126.393695</td>\n",
              "      <td>25-05-1977</td>\n",
              "      <td>775398007</td>\n",
              "      <td>121.0</td>\n",
              "      <td>8.1</td>\n",
              "      <td>...</td>\n",
              "      <td>http://www.starwars.com/films/star-wars-episod...</td>\n",
              "      <td>android galaxy hermit death star lightsaber</td>\n",
              "      <td>Princess Leia is captured and held hostage by ...</td>\n",
              "      <td>[{\"name\": \"Lucasfilm\", \"id\": 1}, {\"name\": \"Twe...</td>\n",
              "      <td>[{\"iso_3166_1\": \"US\", \"name\": \"United States o...</td>\n",
              "      <td>[{\"iso_639_1\": \"en\", \"name\": \"English\"}]</td>\n",
              "      <td>A long time ago in a galaxy far, far away...</td>\n",
              "      <td>Mark Hamill Harrison Ford Carrie Fisher Peter ...</td>\n",
              "      <td>[{'name': 'George Lucas', 'gender': 2, 'depart...</td>\n",
              "      <td>George Lucas</td>\n",
              "    </tr>\n",
              "    <tr>\n",
              "      <th>2</th>\n",
              "      <td>3</td>\n",
              "      <td>Finding Nemo</td>\n",
              "      <td>Animation Family</td>\n",
              "      <td>en</td>\n",
              "      <td>94000000</td>\n",
              "      <td>85.688789</td>\n",
              "      <td>30-05-2003</td>\n",
              "      <td>940335536</td>\n",
              "      <td>100.0</td>\n",
              "      <td>7.6</td>\n",
              "      <td>...</td>\n",
              "      <td>http://movies.disney.com/finding-nemo</td>\n",
              "      <td>father son relationship harbor underwater fish...</td>\n",
              "      <td>Nemo, an adventurous young clownfish, is unexp...</td>\n",
              "      <td>[{\"name\": \"Pixar Animation Studios\", \"id\": 3}]</td>\n",
              "      <td>[{\"iso_3166_1\": \"US\", \"name\": \"United States o...</td>\n",
              "      <td>[{\"iso_639_1\": \"en\", \"name\": \"English\"}]</td>\n",
              "      <td>There are 3.7 trillion fish in the ocean, they...</td>\n",
              "      <td>Albert Brooks Ellen DeGeneres Alexander Gould ...</td>\n",
              "      <td>[{'name': 'Andrew Stanton', 'gender': 2, 'depa...</td>\n",
              "      <td>Andrew Stanton</td>\n",
              "    </tr>\n",
              "    <tr>\n",
              "      <th>3</th>\n",
              "      <td>4</td>\n",
              "      <td>Forrest Gump</td>\n",
              "      <td>Comedy Drama Romance</td>\n",
              "      <td>en</td>\n",
              "      <td>55000000</td>\n",
              "      <td>138.133331</td>\n",
              "      <td>06-07-1994</td>\n",
              "      <td>677945399</td>\n",
              "      <td>142.0</td>\n",
              "      <td>8.2</td>\n",
              "      <td>...</td>\n",
              "      <td>NaN</td>\n",
              "      <td>vietnam veteran hippie mentally disabled runni...</td>\n",
              "      <td>A man with a low IQ has accomplished great thi...</td>\n",
              "      <td>[{\"name\": \"Paramount Pictures\", \"id\": 4}]</td>\n",
              "      <td>[{\"iso_3166_1\": \"US\", \"name\": \"United States o...</td>\n",
              "      <td>[{\"iso_639_1\": \"en\", \"name\": \"English\"}]</td>\n",
              "      <td>The world will never be the same, once you've ...</td>\n",
              "      <td>Tom Hanks Robin Wright Gary Sinise Mykelti Wil...</td>\n",
              "      <td>[{'name': 'Alan Silvestri', 'gender': 2, 'depa...</td>\n",
              "      <td>Robert Zemeckis</td>\n",
              "    </tr>\n",
              "    <tr>\n",
              "      <th>4</th>\n",
              "      <td>5</td>\n",
              "      <td>American Beauty</td>\n",
              "      <td>Drama</td>\n",
              "      <td>en</td>\n",
              "      <td>15000000</td>\n",
              "      <td>80.878605</td>\n",
              "      <td>15-09-1999</td>\n",
              "      <td>356296601</td>\n",
              "      <td>122.0</td>\n",
              "      <td>7.9</td>\n",
              "      <td>...</td>\n",
              "      <td>http://www.dreamworks.com/ab/</td>\n",
              "      <td>male nudity female nudity adultery midlife cri...</td>\n",
              "      <td>Lester Burnham, a depressed suburban father in...</td>\n",
              "      <td>[{\"name\": \"DreamWorks SKG\", \"id\": 27}, {\"name\"...</td>\n",
              "      <td>[{\"iso_3166_1\": \"US\", \"name\": \"United States o...</td>\n",
              "      <td>[{\"iso_639_1\": \"en\", \"name\": \"English\"}]</td>\n",
              "      <td>Look closer.</td>\n",
              "      <td>Kevin Spacey Annette Bening Thora Birch Wes Be...</td>\n",
              "      <td>[{'name': 'Thomas Newman', 'gender': 2, 'depar...</td>\n",
              "      <td>Sam Mendes</td>\n",
              "    </tr>\n",
              "  </tbody>\n",
              "</table>\n",
              "<p>5 rows × 21 columns</p>\n",
              "</div>\n",
              "    <div class=\"colab-df-buttons\">\n",
              "\n",
              "  <div class=\"colab-df-container\">\n",
              "    <button class=\"colab-df-convert\" onclick=\"convertToInteractive('df-d4ce4c67-02c6-42b2-9e3f-53a6d20d2337')\"\n",
              "            title=\"Convert this dataframe to an interactive table.\"\n",
              "            style=\"display:none;\">\n",
              "\n",
              "  <svg xmlns=\"http://www.w3.org/2000/svg\" height=\"24px\" viewBox=\"0 -960 960 960\">\n",
              "    <path d=\"M120-120v-720h720v720H120Zm60-500h600v-160H180v160Zm220 220h160v-160H400v160Zm0 220h160v-160H400v160ZM180-400h160v-160H180v160Zm440 0h160v-160H620v160ZM180-180h160v-160H180v160Zm440 0h160v-160H620v160Z\"/>\n",
              "  </svg>\n",
              "    </button>\n",
              "\n",
              "  <style>\n",
              "    .colab-df-container {\n",
              "      display:flex;\n",
              "      gap: 12px;\n",
              "    }\n",
              "\n",
              "    .colab-df-convert {\n",
              "      background-color: #E8F0FE;\n",
              "      border: none;\n",
              "      border-radius: 50%;\n",
              "      cursor: pointer;\n",
              "      display: none;\n",
              "      fill: #1967D2;\n",
              "      height: 32px;\n",
              "      padding: 0 0 0 0;\n",
              "      width: 32px;\n",
              "    }\n",
              "\n",
              "    .colab-df-convert:hover {\n",
              "      background-color: #E2EBFA;\n",
              "      box-shadow: 0px 1px 2px rgba(60, 64, 67, 0.3), 0px 1px 3px 1px rgba(60, 64, 67, 0.15);\n",
              "      fill: #174EA6;\n",
              "    }\n",
              "\n",
              "    .colab-df-buttons div {\n",
              "      margin-bottom: 4px;\n",
              "    }\n",
              "\n",
              "    [theme=dark] .colab-df-convert {\n",
              "      background-color: #3B4455;\n",
              "      fill: #D2E3FC;\n",
              "    }\n",
              "\n",
              "    [theme=dark] .colab-df-convert:hover {\n",
              "      background-color: #434B5C;\n",
              "      box-shadow: 0px 1px 3px 1px rgba(0, 0, 0, 0.15);\n",
              "      filter: drop-shadow(0px 1px 2px rgba(0, 0, 0, 0.3));\n",
              "      fill: #FFFFFF;\n",
              "    }\n",
              "  </style>\n",
              "\n",
              "    <script>\n",
              "      const buttonEl =\n",
              "        document.querySelector('#df-d4ce4c67-02c6-42b2-9e3f-53a6d20d2337 button.colab-df-convert');\n",
              "      buttonEl.style.display =\n",
              "        google.colab.kernel.accessAllowed ? 'block' : 'none';\n",
              "\n",
              "      async function convertToInteractive(key) {\n",
              "        const element = document.querySelector('#df-d4ce4c67-02c6-42b2-9e3f-53a6d20d2337');\n",
              "        const dataTable =\n",
              "          await google.colab.kernel.invokeFunction('convertToInteractive',\n",
              "                                                    [key], {});\n",
              "        if (!dataTable) return;\n",
              "\n",
              "        const docLinkHtml = 'Like what you see? Visit the ' +\n",
              "          '<a target=\"_blank\" href=https://colab.research.google.com/notebooks/data_table.ipynb>data table notebook</a>'\n",
              "          + ' to learn more about interactive tables.';\n",
              "        element.innerHTML = '';\n",
              "        dataTable['output_type'] = 'display_data';\n",
              "        await google.colab.output.renderOutput(dataTable, element);\n",
              "        const docLink = document.createElement('div');\n",
              "        docLink.innerHTML = docLinkHtml;\n",
              "        element.appendChild(docLink);\n",
              "      }\n",
              "    </script>\n",
              "  </div>\n",
              "\n",
              "\n",
              "<div id=\"df-dcd66ccd-72d7-4cfe-932c-65c25e40c575\">\n",
              "  <button class=\"colab-df-quickchart\" onclick=\"quickchart('df-dcd66ccd-72d7-4cfe-932c-65c25e40c575')\"\n",
              "            title=\"Suggest charts.\"\n",
              "            style=\"display:none;\">\n",
              "\n",
              "<svg xmlns=\"http://www.w3.org/2000/svg\" height=\"24px\"viewBox=\"0 0 24 24\"\n",
              "     width=\"24px\">\n",
              "    <g>\n",
              "        <path d=\"M19 3H5c-1.1 0-2 .9-2 2v14c0 1.1.9 2 2 2h14c1.1 0 2-.9 2-2V5c0-1.1-.9-2-2-2zM9 17H7v-7h2v7zm4 0h-2V7h2v10zm4 0h-2v-4h2v4z\"/>\n",
              "    </g>\n",
              "</svg>\n",
              "  </button>\n",
              "\n",
              "<style>\n",
              "  .colab-df-quickchart {\n",
              "    background-color: #E8F0FE;\n",
              "    border: none;\n",
              "    border-radius: 50%;\n",
              "    cursor: pointer;\n",
              "    display: none;\n",
              "    fill: #1967D2;\n",
              "    height: 32px;\n",
              "    padding: 0 0 0 0;\n",
              "    width: 32px;\n",
              "  }\n",
              "\n",
              "  .colab-df-quickchart:hover {\n",
              "    background-color: #E2EBFA;\n",
              "    box-shadow: 0px 1px 2px rgba(60, 64, 67, 0.3), 0px 1px 3px 1px rgba(60, 64, 67, 0.15);\n",
              "    fill: #174EA6;\n",
              "  }\n",
              "\n",
              "  [theme=dark] .colab-df-quickchart {\n",
              "    background-color: #3B4455;\n",
              "    fill: #D2E3FC;\n",
              "  }\n",
              "\n",
              "  [theme=dark] .colab-df-quickchart:hover {\n",
              "    background-color: #434B5C;\n",
              "    box-shadow: 0px 1px 3px 1px rgba(0, 0, 0, 0.15);\n",
              "    filter: drop-shadow(0px 1px 2px rgba(0, 0, 0, 0.3));\n",
              "    fill: #FFFFFF;\n",
              "  }\n",
              "</style>\n",
              "\n",
              "  <script>\n",
              "    async function quickchart(key) {\n",
              "      const charts = await google.colab.kernel.invokeFunction(\n",
              "          'suggestCharts', [key], {});\n",
              "    }\n",
              "    (() => {\n",
              "      let quickchartButtonEl =\n",
              "        document.querySelector('#df-dcd66ccd-72d7-4cfe-932c-65c25e40c575 button');\n",
              "      quickchartButtonEl.style.display =\n",
              "        google.colab.kernel.accessAllowed ? 'block' : 'none';\n",
              "    })();\n",
              "  </script>\n",
              "</div>\n",
              "    </div>\n",
              "  </div>\n"
            ]
          },
          "metadata": {},
          "execution_count": 4
        }
      ]
    },
    {
      "cell_type": "code",
      "source": [
        "df.info()"
      ],
      "metadata": {
        "colab": {
          "base_uri": "https://localhost:8080/"
        },
        "id": "sL6gCanmnV1A",
        "outputId": "cb51ee71-19a5-4ef9-94d9-a3f24b7aac10"
      },
      "execution_count": 5,
      "outputs": [
        {
          "output_type": "stream",
          "name": "stdout",
          "text": [
            "<class 'pandas.core.frame.DataFrame'>\n",
            "RangeIndex: 4760 entries, 0 to 4759\n",
            "Data columns (total 21 columns):\n",
            " #   Column                    Non-Null Count  Dtype  \n",
            "---  ------                    --------------  -----  \n",
            " 0   Movie_ID                  4760 non-null   int64  \n",
            " 1   Movie_Title               4760 non-null   object \n",
            " 2   Movie_Genre               4760 non-null   object \n",
            " 3   Movie_Language            4760 non-null   object \n",
            " 4   Movie_Budget              4760 non-null   int64  \n",
            " 5   Movie_Popularity          4760 non-null   float64\n",
            " 6   Movie_Release_Date        4760 non-null   object \n",
            " 7   Movie_Revenue             4760 non-null   int64  \n",
            " 8   Movie_Runtime             4758 non-null   float64\n",
            " 9   Movie_Vote                4760 non-null   float64\n",
            " 10  Movie_Vote_Count          4760 non-null   int64  \n",
            " 11  Movie_Homepage            1699 non-null   object \n",
            " 12  Movie_Keywords            4373 non-null   object \n",
            " 13  Movie_Overview            4757 non-null   object \n",
            " 14  Movie_Production_House    4760 non-null   object \n",
            " 15  Movie_Production_Country  4760 non-null   object \n",
            " 16  Movie_Spoken_Language     4760 non-null   object \n",
            " 17  Movie_Tagline             3942 non-null   object \n",
            " 18  Movie_Cast                4733 non-null   object \n",
            " 19  Movie_Crew                4760 non-null   object \n",
            " 20  Movie_Director            4738 non-null   object \n",
            "dtypes: float64(3), int64(4), object(14)\n",
            "memory usage: 781.1+ KB\n"
          ]
        }
      ]
    },
    {
      "cell_type": "code",
      "source": [
        "df.describe()"
      ],
      "metadata": {
        "colab": {
          "base_uri": "https://localhost:8080/",
          "height": 300
        },
        "id": "0rXxj8m4nb8m",
        "outputId": "414ae43b-09bc-4592-fb9e-58915b26f7ce"
      },
      "execution_count": 6,
      "outputs": [
        {
          "output_type": "execute_result",
          "data": {
            "text/plain": [
              "          Movie_ID  Movie_Budget  Movie_Popularity  Movie_Revenue  \\\n",
              "count  4760.000000  4.760000e+03       4760.000000   4.760000e+03   \n",
              "mean   2382.566387  2.920129e+07         21.599510   8.263743e+07   \n",
              "std    1377.270159  4.075620e+07         31.887919   1.630554e+08   \n",
              "min       1.000000  0.000000e+00          0.000372   0.000000e+00   \n",
              "25%    1190.750000  9.257500e+05          4.807074   0.000000e+00   \n",
              "50%    2380.500000  1.500000e+07         13.119058   1.944716e+07   \n",
              "75%    3572.250000  4.000000e+07         28.411929   9.341276e+07   \n",
              "max    4788.000000  3.800000e+08        875.581305   2.787965e+09   \n",
              "\n",
              "       Movie_Runtime   Movie_Vote  Movie_Vote_Count  \n",
              "count    4758.000000  4760.000000       4760.000000  \n",
              "mean      107.184111     6.113866        692.508403  \n",
              "std        21.960332     1.141294       1235.007337  \n",
              "min         0.000000     0.000000          0.000000  \n",
              "25%        94.000000     5.600000         55.000000  \n",
              "50%       104.000000     6.200000        238.000000  \n",
              "75%       118.000000     6.800000        740.250000  \n",
              "max       338.000000    10.000000      13752.000000  "
            ],
            "text/html": [
              "\n",
              "  <div id=\"df-bddb72e6-955a-4cb6-ba0f-84b1dac9ef11\" class=\"colab-df-container\">\n",
              "    <div>\n",
              "<style scoped>\n",
              "    .dataframe tbody tr th:only-of-type {\n",
              "        vertical-align: middle;\n",
              "    }\n",
              "\n",
              "    .dataframe tbody tr th {\n",
              "        vertical-align: top;\n",
              "    }\n",
              "\n",
              "    .dataframe thead th {\n",
              "        text-align: right;\n",
              "    }\n",
              "</style>\n",
              "<table border=\"1\" class=\"dataframe\">\n",
              "  <thead>\n",
              "    <tr style=\"text-align: right;\">\n",
              "      <th></th>\n",
              "      <th>Movie_ID</th>\n",
              "      <th>Movie_Budget</th>\n",
              "      <th>Movie_Popularity</th>\n",
              "      <th>Movie_Revenue</th>\n",
              "      <th>Movie_Runtime</th>\n",
              "      <th>Movie_Vote</th>\n",
              "      <th>Movie_Vote_Count</th>\n",
              "    </tr>\n",
              "  </thead>\n",
              "  <tbody>\n",
              "    <tr>\n",
              "      <th>count</th>\n",
              "      <td>4760.000000</td>\n",
              "      <td>4.760000e+03</td>\n",
              "      <td>4760.000000</td>\n",
              "      <td>4.760000e+03</td>\n",
              "      <td>4758.000000</td>\n",
              "      <td>4760.000000</td>\n",
              "      <td>4760.000000</td>\n",
              "    </tr>\n",
              "    <tr>\n",
              "      <th>mean</th>\n",
              "      <td>2382.566387</td>\n",
              "      <td>2.920129e+07</td>\n",
              "      <td>21.599510</td>\n",
              "      <td>8.263743e+07</td>\n",
              "      <td>107.184111</td>\n",
              "      <td>6.113866</td>\n",
              "      <td>692.508403</td>\n",
              "    </tr>\n",
              "    <tr>\n",
              "      <th>std</th>\n",
              "      <td>1377.270159</td>\n",
              "      <td>4.075620e+07</td>\n",
              "      <td>31.887919</td>\n",
              "      <td>1.630554e+08</td>\n",
              "      <td>21.960332</td>\n",
              "      <td>1.141294</td>\n",
              "      <td>1235.007337</td>\n",
              "    </tr>\n",
              "    <tr>\n",
              "      <th>min</th>\n",
              "      <td>1.000000</td>\n",
              "      <td>0.000000e+00</td>\n",
              "      <td>0.000372</td>\n",
              "      <td>0.000000e+00</td>\n",
              "      <td>0.000000</td>\n",
              "      <td>0.000000</td>\n",
              "      <td>0.000000</td>\n",
              "    </tr>\n",
              "    <tr>\n",
              "      <th>25%</th>\n",
              "      <td>1190.750000</td>\n",
              "      <td>9.257500e+05</td>\n",
              "      <td>4.807074</td>\n",
              "      <td>0.000000e+00</td>\n",
              "      <td>94.000000</td>\n",
              "      <td>5.600000</td>\n",
              "      <td>55.000000</td>\n",
              "    </tr>\n",
              "    <tr>\n",
              "      <th>50%</th>\n",
              "      <td>2380.500000</td>\n",
              "      <td>1.500000e+07</td>\n",
              "      <td>13.119058</td>\n",
              "      <td>1.944716e+07</td>\n",
              "      <td>104.000000</td>\n",
              "      <td>6.200000</td>\n",
              "      <td>238.000000</td>\n",
              "    </tr>\n",
              "    <tr>\n",
              "      <th>75%</th>\n",
              "      <td>3572.250000</td>\n",
              "      <td>4.000000e+07</td>\n",
              "      <td>28.411929</td>\n",
              "      <td>9.341276e+07</td>\n",
              "      <td>118.000000</td>\n",
              "      <td>6.800000</td>\n",
              "      <td>740.250000</td>\n",
              "    </tr>\n",
              "    <tr>\n",
              "      <th>max</th>\n",
              "      <td>4788.000000</td>\n",
              "      <td>3.800000e+08</td>\n",
              "      <td>875.581305</td>\n",
              "      <td>2.787965e+09</td>\n",
              "      <td>338.000000</td>\n",
              "      <td>10.000000</td>\n",
              "      <td>13752.000000</td>\n",
              "    </tr>\n",
              "  </tbody>\n",
              "</table>\n",
              "</div>\n",
              "    <div class=\"colab-df-buttons\">\n",
              "\n",
              "  <div class=\"colab-df-container\">\n",
              "    <button class=\"colab-df-convert\" onclick=\"convertToInteractive('df-bddb72e6-955a-4cb6-ba0f-84b1dac9ef11')\"\n",
              "            title=\"Convert this dataframe to an interactive table.\"\n",
              "            style=\"display:none;\">\n",
              "\n",
              "  <svg xmlns=\"http://www.w3.org/2000/svg\" height=\"24px\" viewBox=\"0 -960 960 960\">\n",
              "    <path d=\"M120-120v-720h720v720H120Zm60-500h600v-160H180v160Zm220 220h160v-160H400v160Zm0 220h160v-160H400v160ZM180-400h160v-160H180v160Zm440 0h160v-160H620v160ZM180-180h160v-160H180v160Zm440 0h160v-160H620v160Z\"/>\n",
              "  </svg>\n",
              "    </button>\n",
              "\n",
              "  <style>\n",
              "    .colab-df-container {\n",
              "      display:flex;\n",
              "      gap: 12px;\n",
              "    }\n",
              "\n",
              "    .colab-df-convert {\n",
              "      background-color: #E8F0FE;\n",
              "      border: none;\n",
              "      border-radius: 50%;\n",
              "      cursor: pointer;\n",
              "      display: none;\n",
              "      fill: #1967D2;\n",
              "      height: 32px;\n",
              "      padding: 0 0 0 0;\n",
              "      width: 32px;\n",
              "    }\n",
              "\n",
              "    .colab-df-convert:hover {\n",
              "      background-color: #E2EBFA;\n",
              "      box-shadow: 0px 1px 2px rgba(60, 64, 67, 0.3), 0px 1px 3px 1px rgba(60, 64, 67, 0.15);\n",
              "      fill: #174EA6;\n",
              "    }\n",
              "\n",
              "    .colab-df-buttons div {\n",
              "      margin-bottom: 4px;\n",
              "    }\n",
              "\n",
              "    [theme=dark] .colab-df-convert {\n",
              "      background-color: #3B4455;\n",
              "      fill: #D2E3FC;\n",
              "    }\n",
              "\n",
              "    [theme=dark] .colab-df-convert:hover {\n",
              "      background-color: #434B5C;\n",
              "      box-shadow: 0px 1px 3px 1px rgba(0, 0, 0, 0.15);\n",
              "      filter: drop-shadow(0px 1px 2px rgba(0, 0, 0, 0.3));\n",
              "      fill: #FFFFFF;\n",
              "    }\n",
              "  </style>\n",
              "\n",
              "    <script>\n",
              "      const buttonEl =\n",
              "        document.querySelector('#df-bddb72e6-955a-4cb6-ba0f-84b1dac9ef11 button.colab-df-convert');\n",
              "      buttonEl.style.display =\n",
              "        google.colab.kernel.accessAllowed ? 'block' : 'none';\n",
              "\n",
              "      async function convertToInteractive(key) {\n",
              "        const element = document.querySelector('#df-bddb72e6-955a-4cb6-ba0f-84b1dac9ef11');\n",
              "        const dataTable =\n",
              "          await google.colab.kernel.invokeFunction('convertToInteractive',\n",
              "                                                    [key], {});\n",
              "        if (!dataTable) return;\n",
              "\n",
              "        const docLinkHtml = 'Like what you see? Visit the ' +\n",
              "          '<a target=\"_blank\" href=https://colab.research.google.com/notebooks/data_table.ipynb>data table notebook</a>'\n",
              "          + ' to learn more about interactive tables.';\n",
              "        element.innerHTML = '';\n",
              "        dataTable['output_type'] = 'display_data';\n",
              "        await google.colab.output.renderOutput(dataTable, element);\n",
              "        const docLink = document.createElement('div');\n",
              "        docLink.innerHTML = docLinkHtml;\n",
              "        element.appendChild(docLink);\n",
              "      }\n",
              "    </script>\n",
              "  </div>\n",
              "\n",
              "\n",
              "<div id=\"df-8bb69aad-0e2b-4b2b-96af-920e3911ae46\">\n",
              "  <button class=\"colab-df-quickchart\" onclick=\"quickchart('df-8bb69aad-0e2b-4b2b-96af-920e3911ae46')\"\n",
              "            title=\"Suggest charts.\"\n",
              "            style=\"display:none;\">\n",
              "\n",
              "<svg xmlns=\"http://www.w3.org/2000/svg\" height=\"24px\"viewBox=\"0 0 24 24\"\n",
              "     width=\"24px\">\n",
              "    <g>\n",
              "        <path d=\"M19 3H5c-1.1 0-2 .9-2 2v14c0 1.1.9 2 2 2h14c1.1 0 2-.9 2-2V5c0-1.1-.9-2-2-2zM9 17H7v-7h2v7zm4 0h-2V7h2v10zm4 0h-2v-4h2v4z\"/>\n",
              "    </g>\n",
              "</svg>\n",
              "  </button>\n",
              "\n",
              "<style>\n",
              "  .colab-df-quickchart {\n",
              "    background-color: #E8F0FE;\n",
              "    border: none;\n",
              "    border-radius: 50%;\n",
              "    cursor: pointer;\n",
              "    display: none;\n",
              "    fill: #1967D2;\n",
              "    height: 32px;\n",
              "    padding: 0 0 0 0;\n",
              "    width: 32px;\n",
              "  }\n",
              "\n",
              "  .colab-df-quickchart:hover {\n",
              "    background-color: #E2EBFA;\n",
              "    box-shadow: 0px 1px 2px rgba(60, 64, 67, 0.3), 0px 1px 3px 1px rgba(60, 64, 67, 0.15);\n",
              "    fill: #174EA6;\n",
              "  }\n",
              "\n",
              "  [theme=dark] .colab-df-quickchart {\n",
              "    background-color: #3B4455;\n",
              "    fill: #D2E3FC;\n",
              "  }\n",
              "\n",
              "  [theme=dark] .colab-df-quickchart:hover {\n",
              "    background-color: #434B5C;\n",
              "    box-shadow: 0px 1px 3px 1px rgba(0, 0, 0, 0.15);\n",
              "    filter: drop-shadow(0px 1px 2px rgba(0, 0, 0, 0.3));\n",
              "    fill: #FFFFFF;\n",
              "  }\n",
              "</style>\n",
              "\n",
              "  <script>\n",
              "    async function quickchart(key) {\n",
              "      const charts = await google.colab.kernel.invokeFunction(\n",
              "          'suggestCharts', [key], {});\n",
              "    }\n",
              "    (() => {\n",
              "      let quickchartButtonEl =\n",
              "        document.querySelector('#df-8bb69aad-0e2b-4b2b-96af-920e3911ae46 button');\n",
              "      quickchartButtonEl.style.display =\n",
              "        google.colab.kernel.accessAllowed ? 'block' : 'none';\n",
              "    })();\n",
              "  </script>\n",
              "</div>\n",
              "    </div>\n",
              "  </div>\n"
            ]
          },
          "metadata": {},
          "execution_count": 6
        }
      ]
    },
    {
      "cell_type": "code",
      "source": [
        "df.columns"
      ],
      "metadata": {
        "colab": {
          "base_uri": "https://localhost:8080/"
        },
        "id": "EnhskfrmnlVf",
        "outputId": "4571a3f4-8c8c-483f-8170-68aa66892df0"
      },
      "execution_count": 7,
      "outputs": [
        {
          "output_type": "execute_result",
          "data": {
            "text/plain": [
              "Index(['Movie_ID', 'Movie_Title', 'Movie_Genre', 'Movie_Language',\n",
              "       'Movie_Budget', 'Movie_Popularity', 'Movie_Release_Date',\n",
              "       'Movie_Revenue', 'Movie_Runtime', 'Movie_Vote', 'Movie_Vote_Count',\n",
              "       'Movie_Homepage', 'Movie_Keywords', 'Movie_Overview',\n",
              "       'Movie_Production_House', 'Movie_Production_Country',\n",
              "       'Movie_Spoken_Language', 'Movie_Tagline', 'Movie_Cast', 'Movie_Crew',\n",
              "       'Movie_Director'],\n",
              "      dtype='object')"
            ]
          },
          "metadata": {},
          "execution_count": 7
        }
      ]
    },
    {
      "cell_type": "markdown",
      "source": [
        "**Get Feature Selection**"
      ],
      "metadata": {
        "id": "KlW7ht_-otjX"
      }
    },
    {
      "cell_type": "code",
      "source": [
        "df_features = df[['Movie_Genre', 'Movie_Keywords', 'Movie_Tagline','Movie_Crew',\n",
        "       'Movie_Director']].fillna('')\n",
        "       # yo can aad your features for recmendation"
      ],
      "metadata": {
        "id": "42Q8lBfgnnmV"
      },
      "execution_count": 8,
      "outputs": []
    },
    {
      "cell_type": "code",
      "source": [
        "df_features.shape"
      ],
      "metadata": {
        "colab": {
          "base_uri": "https://localhost:8080/"
        },
        "id": "CnvAhXu5pygo",
        "outputId": "dee6e4f3-6759-45cf-af2a-b6777b7cd7ba"
      },
      "execution_count": 9,
      "outputs": [
        {
          "output_type": "execute_result",
          "data": {
            "text/plain": [
              "(4760, 5)"
            ]
          },
          "metadata": {},
          "execution_count": 9
        }
      ]
    },
    {
      "cell_type": "code",
      "source": [
        "df_features"
      ],
      "metadata": {
        "colab": {
          "base_uri": "https://localhost:8080/",
          "height": 423
        },
        "id": "RE1ihkp-qF1N",
        "outputId": "ff7174be-c873-4d06-95b1-3493c72b1d40"
      },
      "execution_count": 10,
      "outputs": [
        {
          "output_type": "execute_result",
          "data": {
            "text/plain": [
              "                           Movie_Genre  \\\n",
              "0                         Crime Comedy   \n",
              "1     Adventure Action Science Fiction   \n",
              "2                     Animation Family   \n",
              "3                 Comedy Drama Romance   \n",
              "4                                Drama   \n",
              "...                                ...   \n",
              "4755                            Horror   \n",
              "4756               Comedy Family Drama   \n",
              "4757                    Thriller Drama   \n",
              "4758                            Family   \n",
              "4759                       Documentary   \n",
              "\n",
              "                                         Movie_Keywords  \\\n",
              "0             hotel new year's eve witch bet hotel room   \n",
              "1           android galaxy hermit death star lightsaber   \n",
              "2     father son relationship harbor underwater fish...   \n",
              "3     vietnam veteran hippie mentally disabled runni...   \n",
              "4     male nudity female nudity adultery midlife cri...   \n",
              "...                                                 ...   \n",
              "4755                                                      \n",
              "4756                                                      \n",
              "4757                     christian film sex trafficking   \n",
              "4758                                                      \n",
              "4759  music actors legendary perfomer classic hollyw...   \n",
              "\n",
              "                                          Movie_Tagline  \\\n",
              "0     Twelve outrageous guests. Four scandalous requ...   \n",
              "1          A long time ago in a galaxy far, far away...   \n",
              "2     There are 3.7 trillion fish in the ocean, they...   \n",
              "3     The world will never be the same, once you've ...   \n",
              "4                                          Look closer.   \n",
              "...                                                 ...   \n",
              "4755                The hot spot where Satan's waitin'.   \n",
              "4756           It’s better to stand out than to fit in.   \n",
              "4757           She never knew it could happen to her...   \n",
              "4758                                                      \n",
              "4759                                                      \n",
              "\n",
              "                                             Movie_Crew     Movie_Director  \n",
              "0     [{'name': 'Allison Anders', 'gender': 1, 'depa...     Allison Anders  \n",
              "1     [{'name': 'George Lucas', 'gender': 2, 'depart...       George Lucas  \n",
              "2     [{'name': 'Andrew Stanton', 'gender': 2, 'depa...     Andrew Stanton  \n",
              "3     [{'name': 'Alan Silvestri', 'gender': 2, 'depa...    Robert Zemeckis  \n",
              "4     [{'name': 'Thomas Newman', 'gender': 2, 'depar...         Sam Mendes  \n",
              "...                                                 ...                ...  \n",
              "4755  [{'name': 'Pece Dingo', 'gender': 0, 'departme...         Pece Dingo  \n",
              "4756  [{'name': 'Frank Lotito', 'gender': 0, 'depart...       Frank Lotito  \n",
              "4757  [{'name': 'Jaco Booyens', 'gender': 0, 'depart...       Jaco Booyens  \n",
              "4758                                                 []                     \n",
              "4759  [{'name': 'Simon Napier-Bell', 'gender': 0, 'd...  Simon Napier-Bell  \n",
              "\n",
              "[4760 rows x 5 columns]"
            ],
            "text/html": [
              "\n",
              "  <div id=\"df-3deaa11c-564b-4307-ad10-5db2707755a4\" class=\"colab-df-container\">\n",
              "    <div>\n",
              "<style scoped>\n",
              "    .dataframe tbody tr th:only-of-type {\n",
              "        vertical-align: middle;\n",
              "    }\n",
              "\n",
              "    .dataframe tbody tr th {\n",
              "        vertical-align: top;\n",
              "    }\n",
              "\n",
              "    .dataframe thead th {\n",
              "        text-align: right;\n",
              "    }\n",
              "</style>\n",
              "<table border=\"1\" class=\"dataframe\">\n",
              "  <thead>\n",
              "    <tr style=\"text-align: right;\">\n",
              "      <th></th>\n",
              "      <th>Movie_Genre</th>\n",
              "      <th>Movie_Keywords</th>\n",
              "      <th>Movie_Tagline</th>\n",
              "      <th>Movie_Crew</th>\n",
              "      <th>Movie_Director</th>\n",
              "    </tr>\n",
              "  </thead>\n",
              "  <tbody>\n",
              "    <tr>\n",
              "      <th>0</th>\n",
              "      <td>Crime Comedy</td>\n",
              "      <td>hotel new year's eve witch bet hotel room</td>\n",
              "      <td>Twelve outrageous guests. Four scandalous requ...</td>\n",
              "      <td>[{'name': 'Allison Anders', 'gender': 1, 'depa...</td>\n",
              "      <td>Allison Anders</td>\n",
              "    </tr>\n",
              "    <tr>\n",
              "      <th>1</th>\n",
              "      <td>Adventure Action Science Fiction</td>\n",
              "      <td>android galaxy hermit death star lightsaber</td>\n",
              "      <td>A long time ago in a galaxy far, far away...</td>\n",
              "      <td>[{'name': 'George Lucas', 'gender': 2, 'depart...</td>\n",
              "      <td>George Lucas</td>\n",
              "    </tr>\n",
              "    <tr>\n",
              "      <th>2</th>\n",
              "      <td>Animation Family</td>\n",
              "      <td>father son relationship harbor underwater fish...</td>\n",
              "      <td>There are 3.7 trillion fish in the ocean, they...</td>\n",
              "      <td>[{'name': 'Andrew Stanton', 'gender': 2, 'depa...</td>\n",
              "      <td>Andrew Stanton</td>\n",
              "    </tr>\n",
              "    <tr>\n",
              "      <th>3</th>\n",
              "      <td>Comedy Drama Romance</td>\n",
              "      <td>vietnam veteran hippie mentally disabled runni...</td>\n",
              "      <td>The world will never be the same, once you've ...</td>\n",
              "      <td>[{'name': 'Alan Silvestri', 'gender': 2, 'depa...</td>\n",
              "      <td>Robert Zemeckis</td>\n",
              "    </tr>\n",
              "    <tr>\n",
              "      <th>4</th>\n",
              "      <td>Drama</td>\n",
              "      <td>male nudity female nudity adultery midlife cri...</td>\n",
              "      <td>Look closer.</td>\n",
              "      <td>[{'name': 'Thomas Newman', 'gender': 2, 'depar...</td>\n",
              "      <td>Sam Mendes</td>\n",
              "    </tr>\n",
              "    <tr>\n",
              "      <th>...</th>\n",
              "      <td>...</td>\n",
              "      <td>...</td>\n",
              "      <td>...</td>\n",
              "      <td>...</td>\n",
              "      <td>...</td>\n",
              "    </tr>\n",
              "    <tr>\n",
              "      <th>4755</th>\n",
              "      <td>Horror</td>\n",
              "      <td></td>\n",
              "      <td>The hot spot where Satan's waitin'.</td>\n",
              "      <td>[{'name': 'Pece Dingo', 'gender': 0, 'departme...</td>\n",
              "      <td>Pece Dingo</td>\n",
              "    </tr>\n",
              "    <tr>\n",
              "      <th>4756</th>\n",
              "      <td>Comedy Family Drama</td>\n",
              "      <td></td>\n",
              "      <td>It’s better to stand out than to fit in.</td>\n",
              "      <td>[{'name': 'Frank Lotito', 'gender': 0, 'depart...</td>\n",
              "      <td>Frank Lotito</td>\n",
              "    </tr>\n",
              "    <tr>\n",
              "      <th>4757</th>\n",
              "      <td>Thriller Drama</td>\n",
              "      <td>christian film sex trafficking</td>\n",
              "      <td>She never knew it could happen to her...</td>\n",
              "      <td>[{'name': 'Jaco Booyens', 'gender': 0, 'depart...</td>\n",
              "      <td>Jaco Booyens</td>\n",
              "    </tr>\n",
              "    <tr>\n",
              "      <th>4758</th>\n",
              "      <td>Family</td>\n",
              "      <td></td>\n",
              "      <td></td>\n",
              "      <td>[]</td>\n",
              "      <td></td>\n",
              "    </tr>\n",
              "    <tr>\n",
              "      <th>4759</th>\n",
              "      <td>Documentary</td>\n",
              "      <td>music actors legendary perfomer classic hollyw...</td>\n",
              "      <td></td>\n",
              "      <td>[{'name': 'Simon Napier-Bell', 'gender': 0, 'd...</td>\n",
              "      <td>Simon Napier-Bell</td>\n",
              "    </tr>\n",
              "  </tbody>\n",
              "</table>\n",
              "<p>4760 rows × 5 columns</p>\n",
              "</div>\n",
              "    <div class=\"colab-df-buttons\">\n",
              "\n",
              "  <div class=\"colab-df-container\">\n",
              "    <button class=\"colab-df-convert\" onclick=\"convertToInteractive('df-3deaa11c-564b-4307-ad10-5db2707755a4')\"\n",
              "            title=\"Convert this dataframe to an interactive table.\"\n",
              "            style=\"display:none;\">\n",
              "\n",
              "  <svg xmlns=\"http://www.w3.org/2000/svg\" height=\"24px\" viewBox=\"0 -960 960 960\">\n",
              "    <path d=\"M120-120v-720h720v720H120Zm60-500h600v-160H180v160Zm220 220h160v-160H400v160Zm0 220h160v-160H400v160ZM180-400h160v-160H180v160Zm440 0h160v-160H620v160ZM180-180h160v-160H180v160Zm440 0h160v-160H620v160Z\"/>\n",
              "  </svg>\n",
              "    </button>\n",
              "\n",
              "  <style>\n",
              "    .colab-df-container {\n",
              "      display:flex;\n",
              "      gap: 12px;\n",
              "    }\n",
              "\n",
              "    .colab-df-convert {\n",
              "      background-color: #E8F0FE;\n",
              "      border: none;\n",
              "      border-radius: 50%;\n",
              "      cursor: pointer;\n",
              "      display: none;\n",
              "      fill: #1967D2;\n",
              "      height: 32px;\n",
              "      padding: 0 0 0 0;\n",
              "      width: 32px;\n",
              "    }\n",
              "\n",
              "    .colab-df-convert:hover {\n",
              "      background-color: #E2EBFA;\n",
              "      box-shadow: 0px 1px 2px rgba(60, 64, 67, 0.3), 0px 1px 3px 1px rgba(60, 64, 67, 0.15);\n",
              "      fill: #174EA6;\n",
              "    }\n",
              "\n",
              "    .colab-df-buttons div {\n",
              "      margin-bottom: 4px;\n",
              "    }\n",
              "\n",
              "    [theme=dark] .colab-df-convert {\n",
              "      background-color: #3B4455;\n",
              "      fill: #D2E3FC;\n",
              "    }\n",
              "\n",
              "    [theme=dark] .colab-df-convert:hover {\n",
              "      background-color: #434B5C;\n",
              "      box-shadow: 0px 1px 3px 1px rgba(0, 0, 0, 0.15);\n",
              "      filter: drop-shadow(0px 1px 2px rgba(0, 0, 0, 0.3));\n",
              "      fill: #FFFFFF;\n",
              "    }\n",
              "  </style>\n",
              "\n",
              "    <script>\n",
              "      const buttonEl =\n",
              "        document.querySelector('#df-3deaa11c-564b-4307-ad10-5db2707755a4 button.colab-df-convert');\n",
              "      buttonEl.style.display =\n",
              "        google.colab.kernel.accessAllowed ? 'block' : 'none';\n",
              "\n",
              "      async function convertToInteractive(key) {\n",
              "        const element = document.querySelector('#df-3deaa11c-564b-4307-ad10-5db2707755a4');\n",
              "        const dataTable =\n",
              "          await google.colab.kernel.invokeFunction('convertToInteractive',\n",
              "                                                    [key], {});\n",
              "        if (!dataTable) return;\n",
              "\n",
              "        const docLinkHtml = 'Like what you see? Visit the ' +\n",
              "          '<a target=\"_blank\" href=https://colab.research.google.com/notebooks/data_table.ipynb>data table notebook</a>'\n",
              "          + ' to learn more about interactive tables.';\n",
              "        element.innerHTML = '';\n",
              "        dataTable['output_type'] = 'display_data';\n",
              "        await google.colab.output.renderOutput(dataTable, element);\n",
              "        const docLink = document.createElement('div');\n",
              "        docLink.innerHTML = docLinkHtml;\n",
              "        element.appendChild(docLink);\n",
              "      }\n",
              "    </script>\n",
              "  </div>\n",
              "\n",
              "\n",
              "<div id=\"df-13508336-f540-471b-ad8d-6dfe5c4c5be8\">\n",
              "  <button class=\"colab-df-quickchart\" onclick=\"quickchart('df-13508336-f540-471b-ad8d-6dfe5c4c5be8')\"\n",
              "            title=\"Suggest charts.\"\n",
              "            style=\"display:none;\">\n",
              "\n",
              "<svg xmlns=\"http://www.w3.org/2000/svg\" height=\"24px\"viewBox=\"0 0 24 24\"\n",
              "     width=\"24px\">\n",
              "    <g>\n",
              "        <path d=\"M19 3H5c-1.1 0-2 .9-2 2v14c0 1.1.9 2 2 2h14c1.1 0 2-.9 2-2V5c0-1.1-.9-2-2-2zM9 17H7v-7h2v7zm4 0h-2V7h2v10zm4 0h-2v-4h2v4z\"/>\n",
              "    </g>\n",
              "</svg>\n",
              "  </button>\n",
              "\n",
              "<style>\n",
              "  .colab-df-quickchart {\n",
              "    background-color: #E8F0FE;\n",
              "    border: none;\n",
              "    border-radius: 50%;\n",
              "    cursor: pointer;\n",
              "    display: none;\n",
              "    fill: #1967D2;\n",
              "    height: 32px;\n",
              "    padding: 0 0 0 0;\n",
              "    width: 32px;\n",
              "  }\n",
              "\n",
              "  .colab-df-quickchart:hover {\n",
              "    background-color: #E2EBFA;\n",
              "    box-shadow: 0px 1px 2px rgba(60, 64, 67, 0.3), 0px 1px 3px 1px rgba(60, 64, 67, 0.15);\n",
              "    fill: #174EA6;\n",
              "  }\n",
              "\n",
              "  [theme=dark] .colab-df-quickchart {\n",
              "    background-color: #3B4455;\n",
              "    fill: #D2E3FC;\n",
              "  }\n",
              "\n",
              "  [theme=dark] .colab-df-quickchart:hover {\n",
              "    background-color: #434B5C;\n",
              "    box-shadow: 0px 1px 3px 1px rgba(0, 0, 0, 0.15);\n",
              "    filter: drop-shadow(0px 1px 2px rgba(0, 0, 0, 0.3));\n",
              "    fill: #FFFFFF;\n",
              "  }\n",
              "</style>\n",
              "\n",
              "  <script>\n",
              "    async function quickchart(key) {\n",
              "      const charts = await google.colab.kernel.invokeFunction(\n",
              "          'suggestCharts', [key], {});\n",
              "    }\n",
              "    (() => {\n",
              "      let quickchartButtonEl =\n",
              "        document.querySelector('#df-13508336-f540-471b-ad8d-6dfe5c4c5be8 button');\n",
              "      quickchartButtonEl.style.display =\n",
              "        google.colab.kernel.accessAllowed ? 'block' : 'none';\n",
              "    })();\n",
              "  </script>\n",
              "</div>\n",
              "    </div>\n",
              "  </div>\n"
            ]
          },
          "metadata": {},
          "execution_count": 10
        }
      ]
    },
    {
      "cell_type": "code",
      "source": [
        "x = df_features['Movie_Genre']+ ' ' +df_features['Movie_Keywords']+ ' ' +df_features['Movie_Tagline']+ ' ' +df_features['Movie_Crew']+ ' ' +df_features['Movie_Director']"
      ],
      "metadata": {
        "id": "x_7__sCHqJ_t"
      },
      "execution_count": 11,
      "outputs": []
    },
    {
      "cell_type": "code",
      "source": [
        "x"
      ],
      "metadata": {
        "colab": {
          "base_uri": "https://localhost:8080/"
        },
        "id": "kM8PcBt9q3Dy",
        "outputId": "29663048-cbf0-446d-8890-d4d1c7b4dbdb"
      },
      "execution_count": 12,
      "outputs": [
        {
          "output_type": "execute_result",
          "data": {
            "text/plain": [
              "0       Crime Comedy hotel new year's eve witch bet ho...\n",
              "1       Adventure Action Science Fiction android galax...\n",
              "2       Animation Family father son relationship harbo...\n",
              "3       Comedy Drama Romance vietnam veteran hippie me...\n",
              "4       Drama male nudity female nudity adultery midli...\n",
              "                              ...                        \n",
              "4755    Horror  The hot spot where Satan's waitin'. [{...\n",
              "4756    Comedy Family Drama  It’s better to stand out ...\n",
              "4757    Thriller Drama christian film sex trafficking ...\n",
              "4758                                         Family   [] \n",
              "4759    Documentary music actors legendary perfomer cl...\n",
              "Length: 4760, dtype: object"
            ]
          },
          "metadata": {},
          "execution_count": 12
        }
      ]
    },
    {
      "cell_type": "markdown",
      "source": [
        "**Get feature text conversion to token**"
      ],
      "metadata": {
        "id": "1UL27TnKsrX8"
      }
    },
    {
      "cell_type": "code",
      "source": [
        "from sklearn.feature_extraction.text import TfidfVectorizer"
      ],
      "metadata": {
        "id": "wolnnXiEsgCk"
      },
      "execution_count": 13,
      "outputs": []
    },
    {
      "cell_type": "code",
      "source": [
        "tfidf = TfidfVectorizer()"
      ],
      "metadata": {
        "id": "ZpGkd-vetMEC"
      },
      "execution_count": 14,
      "outputs": []
    },
    {
      "cell_type": "code",
      "source": [
        "x= tfidf.fit_transform(x)"
      ],
      "metadata": {
        "id": "6yeMM3aMtQGH"
      },
      "execution_count": 15,
      "outputs": []
    },
    {
      "cell_type": "code",
      "source": [
        "x.shape"
      ],
      "metadata": {
        "colab": {
          "base_uri": "https://localhost:8080/"
        },
        "id": "xCqj1XEwtcHp",
        "outputId": "e7d769a9-ddbd-4dcc-e73c-158af2373230"
      },
      "execution_count": 16,
      "outputs": [
        {
          "output_type": "execute_result",
          "data": {
            "text/plain": [
              "(4760, 220751)"
            ]
          },
          "metadata": {},
          "execution_count": 16
        }
      ]
    },
    {
      "cell_type": "code",
      "source": [
        "print(x)"
      ],
      "metadata": {
        "colab": {
          "base_uri": "https://localhost:8080/"
        },
        "id": "Qmb2NPKqteu1",
        "outputId": "c6deefee-6fe5-4f7d-e2d7-f230f51adcc3"
      },
      "execution_count": 17,
      "outputs": [
        {
          "output_type": "stream",
          "name": "stdout",
          "text": [
            "  (0, 36543)\t0.03141479190946442\n",
            "  (0, 172232)\t0.03141479190946442\n",
            "  (0, 215772)\t0.01834541200708488\n",
            "  (0, 214931)\t0.018164107118997533\n",
            "  (0, 217120)\t0.03141479190946442\n",
            "  (0, 198510)\t0.015552439370705076\n",
            "  (0, 36542)\t0.03141479190946442\n",
            "  (0, 172223)\t0.03141479190946442\n",
            "  (0, 193386)\t0.010312791983180011\n",
            "  (0, 194545)\t0.029963224223647014\n",
            "  (0, 189712)\t0.007233265940302802\n",
            "  (0, 36534)\t0.03141479190946442\n",
            "  (0, 172195)\t0.03141479190946442\n",
            "  (0, 181257)\t0.014100871684887672\n",
            "  (0, 196551)\t0.02603018518876385\n",
            "  (0, 189829)\t0.013947916109140686\n",
            "  (0, 36533)\t0.03141479190946442\n",
            "  (0, 172192)\t0.03141479190946442\n",
            "  (0, 193970)\t0.010239578666616542\n",
            "  (0, 213770)\t0.010989252381706416\n",
            "  (0, 36532)\t0.03141479190946442\n",
            "  (0, 172191)\t0.03141479190946442\n",
            "  (0, 191810)\t0.01420172360498701\n",
            "  (0, 189974)\t0.03141479190946442\n",
            "  (0, 203484)\t0.023548713839698095\n",
            "  :\t:\n",
            "  (4757, 206176)\t0.0658100367142032\n",
            "  (4757, 198894)\t0.0658100367142032\n",
            "  (4758, 192639)\t1.0\n",
            "  (4759, 5231)\t0.29094078290960956\n",
            "  (4759, 166256)\t0.29094078290960956\n",
            "  (4759, 208263)\t0.29094078290960956\n",
            "  (4759, 201721)\t0.26056080079775257\n",
            "  (4759, 213488)\t0.27749742666599325\n",
            "  (4759, 188043)\t0.24107250113025472\n",
            "  (4759, 197290)\t0.22642336124076246\n",
            "  (4759, 206203)\t0.46883836949332053\n",
            "  (4759, 181296)\t0.25451585737387106\n",
            "  (4759, 190774)\t0.15689181687575499\n",
            "  (4759, 184131)\t0.31736887402054376\n",
            "  (4759, 193595)\t0.11203765779256054\n",
            "  (4759, 213462)\t0.24230510347010784\n",
            "  (4759, 205999)\t0.041739480520340724\n",
            "  (4759, 197848)\t0.033253035065188806\n",
            "  (4759, 189052)\t0.033253035065188806\n",
            "  (4759, 190638)\t0.03326700699799127\n",
            "  (4759, 190635)\t0.03326700699799127\n",
            "  (4759, 190190)\t0.033253035065188806\n",
            "  (4759, 194401)\t0.033253035065188806\n",
            "  (4759, 206176)\t0.033253035065188806\n",
            "  (4759, 198894)\t0.033253035065188806\n"
          ]
        }
      ]
    },
    {
      "cell_type": "markdown",
      "source": [
        "**Get Similarity Score Using COSINE SIMILARITY**"
      ],
      "metadata": {
        "id": "Om01VgiLtvQU"
      }
    },
    {
      "cell_type": "code",
      "source": [
        "from sklearn.metrics.pairwise import cosine_similarity"
      ],
      "metadata": {
        "id": "oBtQ1Qk4tft_"
      },
      "execution_count": 18,
      "outputs": []
    },
    {
      "cell_type": "code",
      "source": [
        "similarity_score = cosine_similarity(x)"
      ],
      "metadata": {
        "id": "6Ox50P_VuJEd"
      },
      "execution_count": 19,
      "outputs": []
    },
    {
      "cell_type": "code",
      "source": [
        "similarity_score"
      ],
      "metadata": {
        "colab": {
          "base_uri": "https://localhost:8080/"
        },
        "id": "JyoLmWgvuS9D",
        "outputId": "38935e27-d4a9-4a4d-b220-b000a6164060"
      },
      "execution_count": 20,
      "outputs": [
        {
          "output_type": "execute_result",
          "data": {
            "text/plain": [
              "array([[1.        , 0.47197135, 0.64240029, ..., 0.13005675, 0.        ,\n",
              "        0.06587602],\n",
              "       [0.47197135, 1.        , 0.48133965, ..., 0.0978164 , 0.        ,\n",
              "        0.04724615],\n",
              "       [0.64240029, 0.48133965, 1.        , ..., 0.1268782 , 0.00878771,\n",
              "        0.06515258],\n",
              "       ...,\n",
              "       [0.13005675, 0.0978164 , 0.1268782 , ..., 1.        , 0.        ,\n",
              "        0.01459045],\n",
              "       [0.        , 0.        , 0.00878771, ..., 0.        , 1.        ,\n",
              "        0.        ],\n",
              "       [0.06587602, 0.04724615, 0.06515258, ..., 0.01459045, 0.        ,\n",
              "        1.        ]])"
            ]
          },
          "metadata": {},
          "execution_count": 20
        }
      ]
    },
    {
      "cell_type": "markdown",
      "source": [
        "**Get A movie name from the user and validate for closest spelling**"
      ],
      "metadata": {
        "id": "Gwq9naDFul52"
      }
    },
    {
      "cell_type": "code",
      "source": [
        "Favourite_Movie_Name = input(\"Enter the movie name: \")"
      ],
      "metadata": {
        "colab": {
          "base_uri": "https://localhost:8080/"
        },
        "id": "ZO4RASXwuV55",
        "outputId": "ae661716-ce64-48a0-bdc6-102f3ca0ba2e"
      },
      "execution_count": 21,
      "outputs": [
        {
          "name": "stdout",
          "output_type": "stream",
          "text": [
            "Enter the movie name: avtaar\n"
          ]
        }
      ]
    },
    {
      "cell_type": "code",
      "source": [
        "All_Movies_Title_List = df['Movie_Title'].tolist()"
      ],
      "metadata": {
        "id": "MtiW1hcfu857"
      },
      "execution_count": 22,
      "outputs": []
    },
    {
      "cell_type": "code",
      "source": [
        "import difflib"
      ],
      "metadata": {
        "id": "J-UsPCeiv2i4"
      },
      "execution_count": 23,
      "outputs": []
    },
    {
      "cell_type": "code",
      "source": [
        "Movie_Recommendation = difflib.get_close_matches(Favourite_Movie_Name, All_Movies_Title_List)\n",
        "print(Movie_Recommendation)"
      ],
      "metadata": {
        "colab": {
          "base_uri": "https://localhost:8080/"
        },
        "id": "CHQxvJUpv6GO",
        "outputId": "af6a9009-6052-4979-c0c9-01e4b00f3a87"
      },
      "execution_count": 24,
      "outputs": [
        {
          "output_type": "stream",
          "name": "stdout",
          "text": [
            "['Avatar', 'Gattaca']\n"
          ]
        }
      ]
    },
    {
      "cell_type": "code",
      "source": [
        "Close_Match = Movie_Recommendation[0]\n",
        "print(Close_Match)"
      ],
      "metadata": {
        "colab": {
          "base_uri": "https://localhost:8080/"
        },
        "id": "hAPDTfcqw33K",
        "outputId": "4365baa9-efef-46a6-b5c2-87bd1b2f9d3b"
      },
      "execution_count": 25,
      "outputs": [
        {
          "output_type": "stream",
          "name": "stdout",
          "text": [
            "Avatar\n"
          ]
        }
      ]
    },
    {
      "cell_type": "code",
      "source": [
        "Index_Of_Close_Match_Movie = df[df.Movie_Title == Close_Match]['Movie_ID'].values[0]\n",
        "print(Index_Of_Close_Match_Movie)"
      ],
      "metadata": {
        "colab": {
          "base_uri": "https://localhost:8080/"
        },
        "id": "5rP_bNcLxLJw",
        "outputId": "385edfd9-56fe-49dc-81a3-6b4aba512155"
      },
      "execution_count": 26,
      "outputs": [
        {
          "output_type": "stream",
          "name": "stdout",
          "text": [
            "2692\n"
          ]
        }
      ]
    },
    {
      "cell_type": "code",
      "source": [
        "# getting list of similar movies\n",
        "Recommendation_Score = list(enumerate(similarity_score[Index_Of_Close_Match_Movie]))\n",
        "print(Recommendation_Score)"
      ],
      "metadata": {
        "colab": {
          "base_uri": "https://localhost:8080/"
        },
        "id": "d2tqS6LjyG4T",
        "outputId": "4689eb45-e8cc-4725-8c2c-7f434f44a214"
      },
      "execution_count": 27,
      "outputs": [
        {
          "output_type": "stream",
          "name": "stdout",
          "text": [
            "[(0, 0.511776251134308), (1, 0.3699352140025777), (2, 0.48891508598937017), (3, 0.544050543853315), (4, 0.5452730423346446), (5, 0.46217319987030153), (6, 0.5498592835833316), (7, 0.31110647400391195), (8, 0.3154455692979447), (9, 0.5470783567326195), (10, 0.5598557830662984), (11, 0.26434435988612087), (12, 0.4562342551996812), (13, 0.4697618027636871), (14, 0.43988573164177314), (15, 0.33676252257864703), (16, 0.4164786263281736), (17, 0.3868045456011173), (18, 0.4322010611072199), (19, 0.31954322108920014), (20, 0.5297535628025201), (21, 0.3402470595227339), (22, 0.41359489327878074), (23, 0.5176086373017226), (24, 0.5117481273780965), (25, 0.32656807922741454), (26, 0.5280101010129652), (27, 0.5663074530873962), (28, 0.3926609950730266), (29, 0.2858264264274816), (30, 0.3640299956826224), (31, 0.43816412154070994), (32, 0.2944648087174973), (33, 0.26665631234833126), (34, 0.34063627474579095), (35, 0.4782996929990335), (36, 0.4161089532796346), (37, 0.4746128424756606), (38, 0.32242617230354276), (39, 0.5428118127646883), (40, 0.41296052415866263), (41, 0.5485697298816052), (42, 0.28341143176319117), (43, 0.46828784117628386), (44, 0.41617294799911264), (45, 0.4843539114218962), (46, 0.5036524396005948), (47, 0.49290910389588805), (48, 0.46737473191381534), (49, 0.2681678597496464), (50, 0.5335208804230352), (51, 0.4561142136788476), (52, 0.4286748853962683), (53, 0.5431258493308787), (54, 0.41690211275664374), (55, 0.44168731299928904), (56, 0.41413602294488594), (57, 0.367527658728455), (58, 0.3572862603691684), (59, 0.40400976587558635), (60, 0.4815986128880256), (61, 0.4515445645574934), (62, 0.4438536615776654), (63, 0.2656862987034455), (64, 0.30075634707562804), (65, 0.364841742187759), (66, 0.42499628296471476), (67, 0.3101268579111444), (68, 0.5337446042352596), (69, 0.30481528529879504), (70, 0.5563277440483959), (71, 0.31447465011792747), (72, 0.5360813367868164), (73, 0.4027838393775912), (74, 0.514676475605125), (75, 0.3270280016291055), (76, 0.5255267810166906), (77, 0.4338039589898773), (78, 0.26074610451358987), (79, 0.2731627755380649), (80, 0.3034113130084479), (81, 0.5022645948009317), (82, 0.2874209918569472), (83, 0.5437731524791907), (84, 0.561811490728559), (85, 0.4925077266501259), (86, 0.22319817761762054), (87, 0.31968434803735846), (88, 0.5208197042951241), (89, 0.4685427886535434), (90, 0.3312631362233788), (91, 0.35350543332111234), (92, 0.5143270720116906), (93, 0.3719756057051475), (94, 0.36895060107504685), (95, 0.391322676842426), (96, 0.2241583650206965), (97, 0.43325680184946624), (98, 0.27340200017846494), (99, 0.3027221705030676), (100, 0.3664872573314756), (101, 0.33615692467176383), (102, 0.4891795258118982), (103, 0.35778341628437715), (104, 0.43271751916923323), (105, 0.38082672806976076), (106, 0.256342407172656), (107, 0.4844437706234491), (108, 0.27996230754891177), (109, 0.46812005993998346), (110, 0.46318427461231004), (111, 0.4833629604803022), (112, 0.36731094014936727), (113, 0.3018115821117133), (114, 0.30913726133171426), (115, 0.2340560373730828), (116, 0.49649837359181276), (117, 0.30204731420580705), (118, 0.3536181526614392), (119, 0.4488338766675629), (120, 0.3237317361689153), (121, 0.33481345658916983), (122, 0.29224350246141456), (123, 0.5543911722256821), (124, 0.5242812826348178), (125, 0.5175891307575672), (126, 0.5234194997651648), (127, 0.38305872134270885), (128, 0.5137883946009654), (129, 0.3782318923344871), (130, 0.4468053211658744), (131, 0.4298829825378529), (132, 0.4196362589734094), (133, 0.19755116322670546), (134, 0.27069775200932905), (135, 0.5566390759847638), (136, 0.5375823527604435), (137, 0.4943031032768518), (138, 0.26073588534589687), (139, 0.2920381459272882), (140, 0.25324647396635935), (141, 0.5418492557859619), (142, 0.37538777239328414), (143, 0.5635540881211022), (144, 0.4411229074613524), (145, 0.4595086934264061), (146, 0.2587778372710532), (147, 0.2735405186624215), (148, 0.34612232711148744), (149, 0.28277605538031925), (150, 0.5242020646040629), (151, 0.5259944956346183), (152, 0.5356979637681275), (153, 0.22875767275235712), (154, 0.4660422378496978), (155, 0.27327171073405115), (156, 0.431014698257109), (157, 0.32663579847838115), (158, 0.3003333362320488), (159, 0.29070168172291894), (160, 0.42382601364677874), (161, 0.35048329784097654), (162, 0.3408080398063037), (163, 0.324747353819601), (164, 0.5004206210993979), (165, 0.42494968579374365), (166, 0.39956683561574785), (167, 0.3208730838854289), (168, 0.3815517637665625), (169, 0.45871181978965603), (170, 0.5486931086817618), (171, 0.535082474608366), (172, 0.3981336946952226), (173, 0.245055808498238), (174, 0.3733688455563815), (175, 0.455169877779776), (176, 0.3402280890066106), (177, 0.44974511429151764), (178, 0.3605336021355595), (179, 0.40793009514888123), (180, 0.35462229654766914), (181, 0.5370240489225141), (182, 0.3599180619275772), (183, 0.44783048833726613), (184, 0.42874501074804905), (185, 0.4620791207250731), (186, 0.38102203912918775), (187, 0.45455676856437555), (188, 0.32546663097215284), (189, 0.557003185903767), (190, 0.4774613354012835), (191, 0.4906128454855816), (192, 0.26329000421804943), (193, 0.5039924145747412), (194, 0.29099796713287274), (195, 0.31384017282081456), (196, 0.5429273621913591), (197, 0.28248002367851666), (198, 0.27614988768608795), (199, 0.2690288186465932), (200, 0.23230152421421252), (201, 0.3061587061746614), (202, 0.30393817920868466), (203, 0.4830114380692314), (204, 0.3847513301931952), (205, 0.3486203431874394), (206, 0.4776573098923579), (207, 0.4920487061688017), (208, 0.4076644005857045), (209, 0.4023313019676934), (210, 0.222710081039063), (211, 0.35361821029029367), (212, 0.2934911368634386), (213, 0.45303265500818274), (214, 0.3205809725808799), (215, 0.5040517070200565), (216, 0.25120766081605617), (217, 0.35163760565964686), (218, 0.34466567634343337), (219, 0.39215289361380357), (220, 0.48556095437536284), (221, 0.36743789970792406), (222, 0.3776332454179382), (223, 0.32429150624159203), (224, 0.30268169599134825), (225, 0.5179643767602449), (226, 0.3118181974397784), (227, 0.41200330425962306), (228, 0.365313480255845), (229, 0.5413713140716107), (230, 0.5490010153298291), (231, 0.5526145550202819), (232, 0.46724978251389576), (233, 0.525065784317955), (234, 0.4681874280767836), (235, 0.5420729339209949), (236, 0.25846193025479586), (237, 0.41047636115237446), (238, 0.33743184870913584), (239, 0.42219719586562976), (240, 0.39586353150523557), (241, 0.3582673207150431), (242, 0.5101447353202073), (243, 0.4024234642320518), (244, 0.5379229209829977), (245, 0.49504629124168376), (246, 0.44995375594026155), (247, 0.5599792350446446), (248, 0.4001585663756719), (249, 0.34255206185925346), (250, 0.5345237820437189), (251, 0.31292016198582095), (252, 0.33759047351227267), (253, 0.5351121864293447), (254, 0.43515845061876113), (255, 0.49824262184885937), (256, 0.40495829840369585), (257, 0.3761767487749548), (258, 0.4961554229282321), (259, 0.4934727683690871), (260, 0.37498015440583626), (261, 0.3859006882396627), (262, 0.369126676421233), (263, 0.5443156274590758), (264, 0.5586337005631424), (265, 0.4125920865654504), (266, 0.3778821006061921), (267, 0.4639255280553619), (268, 0.534240111093347), (269, 0.3480446423311315), (270, 0.24833836358168163), (271, 0.4940338650672709), (272, 0.346375679121573), (273, 0.345489062935284), (274, 0.46954172094314783), (275, 0.3495715041139596), (276, 0.49978586959986676), (277, 0.3599904324683532), (278, 0.5318423432532112), (279, 0.33410213671917577), (280, 0.554238350462729), (281, 0.3838618159294536), (282, 0.352756150841525), (283, 0.5535099871973714), (284, 0.2936573993601199), (285, 0.3073473648398793), (286, 0.54713699280755), (287, 0.2646031669037449), (288, 0.4271791715332842), (289, 0.3046303957300944), (290, 0.3317158212988258), (291, 0.366676785986496), (292, 0.5296120668889314), (293, 0.41419341322671616), (294, 0.275288600349341), (295, 0.3136350107184491), (296, 0.2624728780222512), (297, 0.5576821736976477), (298, 0.5547110004146624), (299, 0.5574170899538122), (300, 0.44225232493536004), (301, 0.41836989388545187), (302, 0.5464154324933951), (303, 0.45077737908037885), (304, 0.46957248364387144), (305, 0.36972744659120704), (306, 0.39569387033272113), (307, 0.5645188915471987), (308, 0.5180082409715979), (309, 0.268973193124419), (310, 0.3733219151400695), (311, 0.15294054819268438), (312, 0.5374818208830988), (313, 0.33598828815966986), (314, 0.35568459896823984), (315, 0.35500277154612675), (316, 0.3702478790111825), (317, 0.38668848737267014), (318, 0.4752131875791091), (319, 0.25133015037735357), (320, 0.35010154152892303), (321, 0.3634296951105558), (322, 0.3674522042100039), (323, 0.4745569012030839), (324, 0.2506901645042092), (325, 0.3066606167215352), (326, 0.2088018726390907), (327, 0.3746990049004228), (328, 0.4625113727897067), (329, 0.5314703191039194), (330, 0.40855376537718757), (331, 0.3354630122371899), (332, 0.5181804187470598), (333, 0.46738780970029703), (334, 0.4915944479529835), (335, 0.4136381518721637), (336, 0.29500347306505303), (337, 0.25734686889850356), (338, 0.3734566491036781), (339, 0.3363472808589227), (340, 0.4201691890902731), (341, 0.5180181608326002), (342, 0.5115073983294579), (343, 0.5024981457621656), (344, 0.4702161309989336), (345, 0.3060334192985685), (346, 0.5010067140845432), (347, 0.48104632271835535), (348, 0.43496107809372997), (349, 0.3131069333678922), (350, 0.37289158149829593), (351, 0.3639338251603579), (352, 0.4431725534556432), (353, 0.4297805237351604), (354, 0.4464868975729206), (355, 0.3011051410385092), (356, 0.25290314125185387), (357, 0.3353628283713569), (358, 0.2363581174294653), (359, 0.2981154747084293), (360, 0.5332826224684384), (361, 0.49489077630388284), (362, 0.4913459004139008), (363, 0.32125691456287864), (364, 0.25172302140956127), (365, 0.4677172774630259), (366, 0.37723365386333646), (367, 0.3861806264389856), (368, 0.4176451359969229), (369, 0.5561922421839756), (370, 0.307656765883723), (371, 0.5266286236526792), (372, 0.4010909597279346), (373, 0.3150905714831298), (374, 0.2997674236516048), (375, 0.3683647031514024), (376, 0.35783554635659676), (377, 0.32213515749984667), (378, 0.42021282015579875), (379, 0.4678070502165975), (380, 0.33680957282361884), (381, 0.3248660727561564), (382, 0.32756669689980755), (383, 0.2801852654663299), (384, 0.5084105217281272), (385, 0.30543959097996937), (386, 0.5573110061179802), (387, 0.5386922362071499), (388, 0.2750025776787907), (389, 0.3343603031372013), (390, 0.3911861365671985), (391, 0.4692067149430192), (392, 0.46995655558132904), (393, 0.2856750282408508), (394, 0.35774978271814134), (395, 0.3080482234966167), (396, 0.3117740874224172), (397, 0.38313658888285634), (398, 0.35042329047786874), (399, 0.3519715791542837), (400, 0.3217179429616753), (401, 0.35177707480185305), (402, 0.4861319424836411), (403, 0.2872852147617713), (404, 0.4100092475372457), (405, 0.36503110520940185), (406, 0.19141216540881975), (407, 0.4322103369495189), (408, 0.3406369907735611), (409, 0.4125315814070562), (410, 0.4769018380324421), (411, 0.5490097496242309), (412, 0.34045369349556465), (413, 0.4983648698624694), (414, 0.35559150974795317), (415, 0.3650700348579539), (416, 0.3898287403320221), (417, 0.35268128794684467), (418, 0.5308599681823848), (419, 0.47957526807512296), (420, 0.3330728788090702), (421, 0.24341812178639322), (422, 0.42357955154432914), (423, 0.4640523022992311), (424, 0.5323840248203927), (425, 0.5506990087160396), (426, 0.4158315624275696), (427, 0.3688611804982353), (428, 0.29033175554605795), (429, 0.36815185463664907), (430, 0.16469424251964998), (431, 0.3232815695550114), (432, 0.27303004075795817), (433, 0.31621692247969696), (434, 0.23858163847681738), (435, 0.378923346724664), (436, 0.48219876321969446), (437, 0.2258258373777537), (438, 0.3651369566692814), (439, 0.4550509164545371), (440, 0.30412514125741463), (441, 0.22265963464104682), (442, 0.29665079140548656), (443, 0.5046583792671048), (444, 0.544148131063569), (445, 0.30767219056097395), (446, 0.4483425339754563), (447, 0.5038052189351256), (448, 0.47187597217386135), (449, 0.3810304576031507), (450, 0.36330072957351134), (451, 0.5072796817510845), (452, 0.4724164989058697), (453, 0.2025677890984288), (454, 0.3029827887690415), (455, 0.29567563381710726), (456, 0.38095916263143265), (457, 0.28352568728106264), (458, 0.36831259259450166), (459, 0.3690413957903672), (460, 0.33221159046137877), (461, 0.2659225263701727), (462, 0.1951155124625929), (463, 0.49598749321811497), (464, 0.3946513442636474), (465, 0.4027557501197333), (466, 0.4150902037198764), (467, 0.4847444137979707), (468, 0.41163683763794917), (469, 0.41171165598796194), (470, 0.5216436865050744), (471, 0.242864043011756), (472, 0.49852272692586397), (473, 0.30013327122305455), (474, 0.3137170283157013), (475, 0.17697953810961392), (476, 0.45393892204544506), (477, 0.3035221933442815), (478, 0.24419455637853385), (479, 0.31190369921911804), (480, 0.4245790205991442), (481, 0.5336186115543061), (482, 0.2940149358772591), (483, 0.3835749980647261), (484, 0.43768481256861186), (485, 0.397458374251869), (486, 0.33633617621461404), (487, 0.14797453336864422), (488, 0.33002862219420104), (489, 0.4364744006806803), (490, 0.3400340491876226), (491, 0.3587972803520368), (492, 0.5336413038224048), (493, 0.44987207095055304), (494, 0.4466001054301596), (495, 0.2835788445005212), (496, 0.5346550995228455), (497, 0.31014736629318473), (498, 0.22332284785093676), (499, 0.4540857972352078), (500, 0.45555553152260164), (501, 0.22982492619459507), (502, 0.559615031121495), (503, 0.3287626332879623), (504, 0.3720493011234727), (505, 0.34183284042149586), (506, 0.41060677908817556), (507, 0.3532110574399723), (508, 0.28520944924892777), (509, 0.4047433306857413), (510, 0.2373635521384058), (511, 0.44913183162207226), (512, 0.5426163937662632), (513, 0.483509566913752), (514, 0.5210307457371846), (515, 0.31682663834450775), (516, 0.5199766807235974), (517, 0.5207246076572943), (518, 0.485314256184486), (519, 0.5119944907263165), (520, 0.246661716965208), (521, 0.3575977298439094), (522, 0.394627027987829), (523, 0.5220920969279041), (524, 0.10127458320701029), (525, 0.2911442777125084), (526, 0.3531724159516928), (527, 0.3501368792059648), (528, 0.3604208314019033), (529, 0.520820132377786), (530, 0.47671642310435647), (531, 0.21404352420935036), (532, 0.39038808595970287), (533, 0.3107067570731224), (534, 0.32979949603637293), (535, 0.3613510138764623), (536, 0.5194418359767429), (537, 0.5016537206218457), (538, 0.33018740427613796), (539, 0.28485008566652203), (540, 0.5357185402353871), (541, 0.42157910561208256), (542, 0.15820040933338347), (543, 0.2958263601416287), (544, 0.5185842067242669), (545, 0.2970782674730392), (546, 0.2951739397669844), (547, 0.201391526451243), (548, 0.3787198993618713), (549, 0.19624565281086806), (550, 0.30599864362463597), (551, 0.4390074428018911), (552, 0.3421673999810522), (553, 0.3151872759019806), (554, 0.3411032017598894), (555, 0.22492661252318769), (556, 0.46263560000590165), (557, 0.3225299528805664), (558, 0.45492832249833354), (559, 0.19974769878728726), (560, 0.4455737404286977), (561, 0.23626534159633922), (562, 0.35492545853542423), (563, 0.39501521354439373), (564, 0.29647360378940457), (565, 0.38014798392179294), (566, 0.4320085585990676), (567, 0.36993294593606996), (568, 0.344862351451692), (569, 0.2729378915477402), (570, 0.3501869829278285), (571, 0.3088316787268731), (572, 0.5312789922769183), (573, 0.1547688089937342), (574, 0.11659450466076274), (575, 0.32198378186381915), (576, 0.32388394999858194), (577, 0.24835717685072067), (578, 0.3231666236737153), (579, 0.12467096159991738), (580, 0.3191734198235069), (581, 0.3081471700956405), (582, 0.35793219293788103), (583, 0.5519171309740994), (584, 0.30755437353316994), (585, 0.3073714396874283), (586, 0.45750826853415705), (587, 0.3870639631338927), (588, 0.539579595648771), (589, 0.37406936634253385), (590, 0.4592009281469767), (591, 0.4631951736940484), (592, 0.4577014403386075), (593, 0.3355853876745706), (594, 0.5348078713647808), (595, 0.24862375977078466), (596, 0.3368866220347164), (597, 0.36770204314014526), (598, 0.3238966320863321), (599, 0.4866627824891147), (600, 0.2960856357601134), (601, 0.31682892521866424), (602, 0.36427617973093573), (603, 0.36202978650299866), (604, 0.424834886189721), (605, 0.2874066590207134), (606, 0.308616194967779), (607, 0.32450375233303874), (608, 0.28372307840088135), (609, 0.2750643240203335), (610, 0.3238166563166055), (611, 0.4556768480353273), (612, 0.37660228344186414), (613, 0.35814704560984895), (614, 0.5563434509612442), (615, 0.5300678094958005), (616, 0.3019395013969185), (617, 0.46121838927713565), (618, 0.347319360364334), (619, 0.48416738245453494), (620, 0.44630286088054105), (621, 0.5128835529722099), (622, 0.4757533041801373), (623, 0.46348720601964766), (624, 0.2794722477372509), (625, 0.5402270784839676), (626, 0.45799963474956856), (627, 0.2837843250880367), (628, 0.5187273282181962), (629, 0.09986166427926581), (630, 0.1260500735827628), (631, 0.5640205247539789), (632, 0.29607564849549695), (633, 0.49473589395164974), (634, 0.3442698409821232), (635, 0.41427124670142695), (636, 0.48955992802164455), (637, 0.3411349977498026), (638, 0.314546361683815), (639, 0.4557103074002853), (640, 0.2948915555639981), (641, 0.22390078985921147), (642, 0.26999729048917337), (643, 0.397125239348126), (644, 0.22937242942221947), (645, 0.2968475825508063), (646, 0.34046661009365), (647, 0.3322871962500097), (648, 0.33465820953316067), (649, 0.30092977963196776), (650, 0.5475170191598091), (651, 0.5472280425822742), (652, 0.36082506715548024), (653, 0.3589207744514457), (654, 0.4421956378261909), (655, 0.43460398708977555), (656, 0.5490103996431546), (657, 0.49145242029768665), (658, 0.3258208807199207), (659, 0.3261133730263719), (660, 0.24709872073014086), (661, 0.5501562428765031), (662, 0.4482161715146832), (663, 0.45448339696462603), (664, 0.5227550335398036), (665, 0.33057951676886904), (666, 0.24278259055226906), (667, 0.39593345209095154), (668, 0.1971635954059027), (669, 0.37060350306703604), (670, 0.3328634850449788), (671, 0.520247616176363), (672, 0.25708206948885765), (673, 0.5083010372068398), (674, 0.4353918614484131), (675, 0.5393372447110669), (676, 0.5273893772064343), (677, 0.3665974237368055), (678, 0.5289853632830076), (679, 0.5267741709064611), (680, 0.3392445371954136), (681, 0.39435282436326796), (682, 0.3350102078726952), (683, 0.3605337069994946), (684, 0.3199283254353978), (685, 0.3476365754242548), (686, 0.5326772409129528), (687, 0.33723752416833463), (688, 0.32676966119748346), (689, 0.48270456519734145), (690, 0.18603119271351742), (691, 0.2126690268656002), (692, 0.301080677560766), (693, 0.31430191677207475), (694, 0.4148451768880334), (695, 0.4853185907343049), (696, 0.41486489742259774), (697, 0.24296339149283114), (698, 0.4526991785590495), (699, 0.42706498192511966), (700, 0.5173027611386648), (701, 0.3936571135299808), (702, 0.2734385562670902), (703, 0.2603473674430142), (704, 0.23030247970900447), (705, 0.45445633019443366), (706, 0.5254825317783065), (707, 0.35541075647926323), (708, 0.1981971999944377), (709, 0.25484459441010826), (710, 0.5387743248545842), (711, 0.24456567558653264), (712, 0.5360022042810251), (713, 0.41090310355881643), (714, 0.5069407580653359), (715, 0.4142690420772231), (716, 0.38191898911868993), (717, 0.3171394727477013), (718, 0.3500333410479843), (719, 0.26030730195712326), (720, 0.32835521870635587), (721, 0.35191680070468456), (722, 0.35778572026772554), (723, 0.2379408563081566), (724, 0.5171196769315318), (725, 0.40188267615029744), (726, 0.33823667238466937), (727, 0.5500504513125938), (728, 0.5507673170133363), (729, 0.5493909305317006), (730, 0.5424378720660091), (731, 0.5578890078485879), (732, 0.4379603171081896), (733, 0.35249708531000074), (734, 0.4244770968624556), (735, 0.30434445237852753), (736, 0.3559531646361564), (737, 0.14069445568284034), (738, 0.3228159636546591), (739, 0.3645077075179396), (740, 0.23280408642036843), (741, 0.21162164362635535), (742, 0.2804513505799579), (743, 0.317758295737659), (744, 0.5398177280699142), (745, 0.24534176280005987), (746, 0.5172730098941126), (747, 0.4891099180843208), (748, 0.36233095007745253), (749, 0.3636908032511168), (750, 0.5274673594113766), (751, 0.40057160139635034), (752, 0.4092693801878642), (753, 0.5489550085615162), (754, 0.30886145411555854), (755, 0.41962889360079914), (756, 0.5333622982327563), (757, 0.33577831764867233), (758, 0.5346560513409772), (759, 0.155395890720215), (760, 0.2907103194620817), (761, 0.25867495802872625), (762, 0.5362665670417842), (763, 0.5761976907847599), (764, 0.2639422416217394), (765, 0.4473126183296121), (766, 0.21074685670543108), (767, 0.1608331564787438), (768, 0.4374056616353603), (769, 0.4702947953886739), (770, 0.3170111555951211), (771, 0.5281919488544047), (772, 0.3307672167006789), (773, 0.36811882436622384), (774, 0.3205736744018251), (775, 0.3141231382880369), (776, 0.2540899120647289), (777, 0.3152708421140079), (778, 0.47247540091105983), (779, 0.25648732164835253), (780, 0.24380908150750716), (781, 0.2911245556731308), (782, 0.3384488923871354), (783, 0.2767979730070343), (784, 0.2637512270275617), (785, 0.2633959887641397), (786, 0.3608222464935414), (787, 0.2876874427953726), (788, 0.4324158903553654), (789, 0.22089025235710164), (790, 0.31819833222394656), (791, 0.3111266470908972), (792, 0.43078057652126306), (793, 0.38422079012271776), (794, 0.4209781569250175), (795, 0.5348415529038423), (796, 0.2984146320140424), (797, 0.3965545750082541), (798, 0.3432222862203132), (799, 0.4146737216415563), (800, 0.3138675174455402), (801, 0.33377433859592226), (802, 0.4072729609143574), (803, 0.3927219218278151), (804, 0.3649734103656695), (805, 0.4826878147018662), (806, 0.4286603378361394), (807, 0.2718907169934034), (808, 0.30891059524496506), (809, 0.36145394637163875), (810, 0.5160760792679555), (811, 0.5226656078527987), (812, 0.29744561200297137), (813, 0.3116464929804974), (814, 0.2882146778001854), (815, 0.5064318847550681), (816, 0.44261510609906646), (817, 0.4662980951582029), (818, 0.35260601932759816), (819, 0.44442740188771634), (820, 0.533816395559186), (821, 0.3646090467056984), (822, 0.4184287977462095), (823, 0.3606170644214418), (824, 0.2918267306678662), (825, 0.41902615269960886), (826, 0.10072706930986784), (827, 0.38815063897457414), (828, 0.44821658873708214), (829, 0.5472529632052126), (830, 0.4676222701583592), (831, 0.24244810649220022), (832, 0.20640723115454038), (833, 0.5213797942661237), (834, 0.4350093207995098), (835, 0.4036796587990531), (836, 0.3494879175537546), (837, 0.5392413999214364), (838, 0.2404370301372579), (839, 0.5408069381318423), (840, 0.2554543818804924), (841, 0.37720266391796586), (842, 0.4611930067262901), (843, 0.42302346579438255), (844, 0.39348157665804173), (845, 0.3748897659291576), (846, 0.3375154112557868), (847, 0.32757673410322924), (848, 0.3454840933558066), (849, 0.5400194175426184), (850, 0.5083240856473703), (851, 0.3292539198323496), (852, 0.33802166939374867), (853, 0.32362779711336737), (854, 0.3071088334655924), (855, 0.4728014654927924), (856, 0.3331520791788279), (857, 0.5246145179626549), (858, 0.471904131599588), (859, 0.3764981644677974), (860, 0.5193508398971046), (861, 0.29849728466466585), (862, 0.34836574828876665), (863, 0.24378058224595106), (864, 0.32902824471712494), (865, 0.22652184558774868), (866, 0.2714423313151826), (867, 0.5131085708733314), (868, 0.5380619553491641), (869, 0.37800380435380865), (870, 0.3223855867807449), (871, 0.2630727311417983), (872, 0.4141312614780399), (873, 0.44609390761644474), (874, 0.20358600483475706), (875, 0.5309210490022439), (876, 0.35157293529355843), (877, 0.35991671465832575), (878, 0.38245825422390767), (879, 0.33741894909917663), (880, 0.5562830129216615), (881, 0.26291955466336836), (882, 0.30579520586482095), (883, 0.41199074268883473), (884, 0.34333451312026575), (885, 0.4434925976591816), (886, 0.24679968477598477), (887, 0.4598999755441189), (888, 0.240717574873895), (889, 0.27839148725136376), (890, 0.327603708362997), (891, 0.3542402133716635), (892, 0.3771573605994191), (893, 0.5381222100351833), (894, 0.5045809129693994), (895, 0.34711980597668524), (896, 0.2508249945308387), (897, 0.22612837853522808), (898, 0.32740737777463536), (899, 0.4114324835173593), (900, 0.45501840928606874), (901, 0.2663516629459369), (902, 0.5172001273922424), (903, 0.2797920815833154), (904, 0.37098779771202783), (905, 0.2843946642996337), (906, 0.546129073670011), (907, 0.14945240163932455), (908, 0.3830645918462136), (909, 0.5527799532684126), (910, 0.3328936581582461), (911, 0.2689589429304639), (912, 0.40162302392385546), (913, 0.29850757521395554), (914, 0.2443651899308467), (915, 0.41500725407897077), (916, 0.3670854990683087), (917, 0.3765050168179796), (918, 0.30307237694791017), (919, 0.406660204173727), (920, 0.3564538768373895), (921, 0.17236692176344715), (922, 0.25471231528707505), (923, 0.394512340134109), (924, 0.2744133321889491), (925, 0.18989136419052816), (926, 0.19123120137346986), (927, 0.29354313425271705), (928, 0.3942568250048051), (929, 0.13309526124207044), (930, 0.3653771371568942), (931, 0.24233590916166872), (932, 0.4800045324931862), (933, 0.17421436248430924), (934, 0.2791912419166173), (935, 0.47644521674161444), (936, 0.2413286593428927), (937, 0.3225286487270302), (938, 0.5385772561518082), (939, 0.2744647187080591), (940, 0.23600149739481013), (941, 0.19036466017947243), (942, 0.4310373252117421), (943, 0.2371232175111516), (944, 0.34452585864537855), (945, 0.3473616227085082), (946, 0.45507184563057496), (947, 0.20225069813696195), (948, 0.29219968984273603), (949, 0.3084084762735447), (950, 0.3215108931343091), (951, 0.23970567561257827), (952, 0.5278297314303873), (953, 0.2847350065277153), (954, 0.5382858648306437), (955, 0.45553770498509305), (956, 0.38138051578191323), (957, 0.4219590271760757), (958, 0.1907585235571284), (959, 0.41100534858619353), (960, 0.5518356800712931), (961, 0.3781939789421717), (962, 0.1783510517899211), (963, 0.3631864434183973), (964, 0.28964327682543767), (965, 0.5137610801322949), (966, 0.30127725567329294), (967, 0.26354486068645044), (968, 0.2946870554691915), (969, 0.2913791269144912), (970, 0.28404739562383613), (971, 0.49287490267963535), (972, 0.25614245229406907), (973, 0.313256091140821), (974, 0.5237653786524763), (975, 0.313279985690054), (976, 0.34530412517087106), (977, 0.4258361164353811), (978, 0.2256792961792648), (979, 0.43757249459285363), (980, 0.5506803081576531), (981, 0.2762136278783345), (982, 0.19142573184278344), (983, 0.2929647685981064), (984, 0.4027498549280712), (985, 0.19881035346214435), (986, 0.4491618204629624), (987, 0.4828612334091283), (988, 0.5013199091655371), (989, 0.4256323693066852), (990, 0.35140399042303355), (991, 0.3204545525934043), (992, 0.5280327760137203), (993, 0.3560753789515515), (994, 0.5460353795769072), (995, 0.294665479433557), (996, 0.2638899827142788), (997, 0.5252425143103848), (998, 0.19166607242238703), (999, 0.5368086850461866), (1000, 0.291198145076512), (1001, 0.32161608561430055), (1002, 0.5112668532908202), (1003, 0.45301945790739906), (1004, 0.44060599723859817), (1005, 0.4146206306384714), (1006, 0.5288899744828469), (1007, 0.5407795856605738), (1008, 0.4038900354592468), (1009, 0.5081633637992033), (1010, 0.4046719659770023), (1011, 0.43789281450549106), (1012, 0.5551114076075992), (1013, 0.3208969987149033), (1014, 0.33970297502049546), (1015, 0.2930140852378111), (1016, 0.2964696867036403), (1017, 0.2578207307972973), (1018, 0.15335531589185725), (1019, 0.1648391033664456), (1020, 0.12289151987156562), (1021, 0.3844491904196208), (1022, 0.16429020678640677), (1023, 0.4059165014707203), (1024, 0.3738783452126627), (1025, 0.28028085592116503), (1026, 0.07293772296909644), (1027, 0.3348334402185898), (1028, 0.45936456660655683), (1029, 0.07740501507946476), (1030, 0.22972080721712718), (1031, 0.3762727192568247), (1032, 0.2944217784204176), (1033, 0.2680296780820648), (1034, 0.2682779416327129), (1035, 0.2459467026872095), (1036, 0.2193047882137108), (1037, 0.1847420541606066), (1038, 0.2227399786311385), (1039, 0.2960981209972766), (1040, 0.2773177278531931), (1041, 0.47692058201172866), (1042, 0.3071515439729785), (1043, 0.38041963982171023), (1044, 0.46450080167423224), (1045, 0.38215940174429736), (1046, 0.16377697563803523), (1047, 0.4416194858808067), (1048, 0.3966197457945091), (1049, 0.33817189861160407), (1050, 0.47328648148960256), (1051, 0.2454162086557452), (1052, 0.42060473669492804), (1053, 0.30633749109426206), (1054, 0.34525227736968317), (1055, 0.3187162394223544), (1056, 0.47545155740609524), (1057, 0.5353084746063915), (1058, 0.31631571135815795), (1059, 0.4068679696324819), (1060, 0.44516931198821286), (1061, 0.32144808089617416), (1062, 0.16291409743133187), (1063, 0.5025865904832311), (1064, 0.25881828965068265), (1065, 0.32331135179925685), (1066, 0.35581487751131297), (1067, 0.522561247652437), (1068, 0.517313692103157), (1069, 0.5283949965285595), (1070, 0.3407233214913334), (1071, 0.35879878528446674), (1072, 0.33753165765696547), (1073, 0.5413128566834752), (1074, 0.3738457453859114), (1075, 0.27210434010774015), (1076, 0.48892086736648266), (1077, 0.2666244072096262), (1078, 0.3989299109542375), (1079, 0.248236278112451), (1080, 0.45355430536064845), (1081, 0.37134193319118597), (1082, 0.3650115666995478), (1083, 0.38563831461478687), (1084, 0.24562689984830102), (1085, 0.23649551724691623), (1086, 0.17118709573320662), (1087, 0.2946234539454792), (1088, 0.39221958532196877), (1089, 0.33862682706187225), (1090, 0.22729561306864207), (1091, 0.4941839240713293), (1092, 0.3150611394111467), (1093, 0.5073130920289725), (1094, 0.4194396676884592), (1095, 0.21755840649726138), (1096, 0.3353486044844258), (1097, 0.5037058014366009), (1098, 0.2731838637234017), (1099, 0.261525403308457), (1100, 0.18205033225311268), (1101, 0.49163513881681964), (1102, 0.2656414755287827), (1103, 0.37489899907372676), (1104, 0.3314059480828042), (1105, 0.5033039691512872), (1106, 0.46301261518654296), (1107, 0.5354815526748831), (1108, 0.2830205308900599), (1109, 0.2449898672674526), (1110, 0.42480653742143004), (1111, 0.49064629782047603), (1112, 0.37483675873185757), (1113, 0.29841063614808755), (1114, 0.4110224197469337), (1115, 0.23518746028935333), (1116, 0.4434033007428862), (1117, 0.30227991542266436), (1118, 0.556042198028599), (1119, 0.5074238358456314), (1120, 0.3070328784035994), (1121, 0.5317750028185828), (1122, 0.5458160831728329), (1123, 0.29569792194304056), (1124, 0.4605033819873433), (1125, 0.16830851382562512), (1126, 0.3738494037258594), (1127, 0.38795865967984755), (1128, 0.5021909562234751), (1129, 0.5549857684489404), (1130, 0.2351978301405065), (1131, 0.3585335111085393), (1132, 0.15171466328493616), (1133, 0.24856925948896488), (1134, 0.31109486755600246), (1135, 0.5167003358939786), (1136, 0.2201094237767788), (1137, 0.32824443779313783), (1138, 0.3332995315855127), (1139, 0.3906030086466816), (1140, 0.5177524529513244), (1141, 0.5284066291497673), (1142, 0.3811564377828094), (1143, 0.36582022159085414), (1144, 0.2090008869613053), (1145, 0.35893062054832103), (1146, 0.5195894718350668), (1147, 0.30834105536379103), (1148, 0.4916247288793587), (1149, 0.3257740814592784), (1150, 0.21725506514808043), (1151, 0.27802834427559714), (1152, 0.5488772134035754), (1153, 0.5328620875119868), (1154, 0.5217880660988985), (1155, 0.38432348683630535), (1156, 0.235527983761595), (1157, 0.24744237191611237), (1158, 0.34626414511713527), (1159, 0.23649166900483193), (1160, 0.4628645230530481), (1161, 0.24322514345035276), (1162, 0.4152478245266368), (1163, 0.26199156619895614), (1164, 0.5494711533119185), (1165, 0.48293072719516167), (1166, 0.30101008003715074), (1167, 0.5122536416580179), (1168, 0.29486454283126), (1169, 0.3093056892747103), (1170, 0.3767932088913079), (1171, 0.2067786003444413), (1172, 0.4204292049365299), (1173, 0.5667898613511401), (1174, 0.44081920543378583), (1175, 0.1230663897526203), (1176, 0.42966577039875953), (1177, 0.476026064813172), (1178, 0.1763610911452302), (1179, 0.496875640258301), (1180, 0.4471729889102327), (1181, 0.5357196570563548), (1182, 0.2122875705740249), (1183, 0.1774813574719863), (1184, 0.20022424687926937), (1185, 0.2276679259109292), (1186, 0.3377290717230821), (1187, 0.21101268285452474), (1188, 0.3949282137653761), (1189, 0.4906146024870194), (1190, 0.5149949734327479), (1191, 0.46831049971043043), (1192, 0.32293512967233856), (1193, 0.27973679373189425), (1194, 0.36070804440312276), (1195, 0.420295450993598), (1196, 0.43420285248863655), (1197, 0.2623955320739703), (1198, 0.3484860159950236), (1199, 0.20884076156603962), (1200, 0.2715833423097326), (1201, 0.29218264410190853), (1202, 0.36063007832639193), (1203, 0.4442023756695147), (1204, 0.21589518965450752), (1205, 0.2649330423528528), (1206, 0.3044163315381637), (1207, 0.49373072337041896), (1208, 0.21576761636516384), (1209, 0.30361252546433154), (1210, 0.19588705480764296), (1211, 0.3549395055520776), (1212, 0.2432664336801123), (1213, 0.3977233262764765), (1214, 0.23412141816386067), (1215, 0.4722868661133346), (1216, 0.18185874519678166), (1217, 0.3338964280525662), (1218, 0.4881839277131049), (1219, 0.29037993230937137), (1220, 0.29791341821977496), (1221, 0.35730537483012814), (1222, 0.19410608323135797), (1223, 0.21583807515949852), (1224, 0.27889010449773816), (1225, 0.3343241451459076), (1226, 0.5371610912926186), (1227, 0.288595154930688), (1228, 0.35496568340168827), (1229, 0.5238632679168806), (1230, 0.23971451932990784), (1231, 0.2702582274849114), (1232, 0.2742607742125247), (1233, 0.5084473728123093), (1234, 0.4839528737573067), (1235, 0.2900468150501369), (1236, 0.3693892457625704), (1237, 0.22813893926689277), (1238, 0.38186612158364436), (1239, 0.5141767710509444), (1240, 0.41162558342055217), (1241, 0.31469552141068086), (1242, 0.2852392912832061), (1243, 0.3420790175938925), (1244, 0.2974681621287375), (1245, 0.27662331769286197), (1246, 0.48288337202938886), (1247, 0.22145800927522527), (1248, 0.2561998756155139), (1249, 0.3578077241942235), (1250, 0.32258803723031104), (1251, 0.44698749299683005), (1252, 0.23163069079192067), (1253, 0.29867537178224624), (1254, 0.2736894910685208), (1255, 0.30046210565516296), (1256, 0.26099916155280606), (1257, 0.3003458494743737), (1258, 0.3803041840650022), (1259, 0.3092618912938161), (1260, 0.427022931621945), (1261, 0.3199500147413855), (1262, 0.5637647816024046), (1263, 0.3207052810927505), (1264, 0.28110371235724774), (1265, 0.4680142515171475), (1266, 0.42028821442551484), (1267, 0.540119291312369), (1268, 0.2338227869398483), (1269, 0.30898311208173723), (1270, 0.46149095750329305), (1271, 0.5294921863245512), (1272, 0.5172231201653581), (1273, 0.49182567673788075), (1274, 0.3944838281163488), (1275, 0.30852739967818804), (1276, 0.21336768892070887), (1277, 0.17713646791615695), (1278, 0.21199952191221783), (1279, 0.5406073264131868), (1280, 0.49293144233914643), (1281, 0.29866758111282504), (1282, 0.5401379942395924), (1283, 0.49955746415090035), (1284, 0.5327122983042676), (1285, 0.21789007646340688), (1286, 0.21831003667058432), (1287, 0.4517604308317841), (1288, 0.22450227538828266), (1289, 0.5357256823201838), (1290, 0.2191835847757256), (1291, 0.31392071084925016), (1292, 0.37175014904867576), (1293, 0.2320154055111572), (1294, 0.31265251085403556), (1295, 0.4222403767495003), (1296, 0.46741404462480823), (1297, 0.29824800470090446), (1298, 0.4201033933507089), (1299, 0.2369404308950711), (1300, 0.20855963762901705), (1301, 0.21225288528275352), (1302, 0.25451099809656386), (1303, 0.3010159158904498), (1304, 0.22579915124756414), (1305, 0.4367744927868469), (1306, 0.39143226924218966), (1307, 0.41388815763483444), (1308, 0.28355493583254976), (1309, 0.2611075413989566), (1310, 0.37832392556080907), (1311, 0.37496278760117374), (1312, 0.3774703922795609), (1313, 0.48729756416751574), (1314, 0.22364118393807092), (1315, 0.5198198888154958), (1316, 0.29327666785845324), (1317, 0.2746311950934028), (1318, 0.17680056165755417), (1319, 0.2987499881532598), (1320, 0.2948238495768944), (1321, 0.30576823238885664), (1322, 0.5334704643944899), (1323, 0.3735820128544018), (1324, 0.5309254840531895), (1325, 0.5445706026188204), (1326, 0.25046705311169054), (1327, 0.3419669973045623), (1328, 0.4513742022843218), (1329, 0.39037489395688024), (1330, 0.22191345660825845), (1331, 0.3415217222747213), (1332, 0.3915306873839573), (1333, 0.30742023471135305), (1334, 0.4640444462148519), (1335, 0.5461521686322715), (1336, 0.2848605998633782), (1337, 0.3985831795985314), (1338, 0.2296833236740016), (1339, 0.17423986921299234), (1340, 0.42833250036180476), (1341, 0.32956993323990597), (1342, 0.5102360319262507), (1343, 0.261336513243125), (1344, 0.27782940298761255), (1345, 0.3672396662536198), (1346, 0.46164858480154947), (1347, 0.46407578772860675), (1348, 0.4096213467511655), (1349, 0.37969015744687956), (1350, 0.22842823253493966), (1351, 0.36868168425870174), (1352, 0.34075944128683705), (1353, 0.40758723831496096), (1354, 0.5400672899295136), (1355, 0.46590643684726174), (1356, 0.3814264851411295), (1357, 0.5574868473245209), (1358, 0.4591580209155762), (1359, 0.2220772648037945), (1360, 0.43091982781368193), (1361, 0.29062969162754576), (1362, 0.41723554410682684), (1363, 0.2631570845604756), (1364, 0.355617589513202), (1365, 0.4121451106556317), (1366, 0.21760116077145672), (1367, 0.25824109092472175), (1368, 0.526206847322272), (1369, 0.24230684235316002), (1370, 0.2536946077901431), (1371, 0.2813910236674135), (1372, 0.27674205254525497), (1373, 0.26923675435263034), (1374, 0.49564878828105746), (1375, 0.4462354905785084), (1376, 0.263055453812955), (1377, 0.4917980531937561), (1378, 0.5141997779434957), (1379, 0.20075174126498296), (1380, 0.5359752736859791), (1381, 0.532035881172474), (1382, 0.1943298068580796), (1383, 0.29799777298621327), (1384, 0.26370188920414833), (1385, 0.2349434838827975), (1386, 0.24201502069035502), (1387, 0.4387909116093087), (1388, 0.5434149744515208), (1389, 0.28069267260348174), (1390, 0.2611005594814677), (1391, 0.5419560017077528), (1392, 0.25512333424281963), (1393, 0.5418886720449622), (1394, 0.2206008803441532), (1395, 0.19345828535627588), (1396, 0.34398727281248526), (1397, 0.2368428607655983), (1398, 0.5164952145312696), (1399, 0.47974606581804874), (1400, 0.3472268618171669), (1401, 0.24986634572401767), (1402, 0.4858035229800369), (1403, 0.41281764725388137), (1404, 0.5245042595174157), (1405, 0.24832507201667897), (1406, 0.42682586339340395), (1407, 0.2572059583837457), (1408, 0.2358556324468438), (1409, 0.2664411691409187), (1410, 0.30739436450527724), (1411, 0.19188352435528888), (1412, 0.5050291753913834), (1413, 0.5350820938082363), (1414, 0.4393470044957647), (1415, 0.18694472358709927), (1416, 0.273004246555492), (1417, 0.3112138957140827), (1418, 0.22683299417935338), (1419, 0.26385886270505704), (1420, 0.2534443170276632), (1421, 0.3027338033342904), (1422, 0.2179309680018918), (1423, 0.1667066565503257), (1424, 0.5250858759479515), (1425, 0.2837598311589755), (1426, 0.19030338727835827), (1427, 0.3526607676559095), (1428, 0.2487409625305197), (1429, 0.3692726055741549), (1430, 0.22331729228875205), (1431, 0.2823040138807247), (1432, 0.3850444345292128), (1433, 0.4948890872656687), (1434, 0.35918840018336906), (1435, 0.25590302011180505), (1436, 0.44653412865171555), (1437, 0.32236378593471116), (1438, 0.4167980197822427), (1439, 0.33376097388513204), (1440, 0.2836264958904118), (1441, 0.2900169668664484), (1442, 0.23441506955547634), (1443, 0.5284848383269832), (1444, 0.21760595518083517), (1445, 0.44552931885368335), (1446, 0.3087948694756792), (1447, 0.2548556971092764), (1448, 0.2432258182881305), (1449, 0.178794560411675), (1450, 0.24096713207417053), (1451, 0.3042632343743911), (1452, 0.3048236856976084), (1453, 0.2299095472463375), (1454, 0.37322182642786006), (1455, 0.5521838261047232), (1456, 0.44453991803814674), (1457, 0.5235112879789896), (1458, 0.4260746801292594), (1459, 0.4966817821714957), (1460, 0.4922498981666602), (1461, 0.3929936002971966), (1462, 0.3547011064634987), (1463, 0.366403598468777), (1464, 0.4667626798456986), (1465, 0.19139720396949506), (1466, 0.3827203814161972), (1467, 0.1601295111577091), (1468, 0.28107665706623686), (1469, 0.42690681489987403), (1470, 0.20467213547860252), (1471, 0.48742580886623205), (1472, 0.3663078997103419), (1473, 0.4808344449636242), (1474, 0.37141270484801925), (1475, 0.395825663587729), (1476, 0.37211919999930954), (1477, 0.19086254814456213), (1478, 0.264156384924328), (1479, 0.2601463830600205), (1480, 0.41811388339826305), (1481, 0.3941157015627248), (1482, 0.2511453797142041), (1483, 0.5289158851427134), (1484, 0.5549758244981223), (1485, 0.24537323633128705), (1486, 0.3596085499621072), (1487, 0.41490320374352524), (1488, 0.26687784798934144), (1489, 0.34442101576764717), (1490, 0.3049348879349653), (1491, 0.3404798475456917), (1492, 0.3731909330383463), (1493, 0.5331573284206436), (1494, 0.42401917912590986), (1495, 0.3555057042407899), (1496, 0.33014043373276325), (1497, 0.38707055860196554), (1498, 0.5307656548368876), (1499, 0.30243565465536915), (1500, 0.37721496413957334), (1501, 0.2800839512403258), (1502, 0.5129621469881912), (1503, 0.2879127592599689), (1504, 0.4283567249248055), (1505, 0.4715591155735687), (1506, 0.3153718559045869), (1507, 0.3103982195562881), (1508, 0.2873772412489963), (1509, 0.3937083323830943), (1510, 0.315307672863184), (1511, 0.5495270209217129), (1512, 0.5400053842503368), (1513, 0.36396640904153865), (1514, 0.3368358518834924), (1515, 0.3621275835707626), (1516, 0.38868470647346304), (1517, 0.3489380960567973), (1518, 0.3525268322294211), (1519, 0.36161263647179065), (1520, 0.3595467444552244), (1521, 0.4069905109346818), (1522, 0.3532053247233633), (1523, 0.4093271740832712), (1524, 0.40655710127603173), (1525, 0.3965995511070811), (1526, 0.36847722168560937), (1527, 0.37735339316192007), (1528, 0.35061763098170434), (1529, 0.34413845684883215), (1530, 0.3269162393288686), (1531, 0.45531039682477553), (1532, 0.5602788782764027), (1533, 0.22576747951929174), (1534, 0.3906624721005126), (1535, 0.4048541731835228), (1536, 0.2918284726796121), (1537, 0.3088546895942204), (1538, 0.34248246933040416), (1539, 0.37086458456658256), (1540, 0.42127546157432466), (1541, 0.34099855298429455), (1542, 0.350694321073549), (1543, 0.37034544602226543), (1544, 0.3245748035940499), (1545, 0.29129077771345513), (1546, 0.33234439329913645), (1547, 0.28929566981008087), (1548, 0.39766460420361316), (1549, 0.35555526081604877), (1550, 0.5245427505814853), (1551, 0.38625388886308964), (1552, 0.46494909828745934), (1553, 0.38263340688582276), (1554, 0.4333126853422553), (1555, 0.38936566256126526), (1556, 0.5332401723892622), (1557, 0.38538367061559287), (1558, 0.29635994571484425), (1559, 0.38321818232818516), (1560, 0.4850288050405246), (1561, 0.4125335217998574), (1562, 0.27852783921236407), (1563, 0.3294998501810889), (1564, 0.36760543979118365), (1565, 0.442431683413353), (1566, 0.39665007257035184), (1567, 0.31719763638468024), (1568, 0.3035848085525591), (1569, 0.4906753775803372), (1570, 0.3092677405521461), (1571, 0.3455112374772159), (1572, 0.23356886693515883), (1573, 0.3102719509405939), (1574, 0.2787675459778681), (1575, 0.2641612334177502), (1576, 0.24594480428976812), (1577, 0.2755833070240668), (1578, 0.2535113360662459), (1579, 0.42067299052142926), (1580, 0.1815213182826601), (1581, 0.4060929146990014), (1582, 0.27633484987346035), (1583, 0.25683997046170426), (1584, 0.5176868399396863), (1585, 0.24018610661117504), (1586, 0.2579309254120927), (1587, 0.44687542645833234), (1588, 0.28037870597604936), (1589, 0.22673058062729992), (1590, 0.24843007083855284), (1591, 0.3648925874557226), (1592, 0.27857226024606396), (1593, 0.3318131471152454), (1594, 0.18423640129542818), (1595, 0.25704077632045963), (1596, 0.18109878477632052), (1597, 0.40828483308585195), (1598, 0.11274190913275386), (1599, 0.4152030916791357), (1600, 0.4326996317858313), (1601, 0.18725042085803423), (1602, 0.4219067574156941), (1603, 0.4277844432884702), (1604, 0.11721127395396952), (1605, 0.17265214459215963), (1606, 0.44172021839192993), (1607, 0.46484966991065146), (1608, 0.5188647178717114), (1609, 0.45614289978763023), (1610, 0.14890211021704447), (1611, 0.5436789417703254), (1612, 0.26528749792602535), (1613, 0.2543649225736467), (1614, 0.35949397148782114), (1615, 0.30304547021385797), (1616, 0.3975225852297128), (1617, 0.37081226745236145), (1618, 0.30529326216518243), (1619, 0.24215196655987636), (1620, 0.32149126070662015), (1621, 0.43437642373476404), (1622, 0.18238228021095768), (1623, 0.26225353530344847), (1624, 0.2917874655959886), (1625, 0.20757887436498582), (1626, 0.37310591439377067), (1627, 0.24991208670721737), (1628, 0.19691799061221515), (1629, 0.32679065137430563), (1630, 0.22650916316838623), (1631, 0.2816305242573885), (1632, 0.19638603781551575), (1633, 0.33525222316898096), (1634, 0.4074052881590471), (1635, 0.20818686013997134), (1636, 0.3598157269327019), (1637, 0.5075725085800201), (1638, 0.4745335249540155), (1639, 0.22242361659785376), (1640, 0.32545755818327776), (1641, 0.5040172343180133), (1642, 0.3367372917963608), (1643, 0.535998398842983), (1644, 0.2406592221890538), (1645, 0.2535766106871694), (1646, 0.42349131048324573), (1647, 0.1709516240266912), (1648, 0.23188389413677646), (1649, 0.32686492211923346), (1650, 0.24009882237086577), (1651, 0.3798633689462841), (1652, 0.16332440858591982), (1653, 0.2778086637113202), (1654, 0.29607928542889966), (1655, 0.29036480749150184), (1656, 0.3913393086055151), (1657, 0.22843822727757757), (1658, 0.22098248967759634), (1659, 0.3361790693381463), (1660, 0.3140704976352418), (1661, 0.17850295740804012), (1662, 0.4838727702975211), (1663, 0.39932982077650914), (1664, 0.43711458078092635), (1665, 0.4448090121761218), (1666, 0.20248797727383838), (1667, 0.49305544266864004), (1668, 0.19270394508615618), (1669, 0.4564833152371335), (1670, 0.23473594736436776), (1671, 0.23057023883689567), (1672, 0.3738342184694805), (1673, 0.21710580152837722), (1674, 0.4672981610040439), (1675, 0.2784781961790858), (1676, 0.23133371578340414), (1677, 0.21181684732897707), (1678, 0.37351230500217436), (1679, 0.2606029238321175), (1680, 0.39753144980938004), (1681, 0.3884189270812128), (1682, 0.2243472135858235), (1683, 0.2695488226398866), (1684, 0.2811150054770181), (1685, 0.4076133754923181), (1686, 0.2881776272877475), (1687, 0.28143911153085527), (1688, 0.2232862084053765), (1689, 0.2075325671136959), (1690, 0.1416282396579635), (1691, 0.3957773483038123), (1692, 0.22275625710067193), (1693, 0.45094802723213356), (1694, 0.18672484128967545), (1695, 0.27182709279329353), (1696, 0.4804769875678705), (1697, 0.34443502549207133), (1698, 0.17514652672729744), (1699, 0.4629573215100007), (1700, 0.4129122337762535), (1701, 0.33837890416893013), (1702, 0.147625757858911), (1703, 0.13091107111809488), (1704, 0.21196016857134364), (1705, 0.390957543084658), (1706, 0.35686933359854034), (1707, 0.224560662136131), (1708, 0.2571451339050582), (1709, 0.2603879118394886), (1710, 0.4744614010467581), (1711, 0.4139057895805476), (1712, 0.29608732455954556), (1713, 0.2952132988692051), (1714, 0.49134756945117913), (1715, 0.160165272786506), (1716, 0.5403208805436551), (1717, 0.15228613426472742), (1718, 0.37959684703150537), (1719, 0.18678672831790127), (1720, 0.3303894560573474), (1721, 0.34532519849927124), (1722, 0.3994276043422572), (1723, 0.43846200258588597), (1724, 0.25016362637597545), (1725, 0.294081551885401), (1726, 0.3342921123777672), (1727, 0.39204055712402175), (1728, 0.5474614756754841), (1729, 0.5373325525362236), (1730, 0.3437435489226434), (1731, 0.28916978017941286), (1732, 0.2495078079077813), (1733, 0.2944090750490747), (1734, 0.338282515032139), (1735, 0.2573290394435089), (1736, 0.25816245234358826), (1737, 0.46480134179615173), (1738, 0.35540260998261997), (1739, 0.37211964273861214), (1740, 0.4957484098830412), (1741, 0.175074392563272), (1742, 0.3715816426617037), (1743, 0.20178655515527513), (1744, 0.19324838825800042), (1745, 0.17079583561259323), (1746, 0.20313744483388083), (1747, 0.1751056697965502), (1748, 0.16862040588566524), (1749, 0.18339710667884374), (1750, 0.24624368040263891), (1751, 0.4182003914939564), (1752, 0.23393941842531638), (1753, 0.12638986392694207), (1754, 0.36279304013376373), (1755, 0.37865112057755823), (1756, 0.2767108242858869), (1757, 0.2602023968712101), (1758, 0.48345271907294507), (1759, 0.19373684635462418), (1760, 0.29663864420427577), (1761, 0.20179717521079743), (1762, 0.3708971446518338), (1763, 0.29732988415894385), (1764, 0.20630024903932503), (1765, 0.4565444964882641), (1766, 0.42304727262671526), (1767, 0.3773496444433908), (1768, 0.30926697587901963), (1769, 0.4759360074668775), (1770, 0.5326830721957114), (1771, 0.4578223607139406), (1772, 0.44869262243509517), (1773, 0.5426251770062597), (1774, 0.32479661016589534), (1775, 0.5674218174181564), (1776, 0.4379618478573278), (1777, 0.2795309035310251), (1778, 0.3714816552928328), (1779, 0.45224507802150665), (1780, 0.2392723193984825), (1781, 0.37046648694559947), (1782, 0.3499160369847108), (1783, 0.31078729178317105), (1784, 0.28469708546367417), (1785, 0.3175653570792786), (1786, 0.32443418437728727), (1787, 0.3979990759872549), (1788, 0.5312800133283193), (1789, 0.3498904200418178), (1790, 0.2677209509740638), (1791, 0.4673742714559499), (1792, 0.3112379946364659), (1793, 0.3022914655952621), (1794, 0.3171442722354514), (1795, 0.4216740279670773), (1796, 0.48631469907462666), (1797, 0.20188235256669787), (1798, 0.2561725757845141), (1799, 0.5049287191852644), (1800, 0.19976869854509693), (1801, 0.24242019403272824), (1802, 0.41272296641209416), (1803, 0.3290772924224168), (1804, 0.5130683727045299), (1805, 0.2044706461192574), (1806, 0.45728497338386415), (1807, 0.3155054123750298), (1808, 0.20850806726164095), (1809, 0.3940281580990765), (1810, 0.48066139924130374), (1811, 0.325358992261468), (1812, 0.21586161715390517), (1813, 0.17012730032746434), (1814, 0.31635140400802675), (1815, 0.5123256819493989), (1816, 0.22480184031671552), (1817, 0.2809304885389915), (1818, 0.2553330140944161), (1819, 0.2306859606276877), (1820, 0.4142324440932287), (1821, 0.3272769764862227), (1822, 0.2057847246063073), (1823, 0.47350621411863314), (1824, 0.370648412087804), (1825, 0.4886145597876876), (1826, 0.20625498014841173), (1827, 0.32492289488197296), (1828, 0.2678755625008891), (1829, 0.394162896016248), (1830, 0.2245773091272233), (1831, 0.4581455291327152), (1832, 0.169396336945963), (1833, 0.2038918531193687), (1834, 0.2960430208892403), (1835, 0.41374229815561836), (1836, 0.2404239753056967), (1837, 0.24828925106074018), (1838, 0.4247725838844424), (1839, 0.3745742499859332), (1840, 0.3402175909001498), (1841, 0.12133768797884259), (1842, 0.26656782346716), (1843, 0.3241691077625306), (1844, 0.2550802227726181), (1845, 0.20803915506402088), (1846, 0.46082118346519824), (1847, 0.2601325617605528), (1848, 0.23149319137659954), (1849, 0.2960164650057336), (1850, 0.30915927672557825), (1851, 0.24616040411438114), (1852, 0.5279149078479415), (1853, 0.2667584190549525), (1854, 0.3863375514905002), (1855, 0.5394466845978506), (1856, 0.3113489182908223), (1857, 0.2981697163542255), (1858, 0.23749619596676017), (1859, 0.37148054854613494), (1860, 0.47166714007661054), (1861, 0.3824904837051914), (1862, 0.24901854907905968), (1863, 0.4214943003289241), (1864, 0.3878938389223073), (1865, 0.18267695838781248), (1866, 0.33904573494761464), (1867, 0.19170158411624494), (1868, 0.2796929487943369), (1869, 0.4051588666191505), (1870, 0.53025614514661), (1871, 0.18598666982098117), (1872, 0.4369070639173924), (1873, 0.43888069986381767), (1874, 0.45169876558362626), (1875, 0.2316967720437281), (1876, 0.5332265019736514), (1877, 0.13276245179950585), (1878, 0.2533182289049138), (1879, 0.2252099946591197), (1880, 0.4431010349380233), (1881, 0.4380554816132896), (1882, 0.3724264584222771), (1883, 0.1850299242828557), (1884, 0.2375754781443653), (1885, 0.29197658490215606), (1886, 0.37344927802451267), (1887, 0.30422377903005576), (1888, 0.38712562044449284), (1889, 0.257784283797636), (1890, 0.37267591041286824), (1891, 0.22090752875281416), (1892, 0.23688507539813564), (1893, 0.27846339869776665), (1894, 0.30487986092107905), (1895, 0.28075522517277046), (1896, 0.4611221001491781), (1897, 0.5096957137234013), (1898, 0.23314169216678848), (1899, 0.5125115829244171), (1900, 0.35515045102594783), (1901, 0.5241715025795175), (1902, 0.25496568387651475), (1903, 0.4117251776455894), (1904, 0.5151706932019887), (1905, 0.363156777416984), (1906, 0.4055629677492867), (1907, 0.23391740748069154), (1908, 0.27695168159947237), (1909, 0.23717727778806785), (1910, 0.5198681114343813), (1911, 0.4622670530606537), (1912, 0.3771785010292394), (1913, 0.2970869438046955), (1914, 0.24526608648279166), (1915, 0.22361065104402578), (1916, 0.27908994784184704), (1917, 0.295957550317051), (1918, 0.2347977256611687), (1919, 0.160279458150511), (1920, 0.2148164480553827), (1921, 0.3968189175238513), (1922, 0.5428743418771416), (1923, 0.3659087109897363), (1924, 0.42851329016245077), (1925, 0.33466160958747254), (1926, 0.24281498584776062), (1927, 0.5287261098830748), (1928, 0.5423490120509029), (1929, 0.26808889938105807), (1930, 0.25056486385412324), (1931, 0.4273183782584077), (1932, 0.26882922223056527), (1933, 0.25537442411167116), (1934, 0.20087709011541274), (1935, 0.2145541030566627), (1936, 0.5359804214623302), (1937, 0.3112511488876241), (1938, 0.2682985189379297), (1939, 0.33528893066509863), (1940, 0.5341960879394902), (1941, 0.24491287684116964), (1942, 0.2548303292437989), (1943, 0.22112275545981597), (1944, 0.3828540353140739), (1945, 0.22842235299719213), (1946, 0.33467190695832777), (1947, 0.2129603795598729), (1948, 0.3188339469857938), (1949, 0.24742371626341045), (1950, 0.36663941920319326), (1951, 0.398982824408876), (1952, 0.3884985698995965), (1953, 0.20602299302117383), (1954, 0.1692637690954803), (1955, 0.5400562621227206), (1956, 0.2637680384393665), (1957, 0.31996626185811206), (1958, 0.22003650350065135), (1959, 0.22859558575000533), (1960, 0.20103163247972733), (1961, 0.48706650198112056), (1962, 0.4744468114091006), (1963, 0.23217027747686284), (1964, 0.35896808987936635), (1965, 0.20103837555406018), (1966, 0.2557177380416204), (1967, 0.21250702781273442), (1968, 0.3211019085767597), (1969, 0.48222154739194834), (1970, 0.37434212405628975), (1971, 0.20559489133082637), (1972, 0.19216855362832092), (1973, 0.47021625711974696), (1974, 0.44358755823195634), (1975, 0.24560186232200254), (1976, 0.3285444970730081), (1977, 0.19269191698946017), (1978, 0.4159479479539965), (1979, 0.3972434996133837), (1980, 0.23797085749577723), (1981, 0.2193324481366591), (1982, 0.4649458075305195), (1983, 0.30667084820466756), (1984, 0.2468892549956972), (1985, 0.32552721831209425), (1986, 0.2751653761805756), (1987, 0.36461721690866555), (1988, 0.42861316679537675), (1989, 0.3370823567534145), (1990, 0.23698452832775319), (1991, 0.1748552885612558), (1992, 0.19208203215292802), (1993, 0.41300788783307985), (1994, 0.29158836574328123), (1995, 0.321286697910997), (1996, 0.23208726158078669), (1997, 0.4723399917112339), (1998, 0.5401711220768837), (1999, 0.38798255996928854), (2000, 0.24645302149916715), (2001, 0.3640780645648195), (2002, 0.24805907666479143), (2003, 0.2668559873069645), (2004, 0.29119412161781305), (2005, 0.2667355775414081), (2006, 0.30090737526983646), (2007, 0.4168124210574389), (2008, 0.21974520541675838), (2009, 0.29840491768430755), (2010, 0.23716691161644457), (2011, 0.46542856560705637), (2012, 0.3163283831485219), (2013, 0.3334170736334299), (2014, 0.2410086502903394), (2015, 0.3668384919953918), (2016, 0.546797781323452), (2017, 0.5059075390903727), (2018, 0.17818942912219093), (2019, 0.3996736687759895), (2020, 0.25641872633889673), (2021, 0.2598186311386741), (2022, 0.4232778338473152), (2023, 0.4873970242899505), (2024, 0.25529216641883795), (2025, 0.19711277531077917), (2026, 0.4456870834822901), (2027, 0.44996982153787785), (2028, 0.2315400853895197), (2029, 0.28533905569224577), (2030, 0.20859957524212666), (2031, 0.5223238304177052), (2032, 0.5013754212410633), (2033, 0.27729811833943185), (2034, 0.18132447056970252), (2035, 0.3904471272962966), (2036, 0.28338752793950495), (2037, 0.27469086132661485), (2038, 0.2983695111631933), (2039, 0.4472312538936345), (2040, 0.5085821161005135), (2041, 0.38742408632709724), (2042, 0.18293480043204305), (2043, 0.19418345250664143), (2044, 0.20726292467979487), (2045, 0.5490727269356495), (2046, 0.22810945998581977), (2047, 0.21078161525809513), (2048, 0.20788627212236324), (2049, 0.22441463713395382), (2050, 0.2671603331275183), (2051, 0.32212328198267154), (2052, 0.484205964824389), (2053, 0.423552232113518), (2054, 0.29461685654683933), (2055, 0.2835138427797043), (2056, 0.24804757693567397), (2057, 0.31337336185652725), (2058, 0.33864372321584535), (2059, 0.3167891547821568), (2060, 0.2375639317832904), (2061, 0.40886338285466134), (2062, 0.3230231795832677), (2063, 0.17782409765207907), (2064, 0.22141923072003722), (2065, 0.24041240945877745), (2066, 0.24902516697252433), (2067, 0.49319162146894324), (2068, 0.23022090471133605), (2069, 0.45078453094705234), (2070, 0.47057677692001365), (2071, 0.21579999445539705), (2072, 0.2846038126649873), (2073, 0.31536976443735726), (2074, 0.20417124092795594), (2075, 0.24957169726923764), (2076, 0.21816745959519487), (2077, 0.22365809632764158), (2078, 0.48294184462213485), (2079, 0.4484453383134446), (2080, 0.2181870594219948), (2081, 0.2774483863655509), (2082, 0.38213732225397673), (2083, 0.4352485418665438), (2084, 0.5332488847271364), (2085, 0.2701671219503945), (2086, 0.3122484487022578), (2087, 0.2669077975615872), (2088, 0.5183936876918289), (2089, 0.47723833250434644), (2090, 0.3036919015052487), (2091, 0.36936245215161523), (2092, 0.36232974113944283), (2093, 0.26645122098471963), (2094, 0.2663598432544011), (2095, 0.3419188486783088), (2096, 0.28746592550806443), (2097, 0.23118968328595185), (2098, 0.4131711201297058), (2099, 0.25510214103913154), (2100, 0.3884463468374651), (2101, 0.28315753377570557), (2102, 0.316130146911763), (2103, 0.329981422868437), (2104, 0.3949919559421412), (2105, 0.4661990210907956), (2106, 0.3682391955061248), (2107, 0.3420393583829635), (2108, 0.3488513693546055), (2109, 0.3984095449055786), (2110, 0.39481584264298825), (2111, 0.3670109304355575), (2112, 0.5364450625850162), (2113, 0.22341538691400098), (2114, 0.29977692961794233), (2115, 0.21239564112746412), (2116, 0.40516751842480947), (2117, 0.33400145190305464), (2118, 0.23534701285212928), (2119, 0.20482246325610762), (2120, 0.4205491626128095), (2121, 0.2821194920650805), (2122, 0.40066605912495384), (2123, 0.3083886273223667), (2124, 0.29936000816957437), (2125, 0.1915016520416138), (2126, 0.2770631728629526), (2127, 0.37500955481760223), (2128, 0.44394865876029127), (2129, 0.08596481521583935), (2130, 0.3798600628999884), (2131, 0.3482774066878287), (2132, 0.48065873023597455), (2133, 0.058711593666740614), (2134, 0.2820777113840418), (2135, 0.25131333297415825), (2136, 0.3780101813691628), (2137, 0.34442513217560594), (2138, 0.23210958999050252), (2139, 0.22482143193735218), (2140, 0.19989768586893264), (2141, 0.20635692880279574), (2142, 0.2529027976226639), (2143, 0.2565065159136063), (2144, 0.40682670963882633), (2145, 0.24313284290553067), (2146, 0.1793217049041021), (2147, 0.24310534303612624), (2148, 0.4061111201708232), (2149, 0.3532442299568158), (2150, 0.3228278006247665), (2151, 0.291466123798468), (2152, 0.21919223604400856), (2153, 0.4522201231669695), (2154, 0.2393259547648894), (2155, 0.2458480825305339), (2156, 0.44191280207206823), (2157, 0.2834981045207805), (2158, 0.268300215762967), (2159, 0.2539934460541874), (2160, 0.2520407732207701), (2161, 0.38250683077813563), (2162, 0.4453495286267113), (2163, 0.17562207223975632), (2164, 0.2526144765110335), (2165, 0.3155950726150623), (2166, 0.24432148817082264), (2167, 0.2560865384744164), (2168, 0.3307463310452202), (2169, 0.48484415609126635), (2170, 0.3025470999934049), (2171, 0.14067692988862499), (2172, 0.3893349677543234), (2173, 0.2887429271994985), (2174, 0.40483178224089716), (2175, 0.10127858091383025), (2176, 0.15443457662006765), (2177, 0.35612875057486415), (2178, 0.3409585438304998), (2179, 0.12019641592157192), (2180, 0.08953797929138776), (2181, 0.5533083011489637), (2182, 0.34056041865135456), (2183, 0.4347922392595172), (2184, 0.5249366392998329), (2185, 0.29492940805845574), (2186, 0.08823107455853221), (2187, 0.25638175098821664), (2188, 0.15324988606940465), (2189, 0.3639024500670547), (2190, 0.4013643195988596), (2191, 0.1252090507646816), (2192, 0.26651321031311737), (2193, 0.41341271341790853), (2194, 0.27930393798895187), (2195, 0.09039631791545043), (2196, 0.3101751644887551), (2197, 0.4898040420409125), (2198, 0.5130404770412551), (2199, 0.08924568870539622), (2200, 0.31866417340599235), (2201, 0.08728432272570323), (2202, 0.1099744228649452), (2203, 0.3916713964488454), (2204, 0.12768725082607907), (2205, 0.4018875153738819), (2206, 0.3169521391921735), (2207, 0.1129241425351559), (2208, 0.1242275954844789), (2209, 0.11287247883276227), (2210, 0.1200487581476704), (2211, 0.2916030386856009), (2212, 0.11838191645806496), (2213, 0.52075300562402), (2214, 0.33747840203078544), (2215, 0.12180415262006612), (2216, 0.3041505309153475), (2217, 0.2493546438713145), (2218, 0.19561800173578947), (2219, 0.3076300088842668), (2220, 0.15880475722288137), (2221, 0.23012853903285163), (2222, 0.28964459461237996), (2223, 0.1254041645859937), (2224, 0.09094305234300067), (2225, 0.32594742375723496), (2226, 0.09450488070971487), (2227, 0.10211506971926118), (2228, 0.308451123966354), (2229, 0.32756114749845905), (2230, 0.2667250387550526), (2231, 0.5396184042743399), (2232, 0.5241133924374619), (2233, 0.4002351802827986), (2234, 0.1296068517888513), (2235, 0.46165737636359183), (2236, 0.08417404323051109), (2237, 0.4416988376380711), (2238, 0.21214093782658136), (2239, 0.29372192847794765), (2240, 0.24559948173771406), (2241, 0.13430725748155461), (2242, 0.07246339848220837), (2243, 0.15989718582913265), (2244, 0.07766798319942116), (2245, 0.4457342380085558), (2246, 0.2879058212702744), (2247, 0.18082832094836931), (2248, 0.10386969853079671), (2249, 0.4491556184635233), (2250, 0.09220056173230202), (2251, 0.26848948714382814), (2252, 0.3294190993639235), (2253, 0.21378448403649003), (2254, 0.3290409065824231), (2255, 0.14310277782332007), (2256, 0.1967618554440512), (2257, 0.07043856626124263), (2258, 0.3584413445472279), (2259, 0.43562454355662644), (2260, 0.14888604152354556), (2261, 0.31890049555718536), (2262, 0.22813091637940106), (2263, 0.237859867827522), (2264, 0.3194552359458433), (2265, 0.19690435403703782), (2266, 0.13073611508099187), (2267, 0.4213978952214307), (2268, 0.4060205658050296), (2269, 0.06431911351611946), (2270, 0.452557822571609), (2271, 0.4593962286741828), (2272, 0.4253667672665379), (2273, 0.37330902613786304), (2274, 0.2576203138642297), (2275, 0.22439839589420907), (2276, 0.322735335576587), (2277, 0.3457094826155315), (2278, 0.2638963805958706), (2279, 0.47357766787302186), (2280, 0.34186679878136345), (2281, 0.14317010982524134), (2282, 0.18872102746031108), (2283, 0.293772852652563), (2284, 0.4503542759191562), (2285, 0.2944976159462307), (2286, 0.12313866423198577), (2287, 0.30638253824106415), (2288, 0.15208302352138192), (2289, 0.0944775070962026), (2290, 0.13084367164165941), (2291, 0.1395173089217318), (2292, 0.4170914363134369), (2293, 0.2940196575152522), (2294, 0.5511376441626907), (2295, 0.38687684946770906), (2296, 0.13118130054713123), (2297, 0.08705502784354796), (2298, 0.0609309863272439), (2299, 0.16254321438896235), (2300, 0.3230512132693701), (2301, 0.2972810530822213), (2302, 0.0632499416431363), (2303, 0.4028420394807821), (2304, 0.09828856029570529), (2305, 0.21658645329367893), (2306, 0.2265544973964535), (2307, 0.05233047670655927), (2308, 0.18458237798221191), (2309, 0.11476335021443415), (2310, 0.15829199195201282), (2311, 0.09953818160830939), (2312, 0.10128440512102524), (2313, 0.28808411893538755), (2314, 0.1027774906204815), (2315, 0.1203952754002273), (2316, 0.477166175632749), (2317, 0.38774926992277764), (2318, 0.2800607635212021), (2319, 0.11780915142123312), (2320, 0.0773456184428344), (2321, 0.20923508934860538), (2322, 0.40823894857627563), (2323, 0.04872558556719429), (2324, 0.11545200517783172), (2325, 0.3223900859485196), (2326, 0.3097370392995302), (2327, 0.14316865630872783), (2328, 0.10390728677918926), (2329, 0.49248333211307105), (2330, 0.19047747521467642), (2331, 0.17400159579146707), (2332, 0.16698491038852373), (2333, 0.22740543212931064), (2334, 0.4396675318792448), (2335, 0.32885235178549344), (2336, 0.38647288472061353), (2337, 0.47749502447621883), (2338, 0.3232926069280965), (2339, 0.17421717519951993), (2340, 0.08139312023028517), (2341, 0.14479174574645906), (2342, 0.1335475301805884), (2343, 0.15452079063821583), (2344, 0.11576963834909768), (2345, 0.05154030340049891), (2346, 0.07042090089980634), (2347, 0.08941532888499636), (2348, 0.11205012095820223), (2349, 0.4004504797196803), (2350, 0.19058674625589936), (2351, 0.5220895970930296), (2352, 0.32408948129586845), (2353, 0.23825827124314278), (2354, 0.3236050575097885), (2355, 0.10531490593381301), (2356, 0.4090445093374625), (2357, 0.13040791031275226), (2358, 0.0869143728845747), (2359, 0.3567055352613549), (2360, 0.14936533538509789), (2361, 0.3540585965885851), (2362, 0.33822365553933187), (2363, 0.12000984210163564), (2364, 0.07065060879399185), (2365, 0.4220389968480549), (2366, 0.31269282911109836), (2367, 0.12389085798642514), (2368, 0.3233154969172947), (2369, 0.3370076018926685), (2370, 0.1001672048743381), (2371, 0.5104431482361966), (2372, 0.23753109225698874), (2373, 0.369108509876394), (2374, 0.5342048872736914), (2375, 0.1569472489104075), (2376, 0.12261657821883842), (2377, 0.3279575481136537), (2378, 0.07759989192263647), (2379, 0.13613355232491342), (2380, 0.18533071986329686), (2381, 0.4066719212269587), (2382, 0.47020512424344624), (2383, 0.07991912695226912), (2384, 0.14093803198984606), (2385, 0.1548144636601917), (2386, 0.4054145639832398), (2387, 0.21175776291529103), (2388, 0.11527896135182393), (2389, 0.34455296247183104), (2390, 0.45293949483871876), (2391, 0.20533535604101089), (2392, 0.05827984704622835), (2393, 0.10105703666165691), (2394, 0.11979041797641891), (2395, 0.16791090521298435), (2396, 0.17151732945454212), (2397, 0.12863566096378382), (2398, 0.427300397983304), (2399, 0.45300631376780937), (2400, 0.1573125575713501), (2401, 0.1962236662127039), (2402, 0.2881050965087455), (2403, 0.05532326609338271), (2404, 0.13652431515163832), (2405, 0.4507149583588501), (2406, 0.22915528622731213), (2407, 0.08140846038263383), (2408, 0.41273832444322756), (2409, 0.4161271750790116), (2410, 0.4335531542425539), (2411, 0.1598047731262547), (2412, 0.38632383675473314), (2413, 0.40005939708640875), (2414, 0.2502394710997498), (2415, 0.4412786678921875), (2416, 0.3397407163936634), (2417, 0.3498659902164711), (2418, 0.4263249802023875), (2419, 0.34559052761130526), (2420, 0.16144880762601768), (2421, 0.5020898598457657), (2422, 0.246400298503403), (2423, 0.39815963973252155), (2424, 0.2611903611683427), (2425, 0.1791251960777536), (2426, 0.11537664949279536), (2427, 0.16626639454248573), (2428, 0.32768028530258414), (2429, 0.5199042607563401), (2430, 0.36024536947761254), (2431, 0.08838212981409488), (2432, 0.22759577418018212), (2433, 0.13343060610130583), (2434, 0.36923826460526343), (2435, 0.1864495042611007), (2436, 0.14345190419788953), (2437, 0.29053827750963496), (2438, 0.3784291290963643), (2439, 0.26978150635127773), (2440, 0.07419914389781539), (2441, 0.10850006742282074), (2442, 0.18238701133867724), (2443, 0.20314663686118187), (2444, 0.10192350641756481), (2445, 0.5170605701350998), (2446, 0.07286243588945227), (2447, 0.32897317781322094), (2448, 0.1864151623631326), (2449, 0.12873451631289126), (2450, 0.1252337750623916), (2451, 0.26835147559158024), (2452, 0.3015338073658494), (2453, 0.3249096608716296), (2454, 0.07770046005311021), (2455, 0.17939470189630555), (2456, 0.3485925471820758), (2457, 0.08212463506356782), (2458, 0.14438548340808557), (2459, 0.4460972845497063), (2460, 0.3321047628352251), (2461, 0.1962531788946163), (2462, 0.37072836888812294), (2463, 0.17097425393169183), (2464, 0.12189369169283394), (2465, 0.12171225372883303), (2466, 0.1568398762329), (2467, 0.08439104680585977), (2468, 0.1611196516755553), (2469, 0.11397559239745292), (2470, 0.18959824516453458), (2471, 0.05688348091650995), (2472, 0.25724873980298746), (2473, 0.241281401014156), (2474, 0.07354975703729248), (2475, 0.11794790115221893), (2476, 0.4216000211896693), (2477, 0.1170237768761056), (2478, 0.3261309843733889), (2479, 0.11230642018572466), (2480, 0.5188583149979151), (2481, 0.3372759325589333), (2482, 0.5170576076212104), (2483, 0.3527925981489142), (2484, 0.05627566715128138), (2485, 0.27312308289350806), (2486, 0.21186966209848662), (2487, 0.3236951391007644), (2488, 0.11884170562606913), (2489, 0.2195630345808307), (2490, 0.11758438801336837), (2491, 0.3642695113121486), (2492, 0.352353340480436), (2493, 0.319450642140591), (2494, 0.42947351182592963), (2495, 0.3771387963715328), (2496, 0.352498879211005), (2497, 0.3220350996103673), (2498, 0.3751355860082832), (2499, 0.28384164713758747), (2500, 0.21259683868675514), (2501, 0.3426013283252855), (2502, 0.3603016243988821), (2503, 0.23591473558736661), (2504, 0.3548144321771), (2505, 0.07788103662757528), (2506, 0.1427618527231168), (2507, 0.3817702917350089), (2508, 0.34486674223778474), (2509, 0.17660257826168044), (2510, 0.3436597857335952), (2511, 0.20072273399134422), (2512, 0.051447922242182934), (2513, 0.10940910721088652), (2514, 0.11095592524159595), (2515, 0.24178977883613473), (2516, 0.38078329371572917), (2517, 0.22112213011427567), (2518, 0.5214811417790534), (2519, 0.22602062818536875), (2520, 0.31300861039057526), (2521, 0.25928873762323834), (2522, 0.42362092617461405), (2523, 0.36960450813564144), (2524, 0.5525491241001677), (2525, 0.39710125352228387), (2526, 0.34714681297736916), (2527, 0.26837310356560146), (2528, 0.3286000094918478), (2529, 0.2986708190309486), (2530, 0.0966829378536758), (2531, 0.08345093562084244), (2532, 0.23952454284854302), (2533, 0.2837905395143212), (2534, 0.2758386179765974), (2535, 0.5105708782043352), (2536, 0.32884019182357516), (2537, 0.18060975342315927), (2538, 0.2819278209725422), (2539, 0.25896105832097305), (2540, 0.4592024097423176), (2541, 0.5043963653960768), (2542, 0.32747074351943306), (2543, 0.3027560041978727), (2544, 0.4383619239535926), (2545, 0.2725437359431726), (2546, 0.14877997119479497), (2547, 0.41351706173444513), (2548, 0.49704251457742316), (2549, 0.2489408219397748), (2550, 0.050751250156408766), (2551, 0.1036780753367682), (2552, 0.07721178317645219), (2553, 0.2502593459102678), (2554, 0.12620797558539093), (2555, 0.47449713950307126), (2556, 0.10391791680524168), (2557, 0.38112889930098204), (2558, 0.41435683681366464), (2559, 0.2441327914925096), (2560, 0.142937067994395), (2561, 0.09612473351727487), (2562, 0.2763603164960909), (2563, 0.14099840426881027), (2564, 0.30676784490723613), (2565, 0.3831514586548783), (2566, 0.3585614669086658), (2567, 0.1381386943716585), (2568, 0.21476357501609186), (2569, 0.18210702179032365), (2570, 0.33959507842092174), (2571, 0.3632928555657861), (2572, 0.1328167673937114), (2573, 0.43426227620282676), (2574, 0.4395034805412772), (2575, 0.24760968534017885), (2576, 0.4456670222217013), (2577, 0.06743225063147938), (2578, 0.5036672906745404), (2579, 0.07017438066336906), (2580, 0.14827275370507303), (2581, 0.14606866059305482), (2582, 0.3609229886535365), (2583, 0.2293945717012718), (2584, 0.24306289366458184), (2585, 0.10008224119978185), (2586, 0.39565222359333724), (2587, 0.18010385626962905), (2588, 0.3099791347899299), (2589, 0.2071035967193374), (2590, 0.08569861391413286), (2591, 0.12079211016160793), (2592, 0.18904615509135048), (2593, 0.19926838236954342), (2594, 0.183645736260297), (2595, 0.2670718809538978), (2596, 0.0703937833893254), (2597, 0.3027672110665159), (2598, 0.28979916000807193), (2599, 0.2860540420818698), (2600, 0.14542161483488542), (2601, 0.1645918439353375), (2602, 0.2720306846914494), (2603, 0.4712568757740104), (2604, 0.13134931371340242), (2605, 0.36269991687301817), (2606, 0.37063138698803133), (2607, 0.09291219257908334), (2608, 0.24213873575803974), (2609, 0.3945598104476618), (2610, 0.41163964648989865), (2611, 0.30111291438447224), (2612, 0.3111374869681697), (2613, 0.3127896243956057), (2614, 0.365730968851999), (2615, 0.5170485797885924), (2616, 0.32307603315914657), (2617, 0.46004623067960476), (2618, 0.1588741206039464), (2619, 0.17539592040420607), (2620, 0.37237912686744157), (2621, 0.3839997202612315), (2622, 0.5291443848022388), (2623, 0.44534696551105935), (2624, 0.2581601090164888), (2625, 0.31119555174220803), (2626, 0.0922917479036838), (2627, 0.12309915962033346), (2628, 0.189818648728785), (2629, 0.44768716770058076), (2630, 0.2126219608859135), (2631, 0.29989353483468706), (2632, 0.15844889515821906), (2633, 0.04527968856747989), (2634, 0.2075881139391899), (2635, 0.06066386429584229), (2636, 0.1077546486557565), (2637, 0.23578618204500174), (2638, 0.4431800937435881), (2639, 0.36287363561025193), (2640, 0.09911087303480429), (2641, 0.5533257039243856), (2642, 0.1402227981997216), (2643, 0.47526967809715814), (2644, 0.07807755445791575), (2645, 0.15863905136238413), (2646, 0.0887379353129168), (2647, 0.12846864976066585), (2648, 0.39269185141229057), (2649, 0.19640628456525136), (2650, 0.13702088335964122), (2651, 0.08599334112215623), (2652, 0.41587555817452965), (2653, 0.29514589871538666), (2654, 0.15977874390080377), (2655, 0.09873083161239937), (2656, 0.2199474818281295), (2657, 0.09950139158450585), (2658, 0.06258761704635274), (2659, 0.08783857547439414), (2660, 0.2645488305322924), (2661, 0.4724097659751482), (2662, 0.19882990989243707), (2663, 0.3715365661452828), (2664, 0.13922219419642032), (2665, 0.3925332277215788), (2666, 0.11485528519814223), (2667, 0.3815458721442475), (2668, 0.3645207099378767), (2669, 0.15108516727026128), (2670, 0.12164532406439765), (2671, 0.23027130906779292), (2672, 0.30717347808356615), (2673, 0.00799179257805685), (2674, 0.138988795919183), (2675, 0.2953800997067125), (2676, 0.16449088160999625), (2677, 0.29462427096853483), (2678, 0.07723210479172295), (2679, 0.07845553901353969), (2680, 0.2909768949066453), (2681, 0.1787988383311531), (2682, 0.49331071455264225), (2683, 0.3167898166469175), (2684, 0.18635235245038395), (2685, 0.21809356490728257), (2686, 0.4451337619224192), (2687, 0.4328144885882067), (2688, 0.27533912150120304), (2689, 0.4283916824502744), (2690, 0.308218608611346), (2691, 0.5305572467587818), (2692, 1.0), (2693, 0.13279301452984152), (2694, 0.34160985618217143), (2695, 0.07666094937413001), (2696, 0.24939474419430624), (2697, 0.07379533854479149), (2698, 0.07197278629112482), (2699, 0.06271380167087878), (2700, 0.05617512569023703), (2701, 0.3220583155528348), (2702, 0.0629385186236573), (2703, 0.27333061797681046), (2704, 0.37243361446658013), (2705, 0.1113976844172628), (2706, 0.21743032718892252), (2707, 0.10094185823799551), (2708, 0.10795235268930102), (2709, 0.13760690888266666), (2710, 0.3684010912034019), (2711, 0.5267264466303601), (2712, 0.09654230239168948), (2713, 0.4046749615906584), (2714, 0.4073680441787735), (2715, 0.28339291023478835), (2716, 0.5385486467494187), (2717, 0.0), (2718, 0.3557952931333028), (2719, 0.33439156244295876), (2720, 0.26790137565203465), (2721, 0.16530121407498088), (2722, 0.133811874383829), (2723, 0.39204161678219807), (2724, 0.1360090277992859), (2725, 0.3198020243101698), (2726, 0.05238252063226384), (2727, 0.37913067963874014), (2728, 0.30631036852550914), (2729, 0.3107360605821069), (2730, 0.29653647566014346), (2731, 0.18400573095944373), (2732, 0.34425563458363884), (2733, 0.12162525207262728), (2734, 0.07895309053783353), (2735, 0.12338973579269565), (2736, 0.4115913011847108), (2737, 0.17794224394863883), (2738, 0.14841506871182952), (2739, 0.11060988673385269), (2740, 0.1306833909637492), (2741, 0.06901741599575507), (2742, 0.43869961667237667), (2743, 0.24574654977899862), (2744, 0.18950858670568346), (2745, 0.15145210649554292), (2746, 0.23229748926460625), (2747, 0.15717094117779826), (2748, 0.11189403880634098), (2749, 0.3216433836539624), (2750, 0.15004146806261057), (2751, 0.10166114274492198), (2752, 0.08888394390234662), (2753, 0.29376249334828974), (2754, 0.41901056380657736), (2755, 0.3590197968019304), (2756, 0.29293402307134225), (2757, 0.30458905843546225), (2758, 0.3465663610927274), (2759, 0.29732057780738064), (2760, 0.21249414867346808), (2761, 0.2634116664564714), (2762, 0.0882363560696944), (2763, 0.39537671983410555), (2764, 0.3386463969223859), (2765, 0.13579678954515817), (2766, 0.36086226466267696), (2767, 0.1609545633020218), (2768, 0.22173939725591385), (2769, 0.1984266944805239), (2770, 0.10263664756173951), (2771, 0.25166254955984374), (2772, 0.07123676490019797), (2773, 0.05494176137765748), (2774, 0.18584738903227066), (2775, 0.13078942373364127), (2776, 0.19225992052024332), (2777, 0.08800857532819087), (2778, 0.14904025248890018), (2779, 0.3801172037412053), (2780, 0.4204521002988071), (2781, 0.35879333789028384), (2782, 0.09450002675735844), (2783, 0.09886854720711953), (2784, 0.4712950158213151), (2785, 0.3137690173341788), (2786, 0.07961478365546996), (2787, 0.12589002848461497), (2788, 0.3127284655837825), (2789, 0.3411721003449097), (2790, 0.30912863192315276), (2791, 0.3643991935454731), (2792, 0.4691147120801646), (2793, 0.347908083196286), (2794, 0.28019138657840226), (2795, 0.2305899645120679), (2796, 0.15783517145585607), (2797, 0.25265810893145446), (2798, 0.4269680215189111), (2799, 0.504841024607509), (2800, 0.4352583826825852), (2801, 0.5138914493527138), (2802, 0.3805283223292285), (2803, 0.5105941448831608), (2804, 0.3771835047128256), (2805, 0.09897570780513847), (2806, 0.061122641034631914), (2807, 0.41948218589667635), (2808, 0.4591867484978421), (2809, 0.3238673834028289), (2810, 0.1326301912189194), (2811, 0.285905306568898), (2812, 0.30805347211997114), (2813, 0.3276761689915905), (2814, 0.07139451647686437), (2815, 0.44586669551697844), (2816, 0.09731805098960916), (2817, 0.3501872877955661), (2818, 0.2226980486939349), (2819, 0.45658904331723194), (2820, 0.30785396141849974), (2821, 0.10218764481353132), (2822, 0.3702107726107194), (2823, 0.3161186163140264), (2824, 0.34122243147232334), (2825, 0.2552052746494995), (2826, 0.5032218137865988), (2827, 0.17634253422695748), (2828, 0.32459630471344014), (2829, 0.07092199851368843), (2830, 0.4495751430084187), (2831, 0.09406894468161885), (2832, 0.12163952430492721), (2833, 0.11992527559507776), (2834, 0.2842856945925333), (2835, 0.044327805442723814), (2836, 0.13613457276680602), (2837, 0.1474909321164728), (2838, 0.1275654531700745), (2839, 0.3303518948205904), (2840, 0.10178763200555531), (2841, 0.24089722243325418), (2842, 0.08037168036602668), (2843, 0.1784456585340257), (2844, 0.1316043597009375), (2845, 0.3743603626834646), (2846, 0.3622365024852869), (2847, 0.21151180041985707), (2848, 0.40973761218353066), (2849, 0.11854466783342023), (2850, 0.5234938847228425), (2851, 0.1335481640688067), (2852, 0.2974080325224207), (2853, 0.38348693492203156), (2854, 0.250632971202145), (2855, 0.12053895411376406), (2856, 0.3647484334510056), (2857, 0.06524644108384373), (2858, 0.21632118845836784), (2859, 0.21108417462726636), (2860, 0.19360698182772582), (2861, 0.31075460083096945), (2862, 0.211264156231278), (2863, 0.3297223569542474), (2864, 0.12479692601572892), (2865, 0.31678185591486163), (2866, 0.1701384982020534), (2867, 0.2507306587053758), (2868, 0.3706919382598092), (2869, 0.19186447438373805), (2870, 0.06523628979181662), (2871, 0.22276286628483144), (2872, 0.2570610947235338), (2873, 0.3315961622677195), (2874, 0.08888899728924311), (2875, 0.11230554019304528), (2876, 0.08771828264587293), (2877, 0.1397802842657195), (2878, 0.3991788409478239), (2879, 0.10482548304803257), (2880, 0.1699000468749757), (2881, 0.24711981617325324), (2882, 0.3263814385092775), (2883, 0.14769419494274694), (2884, 0.09872086648750295), (2885, 0.1310579526376887), (2886, 0.41274816808965936), (2887, 0.09400292620166217), (2888, 0.30390936690355297), (2889, 0.1427658103424332), (2890, 0.1263093303181833), (2891, 0.12803448122511712), (2892, 0.35224567850629884), (2893, 0.30700978343911706), (2894, 0.3269162161312593), (2895, 0.31909468024541915), (2896, 0.5033438241297039), (2897, 0.16954707898730811), (2898, 0.37420825524643586), (2899, 0.2422119589919402), (2900, 0.07922843383693423), (2901, 0.103604790324999), (2902, 0.09978900479474981), (2903, 0.5020814528828506), (2904, 0.3304232845111644), (2905, 0.18109209714156765), (2906, 0.2850632405411056), (2907, 0.2767715864258618), (2908, 0.41097758931302936), (2909, 0.3766108661309823), (2910, 0.3106824000701259), (2911, 0.14867822367039027), (2912, 0.4261577875593918), (2913, 0.06972191310003514), (2914, 0.10717262964654027), (2915, 0.24144117726122322), (2916, 0.16349766220346346), (2917, 0.24978298555831768), (2918, 0.48569840853363966), (2919, 0.5113802465228711), (2920, 0.4670080842612796), (2921, 0.4431509893914892), (2922, 0.2990172444401156), (2923, 0.1486642571711396), (2924, 0.10469835964229221), (2925, 0.08329464268038965), (2926, 0.23676260909787952), (2927, 0.28958559946193), (2928, 0.18456569450105414), (2929, 0.3054488471606851), (2930, 0.052478161697928176), (2931, 0.3773062442021074), (2932, 0.09663848731564773), (2933, 0.16014548614948038), (2934, 0.060701417121301005), (2935, 0.11811191908344928), (2936, 0.09808396558771762), (2937, 0.07759860624823901), (2938, 0.24341710465531702), (2939, 0.24173665213975587), (2940, 0.19281629144726914), (2941, 0.057447707321488184), (2942, 0.3831416268853457), (2943, 0.15409251928480955), (2944, 0.35189884266331123), (2945, 0.07192034497975294), (2946, 0.1542322758102942), (2947, 0.31487478749463516), (2948, 0.07168429678111325), (2949, 0.09804737196251473), (2950, 0.340235601463452), (2951, 0.1316035552059735), (2952, 0.24804414184379034), (2953, 0.2638590990088886), (2954, 0.09344252761549421), (2955, 0.2868769488822661), (2956, 0.3296397401737104), (2957, 0.3725646425196011), (2958, 0.28895563106137623), (2959, 0.3459312203726046), (2960, 0.5453763807674035), (2961, 0.47836652243202377), (2962, 0.24113498695982732), (2963, 0.3863047916531597), (2964, 0.26026355020714487), (2965, 0.1920816628582984), (2966, 0.13740874826839228), (2967, 0.08563046477001977), (2968, 0.11489960314838443), (2969, 0.2857914046642804), (2970, 0.3290785089693947), (2971, 0.2415886847902364), (2972, 0.23364359907408228), (2973, 0.24663314586623325), (2974, 0.11288097904741728), (2975, 0.3751257541028892), (2976, 0.3240513546941616), (2977, 0.23730704603982047), (2978, 0.2984822099619038), (2979, 0.2654234150846406), (2980, 0.47362583963265165), (2981, 0.364734118006456), (2982, 0.23475843039869765), (2983, 0.14161521478797737), (2984, 0.47982452110206225), (2985, 0.42708617361610424), (2986, 0.3590614536120261), (2987, 0.11627386399407913), (2988, 0.36208163684617095), (2989, 0.11916685524408754), (2990, 0.12397191161037457), (2991, 0.2939853970797247), (2992, 0.07519194923557904), (2993, 0.06854063705987025), (2994, 0.1471480836754272), (2995, 0.21500288859674618), (2996, 0.3605995291987562), (2997, 0.11399740898748524), (2998, 0.1397710347877761), (2999, 0.052997226955680515), (3000, 0.10855773050367137), (3001, 0.3238076514064371), (3002, 0.5247884439786966), (3003, 0.0866859836542318), (3004, 0.1235091041055151), (3005, 0.2647779512387364), (3006, 0.19404724715302635), (3007, 0.04745388366815069), (3008, 0.2645414465540695), (3009, 0.11454247455956759), (3010, 0.3930540308251615), (3011, 0.38687054064629617), (3012, 0.3589378512555155), (3013, 0.33530853178540565), (3014, 0.11919351517477918), (3015, 0.24878972213351463), (3016, 0.15640160544573997), (3017, 0.06995179629187949), (3018, 0.27298181650350956), (3019, 0.05976041535096941), (3020, 0.06759659884234456), (3021, 0.3405653861899393), (3022, 0.2518791466154975), (3023, 0.21493729826406507), (3024, 0.13378298675651581), (3025, 0.06823245820133206), (3026, 0.268437970708159), (3027, 0.17522923712085867), (3028, 0.3271825487351425), (3029, 0.07657833791803709), (3030, 0.3289185061736575), (3031, 0.2967311524953946), (3032, 0.0887172931200593), (3033, 0.15102834430568682), (3034, 0.08147158535461566), (3035, 0.09468490880464045), (3036, 0.13655471027167823), (3037, 0.09614173938555824), (3038, 0.22213381690600298), (3039, 0.40708740022290624), (3040, 0.13414442780038804), (3041, 0.05440717953085522), (3042, 0.34373851257743465), (3043, 0.47664576656737245), (3044, 0.0991429262940851), (3045, 0.32061326185071226), (3046, 0.08894099299253895), (3047, 0.5161845374016508), (3048, 0.19606506395708645), (3049, 0.12858183906656123), (3050, 0.1124280712216496), (3051, 0.14174134735429314), (3052, 0.3164547392198747), (3053, 0.30900343520350604), (3054, 0.17106305217638001), (3055, 0.0811793246876261), (3056, 0.1302590302939894), (3057, 0.17460669214954128), (3058, 0.4755699202125094), (3059, 0.056466522719888564), (3060, 0.3540900467851555), (3061, 0.33045561618743313), (3062, 0.1740876885926011), (3063, 0.0726412536634088), (3064, 0.2841770891831761), (3065, 0.24770319829103699), (3066, 0.514117342672298), (3067, 0.13428170244573434), (3068, 0.2748743582344821), (3069, 0.33926913028539885), (3070, 0.14782381698281555), (3071, 0.23281797217941913), (3072, 0.3611518729693243), (3073, 0.36095483352907803), (3074, 0.11992328425044092), (3075, 0.0677846212676571), (3076, 0.22061389864849212), (3077, 0.45363778481677264), (3078, 0.39628588744221827), (3079, 0.37974770443006217), (3080, 0.08653923998808716), (3081, 0.3055989135542984), (3082, 0.11362795357271283), (3083, 0.3719544826941559), (3084, 0.12995938242583607), (3085, 0.3988995842204864), (3086, 0.10222766029639777), (3087, 0.08308408987914148), (3088, 0.06683338370975193), (3089, 0.17914912335513122), (3090, 0.04923574300788558), (3091, 0.37378292297371357), (3092, 0.109351051176249), (3093, 0.28921634108043176), (3094, 0.3253314636710061), (3095, 0.15672012941223568), (3096, 0.4090461330064211), (3097, 0.347305183448485), (3098, 0.27825324140943214), (3099, 0.19609490978377803), (3100, 0.49946993146607876), (3101, 0.1250294224132683), (3102, 0.3246218723569233), (3103, 0.1940757689261578), (3104, 0.3739859948717095), (3105, 0.28334852548583717), (3106, 0.264856772632976), (3107, 0.10948471193792902), (3108, 0.06709329379887626), (3109, 0.09849800424971548), (3110, 0.07859796183891246), (3111, 0.1680879456387511), (3112, 0.14485497317309817), (3113, 0.09839604867912428), (3114, 0.44738188335446377), (3115, 0.1510067325268974), (3116, 0.05787013413625806), (3117, 0.12416467031309435), (3118, 0.07320510683363056), (3119, 0.2719926636717385), (3120, 0.22247835537149682), (3121, 0.07743073600081818), (3122, 0.44177350957679784), (3123, 0.1197368989673776), (3124, 0.5457693545373705), (3125, 0.05702049870838137), (3126, 0.5491426568837751), (3127, 0.29278049758392344), (3128, 0.12134640094226475), (3129, 0.4146603273509525), (3130, 0.5521675236027258), (3131, 0.5536871397859613), (3132, 0.3921196850024021), (3133, 0.4047754208933454), (3134, 0.4609878757548871), (3135, 0.21704202780770657), (3136, 0.17381902586980644), (3137, 0.19731108364779365), (3138, 0.13523695483361486), (3139, 0.17610023554239554), (3140, 0.06684730107651882), (3141, 0.3078258067834504), (3142, 0.057410469249575734), (3143, 0.39870842190503386), (3144, 0.3453403766947272), (3145, 0.30020724128183995), (3146, 0.23286074642127422), (3147, 0.3870656889563297), (3148, 0.07762436033566271), (3149, 0.21907759406535743), (3150, 0.42489810784322124), (3151, 0.1275959193547582), (3152, 0.06471653751072247), (3153, 0.3564930920226596), (3154, 0.1549165273072611), (3155, 0.29238049235011876), (3156, 0.2779472943514519), (3157, 0.08216853589323495), (3158, 0.3618269323880138), (3159, 0.06684784570184243), (3160, 0.47667328668587733), (3161, 0.39138631228294646), (3162, 0.1566952046175882), (3163, 0.442075340234695), (3164, 0.4680775140193436), (3165, 0.09530814103807649), (3166, 0.32703798680131124), (3167, 0.538976881382538), (3168, 0.35616949580882573), (3169, 0.5476899239779174), (3170, 0.23583181732795286), (3171, 0.28256180508293105), (3172, 0.12947011057215424), (3173, 0.22013350138402818), (3174, 0.38802834654500845), (3175, 0.10008111116126386), (3176, 0.10650013923557478), (3177, 0.05014724505762276), (3178, 0.30285233764684766), (3179, 0.41843326741348624), (3180, 0.485881835964426), (3181, 0.3167638254641819), (3182, 0.3537315227056276), (3183, 0.33384811385636387), (3184, 0.17120120705716016), (3185, 0.12572612675032804), (3186, 0.33357352242936844), (3187, 0.11996410357992479), (3188, 0.28008892397734364), (3189, 0.1986568423594368), (3190, 0.25381716884879785), (3191, 0.3562336738848838), (3192, 0.45342600101855457), (3193, 0.43073107853768366), (3194, 0.18675523635732255), (3195, 0.26950132824397544), (3196, 0.13574590926403013), (3197, 0.11943027667406697), (3198, 0.1044823799233607), (3199, 0.14231268464479263), (3200, 0.3045223618937895), (3201, 0.41268885747791934), (3202, 0.4254070497203622), (3203, 0.1362359642340559), (3204, 0.3788330340063361), (3205, 0.1008749820223072), (3206, 0.05681712041433323), (3207, 0.4067426810234275), (3208, 0.44459768700717833), (3209, 0.1936008657532211), (3210, 0.2871619202828348), (3211, 0.3263203082658586), (3212, 0.48004472080301464), (3213, 0.11114413584638083), (3214, 0.08027852505179364), (3215, 0.2270997150316265), (3216, 0.2848399359634544), (3217, 0.07985682534178856), (3218, 0.31451204111179126), (3219, 0.14217146504331352), (3220, 0.2885382342839905), (3221, 0.2540125951297187), (3222, 0.13866817544638646), (3223, 0.28713678242458257), (3224, 0.3750688556053872), (3225, 0.4662483751457098), (3226, 0.3369422848106036), (3227, 0.25687235782242573), (3228, 0.2955585960932869), (3229, 0.24543123551597223), (3230, 0.4892080909909549), (3231, 0.4981426625402531), (3232, 0.31791316711097223), (3233, 0.49131207225929696), (3234, 0.26303528527810055), (3235, 0.05681057298990467), (3236, 0.26597087721773477), (3237, 0.0946275107739588), (3238, 0.28028226095478737), (3239, 0.18785517613966402), (3240, 0.05106654086395309), (3241, 0.4339484201066035), (3242, 0.14635612777066764), (3243, 0.07510545365832899), (3244, 0.04851941208910679), (3245, 0.19077874130140685), (3246, 0.2839909316241101), (3247, 0.3875021103133325), (3248, 0.14253835599286055), (3249, 0.125910720937528), (3250, 0.32350526524853146), (3251, 0.11923437927571702), (3252, 0.2381342574785949), (3253, 0.13464787912787007), (3254, 0.3034444887224565), (3255, 0.07162164625428369), (3256, 0.32877480583017615), (3257, 0.08767533813042622), (3258, 0.07260857673111515), (3259, 0.3422331441172477), (3260, 0.46877491426341045), (3261, 0.07515315474647383), (3262, 0.0672441512122712), (3263, 0.07660098005988493), (3264, 0.10848482057654293), (3265, 0.14333233104455273), (3266, 0.0), (3267, 0.08597153800652511), (3268, 0.22715345981717958), (3269, 0.06214257524851055), (3270, 0.38879422337700525), (3271, 0.3373112023457173), (3272, 0.3128004644586632), (3273, 0.21134625162785792), (3274, 0.2173209806923577), (3275, 0.5124675430387352), (3276, 0.35219603213881573), (3277, 0.10303386499556225), (3278, 0.33319296718534264), (3279, 0.3928087831653397), (3280, 0.32536944904297976), (3281, 0.23881798448791725), (3282, 0.10735481843787484), (3283, 0.07231135987380204), (3284, 0.37328547550105595), (3285, 0.11122491739156709), (3286, 0.3687974235106286), (3287, 0.24517737598122666), (3288, 0.5221422138700297), (3289, 0.11547814987287028), (3290, 0.47273464412587823), (3291, 0.19560339949400893), (3292, 0.32014376411345136), (3293, 0.07932407281366977), (3294, 0.3051466125288294), (3295, 0.13382709517760216), (3296, 0.1742200650370405), (3297, 0.12110523448015795), (3298, 0.4326617024550256), (3299, 0.3396078634027731), (3300, 0.3476087213948732), (3301, 0.34048547264738316), (3302, 0.15276520021617018), (3303, 0.11989092930402154), (3304, 0.26189445473166895), (3305, 0.3376578476146317), (3306, 0.1385656174242073), (3307, 0.19240029095473207), (3308, 0.36775350031013776), (3309, 0.08198216626468166), (3310, 0.5444897830105516), (3311, 0.34654101093744843), (3312, 0.1280476053174279), (3313, 0.3538592182384732), (3314, 0.32841935711541914), (3315, 0.1661123390622985), (3316, 0.44091411700465927), (3317, 0.29180108694655144), (3318, 0.3209814588717134), (3319, 0.32765031162658154), (3320, 0.37492315199594733), (3321, 0.16325685991131442), (3322, 0.23175847130353955), (3323, 0.0), (3324, 0.16668094690110175), (3325, 0.004168091866190812), (3326, 0.3167928533208142), (3327, 0.3263550647664719), (3328, 0.2349868361942525), (3329, 0.38668260027912316), (3330, 0.25831425750658776), (3331, 0.22677865845838152), (3332, 0.2174640289744028), (3333, 0.34177195573108493), (3334, 0.30104908282507153), (3335, 0.5048112672298288), (3336, 0.10096943701781402), (3337, 0.3790862543478709), (3338, 0.4721517445807428), (3339, 0.41728953401935176), (3340, 0.28902195428473937), (3341, 0.09328562486863183), (3342, 0.5050893749295535), (3343, 0.30582288124873647), (3344, 0.5345310968822161), (3345, 0.09459649592841748), (3346, 0.3127233808540512), (3347, 0.20461839799293297), (3348, 0.09279739744696908), (3349, 0.2037014162597739), (3350, 0.047940191920945806), (3351, 0.42136279333461046), (3352, 0.38792024008345116), (3353, 0.10426523484745821), (3354, 0.12766837474665677), (3355, 0.3175018257957231), (3356, 0.3730207853223905), (3357, 0.3000942696482998), (3358, 0.39599956150952853), (3359, 0.2077675992594006), (3360, 0.5330925723573441), (3361, 0.5425472791404018), (3362, 0.3298419937109978), (3363, 0.3838386125909737), (3364, 0.16692261642613837), (3365, 0.19377821705399267), (3366, 0.27112496270738445), (3367, 0.48684040327911693), (3368, 0.534692606273015), (3369, 0.11633110467592639), (3370, 0.44462090613231264), (3371, 0.17112722536751734), (3372, 0.074048686549587), (3373, 0.4138364135021526), (3374, 0.3349441110841875), (3375, 0.3153472175049019), (3376, 0.40752654478932887), (3377, 0.29759354828118767), (3378, 0.15883497971306995), (3379, 0.5235716311314105), (3380, 0.22793874912204726), (3381, 0.48223044227322587), (3382, 0.09657005520168992), (3383, 0.17542967476868104), (3384, 0.4149551823950429), (3385, 0.39139759679906455), (3386, 0.21175293188776032), (3387, 0.4019683491115503), (3388, 0.38951484873157727), (3389, 0.07128148102892927), (3390, 0.2936804113292789), (3391, 0.15904629362667952), (3392, 0.24342356474948076), (3393, 0.29802884375527317), (3394, 0.4031407682642846), (3395, 0.29956035321130703), (3396, 0.07563097672728332), (3397, 0.0411013493648428), (3398, 0.5076995105998011), (3399, 0.14237473940163775), (3400, 0.09806073159061421), (3401, 0.24957739007955437), (3402, 0.28272747898108663), (3403, 0.11086145168733094), (3404, 0.34051117752513815), (3405, 0.3698007686465263), (3406, 0.3679683793854384), (3407, 0.30907930926922716), (3408, 0.11401602606937675), (3409, 0.47782396920166187), (3410, 0.3623311550413179), (3411, 0.25030152676963513), (3412, 0.10710930218920664), (3413, 0.28766543699295316), (3414, 0.08245003549828804), (3415, 0.2931245916592505), (3416, 0.5030549709158522), (3417, 0.11849212573010043), (3418, 0.1449744347848507), (3419, 0.09989424332753254), (3420, 0.007316342746766523), (3421, 0.24837508293645968), (3422, 0.07043991252457409), (3423, 0.1821687814155906), (3424, 0.07622280761278585), (3425, 0.2795488469661858), (3426, 0.2922784812606852), (3427, 0.5483614449965039), (3428, 0.051708573530360305), (3429, 0.5163589040444123), (3430, 0.34324464508667524), (3431, 0.24709476026693816), (3432, 0.417711733927827), (3433, 0.34884359363990164), (3434, 0.11081187899905717), (3435, 0.4839403369283012), (3436, 0.480686668432168), (3437, 0.2502877014470082), (3438, 0.3125326971156384), (3439, 0.1280149603980332), (3440, 0.29161218781999076), (3441, 0.05162402427407802), (3442, 0.4434495203515196), (3443, 0.3000071903412092), (3444, 0.4352741169608045), (3445, 0.5356251567400176), (3446, 0.3240277441700914), (3447, 0.47608454329862027), (3448, 0.3776576937685728), (3449, 0.1955763627380448), (3450, 0.568442367031623), (3451, 0.5426001555703308), (3452, 0.46154573054445225), (3453, 0.5134649945189692), (3454, 0.4771886143270582), (3455, 0.0639773036759505), (3456, 0.09965906582425824), (3457, 0.3667812135135342), (3458, 0.06860810342513694), (3459, 0.14350995086451623), (3460, 0.37027473970104163), (3461, 0.30370912246289206), (3462, 0.4824027829704115), (3463, 0.4846200375275534), (3464, 0.41363937575522397), (3465, 0.1642771962851736), (3466, 0.38790015621807306), (3467, 0.5737530415903438), (3468, 0.4266126874277359), (3469, 0.47489575084720537), (3470, 0.47798064057986367), (3471, 0.1671781630512053), (3472, 0.11092924128880932), (3473, 0.43972857087950745), (3474, 0.3115837618412536), (3475, 0.0725898664045405), (3476, 0.2013748302006458), (3477, 0.27892760542147116), (3478, 0.4908437640435452), (3479, 0.09248323854530302), (3480, 0.41955310088150016), (3481, 0.26792195821709963), (3482, 0.20492189318224963), (3483, 0.4196488867570493), (3484, 0.4971132876883541), (3485, 0.33671262343717506), (3486, 0.3684422161245499), (3487, 0.2801000164669832), (3488, 0.19190111638491245), (3489, 0.1376327674133278), (3490, 0.491315120561878), (3491, 0.3343898512279386), (3492, 0.5292102615065565), (3493, 0.46071955973775147), (3494, 0.2958965901392327), (3495, 0.2905071508544992), (3496, 0.4793346945300412), (3497, 0.36333140671473996), (3498, 0.3866710668945531), (3499, 0.38162462856392576), (3500, 0.21939758673059823), (3501, 0.05537416983375224), (3502, 0.13964935410883075), (3503, 0.4047544244884706), (3504, 0.18228795351038235), (3505, 0.4700686898850907), (3506, 0.08842786516884008), (3507, 0.544966984590024), (3508, 0.4999184962975964), (3509, 0.390786700107267), (3510, 0.07127916033524444), (3511, 0.20460106025175406), (3512, 0.0830128116223946), (3513, 0.21082044268841327), (3514, 0.17785356095503663), (3515, 0.14765929791037335), (3516, 0.3373285000313982), (3517, 0.15729473077140252), (3518, 0.12990059858660935), (3519, 0.4520941705688603), (3520, 0.4455691731028296), (3521, 0.11991875371806007), (3522, 0.4285455537561722), (3523, 0.07706224592184675), (3524, 0.0647851959512691), (3525, 0.518881330963613), (3526, 0.08830365105043536), (3527, 0.29332628897124585), (3528, 0.12135557992335186), (3529, 0.10348875491458354), (3530, 0.05489464329797353), (3531, 0.34873987941143336), (3532, 0.5447957123409785), (3533, 0.12130198434140912), (3534, 0.2602142161376068), (3535, 0.07427362969157092), (3536, 0.10454394203512889), (3537, 0.060573293730846495), (3538, 0.08066466408565678), (3539, 0.2792430921267753), (3540, 0.29949296784861856), (3541, 0.36119466616481966), (3542, 0.37768219419526305), (3543, 0.359690050655917), (3544, 0.06570289728995407), (3545, 0.08514071610177065), (3546, 0.3666029459548622), (3547, 0.19360667511824464), (3548, 0.405556204908825), (3549, 0.4570000691358236), (3550, 0.4591512198569773), (3551, 0.37947581769790806), (3552, 0.003871858310153076), (3553, 0.222210111406197), (3554, 0.337832752888244), (3555, 0.38147399294415535), (3556, 0.13035386548311112), (3557, 0.2647029889295146), (3558, 0.09675094913065706), (3559, 0.4178861782340737), (3560, 0.16336532807719234), (3561, 0.0695026035494962), (3562, 0.212133123975075), (3563, 0.15504555631558253), (3564, 0.41954431739618536), (3565, 0.4625030945806893), (3566, 0.5459253776585804), (3567, 0.44131038925933874), (3568, 0.4297737077526933), (3569, 0.4791707726305308), (3570, 0.3197403852494754), (3571, 0.07886958748794497), (3572, 0.46653552517554503), (3573, 0.18479847128848292), (3574, 0.2758930913691076), (3575, 0.11772149571024529), (3576, 0.334553217989475), (3577, 0.06484517787416334), (3578, 0.14879863646468383), (3579, 0.14270031947072545), (3580, 0.2543806460175385), (3581, 0.2745163009542968), (3582, 0.13707528696359467), (3583, 0.28665690858488785), (3584, 0.2694553207093542), (3585, 0.08161569907208487), (3586, 0.43878720680912825), (3587, 0.4873617996275427), (3588, 0.15693050155906085), (3589, 0.07855853396853092), (3590, 0.37381377093742807), (3591, 0.36102963658198156), (3592, 0.4979373754172206), (3593, 0.45529132629284613), (3594, 0.14101758631830236), (3595, 0.3934235759785236), (3596, 0.38062959732892465), (3597, 0.3500197436495648), (3598, 0.3791294622974114), (3599, 0.35947410089877485), (3600, 0.2038107943751854), (3601, 0.05808590625279397), (3602, 0.36363200525776873), (3603, 0.44222481698714233), (3604, 0.4880647983983294), (3605, 0.46635883029876735), (3606, 0.313465548412372), (3607, 0.3985806207802336), (3608, 0.24256222233776834), (3609, 0.3659978345880402), (3610, 0.1613885368903724), (3611, 0.4846900662502123), (3612, 0.5194142542613672), (3613, 0.2902149588063446), (3614, 0.17894972270305898), (3615, 0.06996824136661278), (3616, 0.19658424410697745), (3617, 0.22792249879398968), (3618, 0.4851776440302463), (3619, 0.38950646387977444), (3620, 0.059821319994473494), (3621, 0.3147008472628717), (3622, 0.0945925723037039), (3623, 0.5344442372255538), (3624, 0.09803864166811245), (3625, 0.23873032054254706), (3626, 0.25065528239122975), (3627, 0.07145099542087271), (3628, 0.4187527219319182), (3629, 0.22580373869480264), (3630, 0.08298742868167436), (3631, 0.28442995834567475), (3632, 0.3425832788977625), (3633, 0.4721490991158126), (3634, 0.23571970356610467), (3635, 0.44224527845186634), (3636, 0.07297856256387678), (3637, 0.4712750709026679), (3638, 0.12587677846092124), (3639, 0.3487092956787668), (3640, 0.10868765446835454), (3641, 0.3975767465345591), (3642, 0.525325714428502), (3643, 0.3520585738573484), (3644, 0.13216122624329568), (3645, 0.09203829009251216), (3646, 0.3745941395525888), (3647, 0.15714372785870595), (3648, 0.2258889135846883), (3649, 0.45890592725979856), (3650, 0.1264826654631279), (3651, 0.3166540229657224), (3652, 0.21683881591172596), (3653, 0.15600902731124333), (3654, 0.32142540702913613), (3655, 0.3053354710888504), (3656, 0.1450025703063664), (3657, 0.5042713682376995), (3658, 0.4716273321770552), (3659, 0.35188337283218346), (3660, 0.5119667691740897), (3661, 0.31879131846418257), (3662, 0.4551888192863849), (3663, 0.05391192416140564), (3664, 0.17750816160897337), (3665, 0.28215703937578546), (3666, 0.40767464104562207), (3667, 0.21184332369911246), (3668, 0.06687221595841332), (3669, 0.1276490279179762), (3670, 0.5538387421098837), (3671, 0.3614418439032666), (3672, 0.05444858078354302), (3673, 0.3229754235465611), (3674, 0.11430152990640254), (3675, 0.138202548387676), (3676, 0.05637561654894892), (3677, 0.3212089228643886), (3678, 0.08690594855324904), (3679, 0.09167207369261238), (3680, 0.11605956547120536), (3681, 0.5075168694070935), (3682, 0.28661308257304785), (3683, 0.099674689255795), (3684, 0.3606564856744721), (3685, 0.26554563897771316), (3686, 0.10523153211938654), (3687, 0.0921168266581305), (3688, 0.3819826581381228), (3689, 0.523323552709079), (3690, 0.4043242042805507), (3691, 0.5005373722963962), (3692, 0.5349148022768955), (3693, 0.3757094006242972), (3694, 0.37200553735294944), (3695, 0.4222764718002484), (3696, 0.4853987071960638), (3697, 0.554910837304962), (3698, 0.49250331398493435), (3699, 0.20405484969291443), (3700, 0.438067297847124), (3701, 0.3285982128457607), (3702, 0.11367788261536924), (3703, 0.09116064961457633), (3704, 0.13327703818646322), (3705, 0.5356035954829936), (3706, 0.34336771919339265), (3707, 0.27978600634539985), (3708, 0.5145499145782517), (3709, 0.4781070724938013), (3710, 0.31432546374567566), (3711, 0.3504527012502033), (3712, 0.04635625585268713), (3713, 0.40596836192164015), (3714, 0.07642281742278671), (3715, 0.07305347284153584), (3716, 0.1447480266880791), (3717, 0.05582050950918936), (3718, 0.5318940008782489), (3719, 0.2560282915787273), (3720, 0.47569051421867214), (3721, 0.19950997685762722), (3722, 0.2963354920980236), (3723, 0.4204173377775729), (3724, 0.36123964156691224), (3725, 0.3277021652249535), (3726, 0.36397673523103957), (3727, 0.4050406473880749), (3728, 0.16435208640098486), (3729, 0.2107030387084063), (3730, 0.3185063354907009), (3731, 0.0793421146628801), (3732, 0.4395115090361623), (3733, 0.29745740116490293), (3734, 0.41980440530873664), (3735, 0.36914947454295155), (3736, 0.30122394751598813), (3737, 0.1120108460911044), (3738, 0.37365036008291475), (3739, 0.4621857030127832), (3740, 0.3277010537743267), (3741, 0.42764483620759774), (3742, 0.47744552452031463), (3743, 0.5014768054573473), (3744, 0.4124997454980148), (3745, 0.16116994704877532), (3746, 0.4140303217506246), (3747, 0.36167136146088286), (3748, 0.20637116407602762), (3749, 0.09207625635400826), (3750, 0.07736428644684185), (3751, 0.36511693506581383), (3752, 0.0442004838890721), (3753, 0.31824886964218535), (3754, 0.364090778828378), (3755, 0.10257352070301154), (3756, 0.3472257512727208), (3757, 0.21720736177846528), (3758, 0.1434495990685138), (3759, 0.26501735386400993), (3760, 0.05302701754438634), (3761, 0.07492267110667147), (3762, 0.14720467606238996), (3763, 0.11558688367619957), (3764, 0.12855824297700486), (3765, 0.14805378430270624), (3766, 0.08276647933562058), (3767, 0.5452582850465038), (3768, 0.2888317876643941), (3769, 0.39023563254673205), (3770, 0.11184738946378163), (3771, 0.47355647049408117), (3772, 0.2614188160599809), (3773, 0.4020331023957686), (3774, 0.18643847896039), (3775, 0.4310171187589525), (3776, 0.43951611195852736), (3777, 0.4510638314439248), (3778, 0.33123048458520116), (3779, 0.29837469565325464), (3780, 0.30218548121179095), (3781, 0.37999959911307774), (3782, 0.5354531377003161), (3783, 0.5263321685586008), (3784, 0.5133819889700899), (3785, 0.39999943724953635), (3786, 0.44731127601390586), (3787, 0.511318973851076), (3788, 0.4416173626170631), (3789, 0.2602470366778576), (3790, 0.27294986291544593), (3791, 0.29622178768706936), (3792, 0.3734335231919948), (3793, 0.37018814462341953), (3794, 0.26220093314874027), (3795, 0.4648646344670593), (3796, 0.11497259252134115), (3797, 0.4766622753368579), (3798, 0.49803577866978416), (3799, 0.43066640909813275), (3800, 0.1866494906332315), (3801, 0.5002013846392179), (3802, 0.19675493677102418), (3803, 0.37440502882982085), (3804, 0.06358136951730246), (3805, 0.42408513874574794), (3806, 0.24877961806149082), (3807, 0.29999652009117117), (3808, 0.30393244009228626), (3809, 0.1619119475916466), (3810, 0.5260432395804702), (3811, 0.3767840655319638), (3812, 0.26307699218130937), (3813, 0.26859440100392296), (3814, 0.34038948743299346), (3815, 0.4123704781928281), (3816, 0.25901794596302546), (3817, 0.27879024465217916), (3818, 0.27089545512289703), (3819, 0.1864593075442047), (3820, 0.15112019973699853), (3821, 0.08237771006834856), (3822, 0.08437272691050869), (3823, 0.3530345704471868), (3824, 0.1965977243885196), (3825, 0.2139110069241814), (3826, 0.2683634529228067), (3827, 0.06080257467050951), (3828, 0.42138155972248664), (3829, 0.09417507278862938), (3830, 0.0627413026586388), (3831, 0.4366327090288817), (3832, 0.30195538350017304), (3833, 0.27020473015384333), (3834, 0.5179823169399909), (3835, 0.3081312799644131), (3836, 0.209738929363037), (3837, 0.3253585755051569), (3838, 0.11910891854554155), (3839, 0.28414588506443605), (3840, 0.5314269731062213), (3841, 0.2782847881933297), (3842, 0.2826272915006384), (3843, 0.2949990561261033), (3844, 0.16184423715830826), (3845, 0.31505149629762763), (3846, 0.4609106039599728), (3847, 0.2755500560951674), (3848, 0.14681875501306949), (3849, 0.2092346705696237), (3850, 0.3452847837800681), (3851, 0.13177093006928842), (3852, 0.4002784737493687), (3853, 0.3176401804702311), (3854, 0.3553117862571438), (3855, 0.3426293193199393), (3856, 0.07135079909638127), (3857, 0.284004251640926), (3858, 0.3091923667663169), (3859, 0.34804748726867696), (3860, 0.4004977161913483), (3861, 0.254701224406007), (3862, 0.5348983580079921), (3863, 0.38303283412677497), (3864, 0.24957795726299353), (3865, 0.42973990581758703), (3866, 0.5057277599069298), (3867, 0.45695108614418595), (3868, 0.32696968079417266), (3869, 0.48943996971734444), (3870, 0.3761523225453323), (3871, 0.2685845870369166), (3872, 0.42461714973461556), (3873, 0.5325744358494602), (3874, 0.21184414689939823), (3875, 0.3342414927814029), (3876, 0.17761421770310426), (3877, 0.29017644299149975), (3878, 0.15522281077931618), (3879, 0.46342318928660764), (3880, 0.2896590895165732), (3881, 0.32635778927370407), (3882, 0.2043719546563274), (3883, 0.17170273308147635), (3884, 0.10328366476833861), (3885, 0.38135208098043677), (3886, 0.4728640053244777), (3887, 0.2014340774677922), (3888, 0.3418747467233793), (3889, 0.363557238312514), (3890, 0.22066934393842286), (3891, 0.08902595385037064), (3892, 0.09645485703195825), (3893, 0.2903256041179497), (3894, 0.3974716648142579), (3895, 0.26659331214978343), (3896, 0.13070846388833465), (3897, 0.09433279303895838), (3898, 0.36836443790496776), (3899, 0.057567611590646516), (3900, 0.11246430420235337), (3901, 0.3195478292585085), (3902, 0.37785762862543004), (3903, 0.5112483592560726), (3904, 0.36524716933046997), (3905, 0.25342504624989226), (3906, 0.29037665864222173), (3907, 0.5390922544801774), (3908, 0.3366319714593862), (3909, 0.18069217917343436), (3910, 0.42107730494417234), (3911, 0.5338392814125947), (3912, 0.2389637165422388), (3913, 0.1453630427616405), (3914, 0.535899720956809), (3915, 0.35541414394927656), (3916, 0.4236041727012702), (3917, 0.3963049523768143), (3918, 0.1282897115481101), (3919, 0.31546802051548356), (3920, 0.2756847428194477), (3921, 0.28344978445544244), (3922, 0.32059078802190977), (3923, 0.3103836571290639), (3924, 0.3129011926138989), (3925, 0.26679677937903423), (3926, 0.4206902841177363), (3927, 0.17093263775424922), (3928, 0.18371225444482076), (3929, 0.04827704644845569), (3930, 0.23203923940540594), (3931, 0.19447340429191196), (3932, 0.07299444680484252), (3933, 0.050497104073087475), (3934, 0.28246811589360216), (3935, 0.221584547772408), (3936, 0.09951740849485984), (3937, 0.5090064350208743), (3938, 0.3529964535802676), (3939, 0.3159728320185786), (3940, 0.17548015087043514), (3941, 0.3638821952288513), (3942, 0.26186156044694475), (3943, 0.3928797157026937), (3944, 0.47944347037822416), (3945, 0.06959641174178319), (3946, 0.2784620799341844), (3947, 0.42640028766984733), (3948, 0.24853992450599866), (3949, 0.3977417354570244), (3950, 0.2215542317283653), (3951, 0.12516858918961654), (3952, 0.126319662848514), (3953, 0.35030811551348545), (3954, 0.4083505263321266), (3955, 0.4259230514435569), (3956, 0.34211283552258354), (3957, 0.490578365128999), (3958, 0.27677601727294), (3959, 0.4762203382752721), (3960, 0.35901890931909713), (3961, 0.4997962903617715), (3962, 0.1877118942745922), (3963, 0.4402197767775968), (3964, 0.2855909353540598), (3965, 0.3816958487281917), (3966, 0.2783419334936522), (3967, 0.1262046169429914), (3968, 0.5072462492777439), (3969, 0.35353862223783966), (3970, 0.5186304065796813), (3971, 0.2369904436637852), (3972, 0.4614759117094924), (3973, 0.21552687610949206), (3974, 0.4677520028180008), (3975, 0.32910752957478523), (3976, 0.2960689965676738), (3977, 0.46130566961041847), (3978, 0.30057102540785346), (3979, 0.5414774624538888), (3980, 0.3041982152889459), (3981, 0.0), (3982, 0.5641813523049087), (3983, 0.14834688477051045), (3984, 0.26020893606855217), (3985, 0.2667452600601149), (3986, 0.36571921476550906), (3987, 0.3424147242710953), (3988, 0.11708110156922946), (3989, 0.38246759673396785), (3990, 0.07413947404725493), (3991, 0.2448825638498817), (3992, 0.5586206880847892), (3993, 0.42297628059093717), (3994, 0.08050035036341571), (3995, 0.09134900548258976), (3996, 0.43526839007212004), (3997, 0.5417660129237458), (3998, 0.2681488493702764), (3999, 0.17118516996720695), (4000, 0.331361153470681), (4001, 0.4339149340042613), (4002, 0.35027481719646736), (4003, 0.3349130789520204), (4004, 0.3156739396766053), (4005, 0.5250230323910103), (4006, 0.47609668717646725), (4007, 0.4817796156435085), (4008, 0.2469634829850071), (4009, 0.36094801269135374), (4010, 0.3842497066520929), (4011, 0.36541485614386526), (4012, 0.41395777154977775), (4013, 0.37974548625842397), (4014, 0.20896834173270357), (4015, 0.4217275636208828), (4016, 0.4101521559286574), (4017, 0.3388354636441271), (4018, 0.17141572495880045), (4019, 0.061245364134952775), (4020, 0.25658912952840807), (4021, 0.2649789913192918), (4022, 0.30971334655844796), (4023, 0.383634984846808), (4024, 0.32611208436022737), (4025, 0.32582317871836375), (4026, 0.0019863447415241894), (4027, 0.4368243918341007), (4028, 0.07663414004471471), (4029, 0.24505824245873353), (4030, 0.14558533802307344), (4031, 0.22240234981835996), (4032, 0.09861768180696892), (4033, 0.4625194992640862), (4034, 0.3681726088359184), (4035, 0.3503217245775953), (4036, 0.38583624330676647), (4037, 0.1919322129084798), (4038, 0.35019928078209234), (4039, 0.39913523208532264), (4040, 0.25851590484464837), (4041, 0.5205905325504181), (4042, 0.13409227288366635), (4043, 0.3843301020161033), (4044, 0.474622989185923), (4045, 0.4131432514860437), (4046, 0.5619942677250248), (4047, 0.26352157105584934), (4048, 0.09899293195193616), (4049, 0.4552349625425194), (4050, 0.07197091480409619), (4051, 0.3283172694934925), (4052, 0.3230801995995801), (4053, 0.4855316698655222), (4054, 0.3000710739057917), (4055, 0.5463644465269613), (4056, 0.275221667450772), (4057, 0.36299188905047763), (4058, 0.45604026222955213), (4059, 0.17057020033101966), (4060, 0.09090381891139103), (4061, 0.12043960572879099), (4062, 0.07418584818748584), (4063, 0.33699625013421475), (4064, 0.05948791957385712), (4065, 0.06673020105827643), (4066, 0.2583576867840601), (4067, 0.16442481647279766), (4068, 0.3216269379916681), (4069, 0.32421377449661876), (4070, 0.516345935072421), (4071, 0.2538273044962092), (4072, 0.04919532402109251), (4073, 0.32567307625790554), (4074, 0.49862238290728933), (4075, 0.4718227561359971), (4076, 0.5447306434928367), (4077, 0.5594933880252494), (4078, 0.27926474879194096), (4079, 0.18019470849595634), (4080, 0.3959173334769684), (4081, 0.5212372154097579), (4082, 0.12967577424080645), (4083, 0.31284972670255995), (4084, 0.2830487820628198), (4085, 0.5036195976706741), (4086, 0.14446666436440872), (4087, 0.2210458721649763), (4088, 0.3627162651744193), (4089, 0.38125740654878265), (4090, 0.48262943561336913), (4091, 0.5845341092180137), (4092, 0.0831835166315773), (4093, 0.4087516689826733), (4094, 0.3198361190437563), (4095, 0.4947167243946711), (4096, 0.4994843489964726), (4097, 0.2605371134457283), (4098, 0.4297907062689942), (4099, 0.41752949168958725), (4100, 0.5425154099510301), (4101, 0.2651831939592558), (4102, 0.07152841912128098), (4103, 0.518630857763739), (4104, 0.43281437551137514), (4105, 0.4826915235357576), (4106, 0.48319791798611944), (4107, 0.06103770664573419), (4108, 0.22388750310706373), (4109, 0.19667141262993418), (4110, 0.08049562989079267), (4111, 0.11747260336474327), (4112, 0.37442603896687776), (4113, 0.34697762415584693), (4114, 0.20940669521190236), (4115, 0.24783756522537084), (4116, 0.46843188753669074), (4117, 0.17297893952509139), (4118, 0.1976653323805806), (4119, 0.511672740518718), (4120, 0.10153230017213535), (4121, 0.3218009349466271), (4122, 0.3102123507092209), (4123, 0.4585983401732699), (4124, 0.3304010580755893), (4125, 0.325332877387451), (4126, 0.17557279781080087), (4127, 0.20867928162434696), (4128, 0.25566110852741036), (4129, 0.087461747574367), (4130, 0.5503543477884024), (4131, 0.10891624156240486), (4132, 0.2872334653595824), (4133, 0.10447610358128999), (4134, 0.05858911802924371), (4135, 0.4404366002879461), (4136, 0.48982724065229255), (4137, 0.35860147624469335), (4138, 0.33800214683991264), (4139, 0.3669603653598281), (4140, 0.3161450119335159), (4141, 0.16479028220921535), (4142, 0.45373712666695454), (4143, 0.36731222081821735), (4144, 0.14094669426173398), (4145, 0.15679650281411925), (4146, 0.1973797881500246), (4147, 0.18649122616011982), (4148, 0.5173293256772875), (4149, 0.09432354054015396), (4150, 0.12106504674801473), (4151, 0.20573601068850308), (4152, 0.5466594852487046), (4153, 0.540586075121395), (4154, 0.49971178069174893), (4155, 0.3316474623703788), (4156, 0.3476785541028451), (4157, 0.2969996873978863), (4158, 0.38255479293142736), (4159, 0.45626431994705324), (4160, 0.2531582628157639), (4161, 0.43429398554332616), (4162, 0.4492798127199779), (4163, 0.0790349697960829), (4164, 0.28706459644413906), (4165, 0.26313454938859143), (4166, 0.12524506460753335), (4167, 0.23054618602137308), (4168, 0.5260038330458996), (4169, 0.22963729156383153), (4170, 0.07106193178725746), (4171, 0.16504680345349085), (4172, 0.1970017836073396), (4173, 0.21867564263726155), (4174, 0.288027618007025), (4175, 0.12963165152638764), (4176, 0.2224953330836852), (4177, 0.11464796809743452), (4178, 0.3655820235448), (4179, 0.16689556688007282), (4180, 0.09835848793599741), (4181, 0.542156576484589), (4182, 0.08341252160490253), (4183, 0.5175360891181208), (4184, 0.4646148324636623), (4185, 0.550400035864496), (4186, 0.33421703097085687), (4187, 0.45228922584103626), (4188, 0.08558481509523246), (4189, 0.4931389188443446), (4190, 0.1634693437708067), (4191, 0.4216487563840597), (4192, 0.37395877416117657), (4193, 0.4641369665635191), (4194, 0.1881720370296081), (4195, 0.35957000895074276), (4196, 0.10602800168281543), (4197, 0.3124526269823382), (4198, 0.07549356901540771), (4199, 0.05416272469054578), (4200, 0.31268102751138677), (4201, 0.16165884388266133), (4202, 0.3344890942485696), (4203, 0.33311507841746113), (4204, 0.3324524950719691), (4205, 0.2842099185453227), (4206, 0.15835859216043272), (4207, 0.2743786333358611), (4208, 0.11785258778522192), (4209, 0.23705567663816038), (4210, 0.43128773843238344), (4211, 0.5348679319341064), (4212, 0.25468694585600404), (4213, 0.4185702463288354), (4214, 0.3346781879966659), (4215, 0.2802361617294394), (4216, 0.5050164505766003), (4217, 0.3351177756245863), (4218, 0.5088665276755503), (4219, 0.2588779423321323), (4220, 0.11726290832444916), (4221, 0.3291968901652471), (4222, 0.11658933495034347), (4223, 0.3545554455915533), (4224, 0.49409217076701106), (4225, 0.13958585746965282), (4226, 0.14197741255399432), (4227, 0.5180670826351518), (4228, 0.3321622414481676), (4229, 0.1014993834474199), (4230, 0.09558653593112007), (4231, 0.42492819228692674), (4232, 0.15728128339137806), (4233, 0.4248885348641468), (4234, 0.34146534802495926), (4235, 0.3707105488341601), (4236, 0.47241178134666784), (4237, 0.07530569637487017), (4238, 0.5358871624817458), (4239, 0.13179471920945202), (4240, 0.43597072807801174), (4241, 0.5116207248464982), (4242, 0.4925127461275323), (4243, 0.22006132833128136), (4244, 0.4557732635772652), (4245, 0.3457408301255188), (4246, 0.2576249332709378), (4247, 0.2737210246507585), (4248, 0.44780871206653844), (4249, 0.17478988607901175), (4250, 0.16360360035884433), (4251, 0.07530738394461985), (4252, 0.16034209154571355), (4253, 0.19429904152451347), (4254, 0.2043700611457506), (4255, 0.43554575726130507), (4256, 0.517966201963552), (4257, 0.4962166031366352), (4258, 0.44322034961899043), (4259, 0.5002855253749461), (4260, 0.1930036720960541), (4261, 0.4489624886592628), (4262, 0.09859259716355503), (4263, 0.26820952305741735), (4264, 0.5232849321407185), (4265, 0.2900538687134804), (4266, 0.30135438835801726), (4267, 0.4318855205274585), (4268, 0.4903228865050901), (4269, 0.28040410573033353), (4270, 0.26815950516994624), (4271, 0.05887632877212978), (4272, 0.5390208432138592), (4273, 0.5079535430827753), (4274, 0.40384233685677984), (4275, 0.4684875653881142), (4276, 0.14349107429356825), (4277, 0.3653289863212707), (4278, 0.3202692431663844), (4279, 0.5068135911469674), (4280, 0.43304608307602616), (4281, 0.5127322399050839), (4282, 0.46463454472087806), (4283, 0.5204170894799156), (4284, 0.11533157338640648), (4285, 0.1666321680687789), (4286, 0.09040326998382477), (4287, 0.1585338637699401), (4288, 0.3390359064632429), (4289, 0.5512083404456787), (4290, 0.3986888319195723), (4291, 0.2416555764236387), (4292, 0.18209881522437635), (4293, 0.12957552571003084), (4294, 0.556226791903182), (4295, 0.38254317275917327), (4296, 0.40081651634344195), (4297, 0.08717685566109651), (4298, 0.4021226406919985), (4299, 0.5372265101737185), (4300, 0.5013629958179895), (4301, 0.22439141554736028), (4302, 0.21154857171228986), (4303, 0.2830987952977536), (4304, 0.16824967414097147), (4305, 0.4611129057894), (4306, 0.4677666393234704), (4307, 0.23116657310529207), (4308, 0.1386431585270454), (4309, 0.44998024622130905), (4310, 0.5043706491548502), (4311, 0.1847060236654045), (4312, 0.4853501916359364), (4313, 0.12433869821590238), (4314, 0.5194660562913747), (4315, 0.3280996099699503), (4316, 0.07418003529406737), (4317, 0.07219624402954894), (4318, 0.35851460865764756), (4319, 0.16947131110739175), (4320, 0.498684653177254), (4321, 0.516805899277749), (4322, 0.48007722927266283), (4323, 0.4056821554867393), (4324, 0.5184584089674005), (4325, 0.10408664488304983), (4326, 0.14169164501933054), (4327, 0.43583121633251665), (4328, 0.439314308260653), (4329, 0.4490854943238971), (4330, 0.1937288557973457), (4331, 0.4451307220789699), (4332, 0.4832239656402874), (4333, 0.19216001652901205), (4334, 0.33367877782870037), (4335, 0.43081211606252007), (4336, 0.5314050421301466), (4337, 0.24819364686397236), (4338, 0.4209068649835618), (4339, 0.4210347917364932), (4340, 0.40545691936591116), (4341, 0.16674329977138622), (4342, 0.28604020615986336), (4343, 0.4399345928607854), (4344, 0.498504376789735), (4345, 0.535114751453955), (4346, 0.38955809889075294), (4347, 0.4715974979189904), (4348, 0.16552676165500346), (4349, 0.25964773582356376), (4350, 0.4182394126821667), (4351, 0.3087883440932477), (4352, 0.049924140417689764), (4353, 0.34053128494713825), (4354, 0.5082291752211241), (4355, 0.20770241357158775), (4356, 0.20340036432578856), (4357, 0.2945073612352658), (4358, 0.23705019095168925), (4359, 0.20607271583458678), (4360, 0.46509319009159805), (4361, 0.18171260475829043), (4362, 0.36277558126827153), (4363, 0.31008893723717146), (4364, 0.49092113477210986), (4365, 0.4771183696422066), (4366, 0.4999377333623398), (4367, 0.23648557563005207), (4368, 0.45236993955338733), (4369, 0.18199613820381427), (4370, 0.1937685130907037), (4371, 0.2552366601334552), (4372, 0.13730437214191943), (4373, 0.49258740410800905), (4374, 0.5161012037396663), (4375, 0.46453357075268487), (4376, 0.4445139847052743), (4377, 0.4410380295966514), (4378, 0.5247811710219409), (4379, 0.4777420850817357), (4380, 0.2346803517485565), (4381, 0.5057645757167707), (4382, 0.09064311206074463), (4383, 0.485300699925371), (4384, 0.3480549706572352), (4385, 0.4854771450604695), (4386, 0.22260801330849406), (4387, 0.5199293726170575), (4388, 0.5179837143480345), (4389, 0.4735692435533008), (4390, 0.16717554596231407), (4391, 0.19538920716941216), (4392, 0.41351982667580633), (4393, 0.2150127357392163), (4394, 0.23315183681721352), (4395, 0.1426775437329843), (4396, 0.2578614578227817), (4397, 0.21407325095325658), (4398, 0.2925516525651289), (4399, 0.492141353691112), (4400, 0.47462370840092233), (4401, 0.4907945783590768), (4402, 0.2759175590716386), (4403, 0.25762125887778914), (4404, 0.33225311110292677), (4405, 0.08068952270693659), (4406, 0.5418996673086366), (4407, 0.0645903617709565), (4408, 0.3436941846343889), (4409, 0.3902930598686943), (4410, 0.4663593115223208), (4411, 0.3570706267494073), (4412, 0.13111263970457615), (4413, 0.11665459054582965), (4414, 0.4764582266468117), (4415, 0.25683387678566305), (4416, 0.08202545204353417), (4417, 0.3335051723133792), (4418, 0.22507730617232263), (4419, 0.14204345222340872), (4420, 0.2723429367507826), (4421, 0.34083079788526083), (4422, 0.33984120339254015), (4423, 0.1628340688126234), (4424, 0.19724561885237607), (4425, 0.1519534435949181), (4426, 0.3622302231466794), (4427, 0.23717602320910208), (4428, 0.51038126608402), (4429, 0.2825090780035671), (4430, 0.4577598504553134), (4431, 0.3498899757132483), (4432, 0.5218095467799372), (4433, 0.41962972735776494), (4434, 0.39375167475044937), (4435, 0.43977670194503077), (4436, 0.3471171184319921), (4437, 0.1246497453098983), (4438, 0.40474050983097837), (4439, 0.37493994812903025), (4440, 0.4037592049296392), (4441, 0.4486452675110945), (4442, 0.4757333270691452), (4443, 0.13221514797552117), (4444, 0.3969350311986419), (4445, 0.540213498648531), (4446, 0.13962120719787113), (4447, 0.3848570119386914), (4448, 0.40748026581303254), (4449, 0.5079721409692262), (4450, 0.52940547292489), (4451, 0.3921046759209152), (4452, 0.36767883092621956), (4453, 0.39508253672907), (4454, 0.40582391078634955), (4455, 0.10525301773448238), (4456, 0.31172571298117646), (4457, 0.25717395188648695), (4458, 0.07614390123705563), (4459, 0.5114904289516231), (4460, 0.35573968200569056), (4461, 0.19352423244568423), (4462, 0.5443427096430755), (4463, 0.23462176281539815), (4464, 0.28408143002844316), (4465, 0.5242309547969639), (4466, 0.5275704282521558), (4467, 0.5084229578634996), (4468, 0.46619747791721955), (4469, 0.13133971169665895), (4470, 0.3543028818388384), (4471, 0.5004184925965809), (4472, 0.48395485510469866), (4473, 0.3549668233153306), (4474, 0.49494930036542556), (4475, 0.21213996841714897), (4476, 0.45196162167878323), (4477, 0.4641096039535918), (4478, 0.3922953570238496), (4479, 0.5193342356431765), (4480, 0.07859173138045922), (4481, 0.49860706606547106), (4482, 0.34645378912066543), (4483, 0.34757170840182183), (4484, 0.1895257057347829), (4485, 0.1538045226687725), (4486, 0.3391947109827455), (4487, 0.08034085998607918), (4488, 0.4102835796979946), (4489, 0.28706101188228084), (4490, 0.26058193269913743), (4491, 0.25886114932282484), (4492, 0.15754507045225416), (4493, 0.5556129577867654), (4494, 0.31773331835937973), (4495, 0.09185948500196371), (4496, 0.39763341968081917), (4497, 0.23312267094314953), (4498, 0.46634244970766653), (4499, 0.12110812444450153), (4500, 0.18704715123771112), (4501, 0.2999678007288332), (4502, 0.5194004310417194), (4503, 0.4989240292899922), (4504, 0.310997099640202), (4505, 0.1605002964179375), (4506, 0.36970688553824294), (4507, 0.5406558798913896), (4508, 0.14932616415772715), (4509, 0.5161307236030587), (4510, 0.48111319332685143), (4511, 0.3794811241481706), (4512, 0.20938883403515035), (4513, 0.4136679346960825), (4514, 0.285074161145853), (4515, 0.2843064596763811), (4516, 0.3970856337451133), (4517, 0.49184738134045763), (4518, 0.2548675419277492), (4519, 0.0899782744317872), (4520, 0.21658856429246934), (4521, 0.1396297620769123), (4522, 0.09638845016477597), (4523, 0.53738543088525), (4524, 0.4618701441638356), (4525, 0.5090675085060398), (4526, 0.16730234537905092), (4527, 0.4122126641811175), (4528, 0.2808061427387083), (4529, 0.3088411284826996), (4530, 0.345303706780943), (4531, 0.36324351177389796), (4532, 0.1933124712130276), (4533, 0.46343961842900344), (4534, 0.4364150359960194), (4535, 0.525799485899191), (4536, 0.3101794484965163), (4537, 0.12120451896840714), (4538, 0.5112344532955078), (4539, 0.19983749693222624), (4540, 0.1802310763481683), (4541, 0.058041244564751016), (4542, 0.4705340339918744), (4543, 0.4361043127664163), (4544, 0.13331988283787832), (4545, 0.09811826520368482), (4546, 0.12412023005065852), (4547, 0.18088290599421902), (4548, 0.2204932293375313), (4549, 0.11833315366985743), (4550, 0.20694125674864638), (4551, 0.25177541575828244), (4552, 0.3046296309288437), (4553, 0.19768795343536674), (4554, 0.1389714192088176), (4555, 0.3368273183862176), (4556, 0.2536201193569849), (4557, 0.49059217173806374), (4558, 0.32696191748013265), (4559, 0.1725610337956804), (4560, 0.3200648153961924), (4561, 0.05689220416426646), (4562, 0.14493562806584206), (4563, 0.3713433581546597), (4564, 0.5119511426583904), (4565, 0.16892347188954476), (4566, 0.36897144882598637), (4567, 0.10348164541128568), (4568, 0.5345997291250777), (4569, 0.46349822181779016), (4570, 0.09138605306183069), (4571, 0.10963803962172985), (4572, 0.260837404371621), (4573, 0.09183425960968597), (4574, 0.36618646088708207), (4575, 0.4707911006441812), (4576, 0.5219424360498586), (4577, 0.4626466983786912), (4578, 0.06597605823118816), (4579, 0.4706480297543141), (4580, 0.07575310231463162), (4581, 0.5518844234122329), (4582, 0.37808278031730164), (4583, 0.45984589699613776), (4584, 0.16862485229669033), (4585, 0.19509166810598957), (4586, 0.26283263013375296), (4587, 0.19636791002600903), (4588, 0.4981314507078124), (4589, 0.2735482150176351), (4590, 0.5237777477176754), (4591, 0.5392090436346451), (4592, 0.09989592457960275), (4593, 0.14605606340413155), (4594, 0.22638379801900682), (4595, 0.4652019057259031), (4596, 0.15130637657831136), (4597, 0.4187758634261013), (4598, 0.3677866461547382), (4599, 0.3355320478544828), (4600, 0.49037645914384903), (4601, 0.2294162537395914), (4602, 0.4390021346084749), (4603, 0.12433240862997394), (4604, 0.23915856544379147), (4605, 0.15621551758217236), (4606, 0.4411195974530425), (4607, 0.07230570421008715), (4608, 0.30092929115037326), (4609, 0.290560926865803), (4610, 0.10713306627962903), (4611, 0.4285232571113469), (4612, 0.3655072341957399), (4613, 0.18014454922120202), (4614, 0.3325708610803687), (4615, 0.4403714825411374), (4616, 0.25458093660013975), (4617, 0.25364010268619336), (4618, 0.07433448678523893), (4619, 0.07150780186856182), (4620, 0.5061280109231686), (4621, 0.44626441587564014), (4622, 0.11109275881135225), (4623, 0.4797068110494403), (4624, 0.5382445559123612), (4625, 0.4823531027410872), (4626, 0.30746691346892235), (4627, 0.5045687373759904), (4628, 0.21136321431554256), (4629, 0.5212228758738172), (4630, 0.48454011000229225), (4631, 0.1524108764607373), (4632, 0.1893785758682511), (4633, 0.5345587667155189), (4634, 0.14778951624851766), (4635, 0.12645167483750064), (4636, 0.23384173086852472), (4637, 0.14727779057812768), (4638, 0.333832620841668), (4639, 0.4732827960174237), (4640, 0.5020738519497401), (4641, 0.521148386911918), (4642, 0.19454575520550293), (4643, 0.44211688134969734), (4644, 0.06569189352157362), (4645, 0.21939670193697502), (4646, 0.06514354761887603), (4647, 0.37704873252818333), (4648, 0.29445225575370015), (4649, 0.47676170754198155), (4650, 0.3542450903325154), (4651, 0.15132491099149958), (4652, 0.18372588113526223), (4653, 0.5432057209456268), (4654, 0.0), (4655, 0.3622204774156016), (4656, 0.4031369427597407), (4657, 0.1438700419833277), (4658, 0.44227224485181804), (4659, 0.3059345007328862), (4660, 0.16836637120231648), (4661, 0.44037851108419857), (4662, 0.43321962969298267), (4663, 0.47224714452181327), (4664, 0.44848346725126836), (4665, 0.4980724803042064), (4666, 0.40939570669472236), (4667, 0.3135875327758653), (4668, 0.31113097272067514), (4669, 0.47708422581385096), (4670, 0.36349439853672527), (4671, 0.09279396648670521), (4672, 0.23364513495630893), (4673, 0.47662209848240544), (4674, 0.4681987305576198), (4675, 0.12350963415537224), (4676, 0.1936294051436886), (4677, 0.4901043680817528), (4678, 0.49909986046943944), (4679, 0.4491602266214678), (4680, 0.39186092309218945), (4681, 0.06024027592504812), (4682, 0.3523313980929046), (4683, 0.11996055981808545), (4684, 0.38670566337548445), (4685, 0.346837202883417), (4686, 0.19168073011207168), (4687, 0.3444991675210709), (4688, 0.3896508992607229), (4689, 0.11218028861920411), (4690, 0.33952470664955925), (4691, 0.11857413871778509), (4692, 0.12492652241110398), (4693, 0.19398356599481792), (4694, 0.2531560842988668), (4695, 0.3516308341240852), (4696, 0.26314021745765187), (4697, 0.41745739260314546), (4698, 0.08637279612252512), (4699, 0.22099306747959627), (4700, 0.3179979307865302), (4701, 0.15561751154465642), (4702, 0.16229652214199453), (4703, 0.07530902302849164), (4704, 0.4577889198144459), (4705, 0.12482689840924518), (4706, 0.1531730739829995), (4707, 0.36396806891853783), (4708, 0.08655564543585055), (4709, 0.18686312767539648), (4710, 0.12650489459176506), (4711, 0.0), (4712, 0.09477013092618261), (4713, 0.16003934536571762), (4714, 0.1380606857173741), (4715, 0.08707783205199753), (4716, 0.33033126949036756), (4717, 0.10892375270160974), (4718, 0.38406624007237944), (4719, 0.0020679278892331895), (4720, 0.1916987231285739), (4721, 0.13403898899880312), (4722, 0.19390502267220944), (4723, 0.3214919535918449), (4724, 0.14757035822941691), (4725, 0.266763894601397), (4726, 0.11934182070610617), (4727, 0.15800771739528496), (4728, 0.1413641201654808), (4729, 0.17614439547547928), (4730, 0.3100336998141814), (4731, 0.3116788466131644), (4732, 0.2575352371691476), (4733, 0.23668879960922162), (4734, 0.1603681481143066), (4735, 0.42169033367602826), (4736, 0.12584439441484796), (4737, 0.15334999934196436), (4738, 0.15173924249703813), (4739, 0.008135508388940222), (4740, 0.231934467411052), (4741, 0.06337956182582066), (4742, 0.1244486821467), (4743, 0.19427842736341067), (4744, 0.1562813718699641), (4745, 0.2887348403993376), (4746, 0.20795285453217), (4747, 0.39976948776171406), (4748, 0.17322422336131138), (4749, 0.1335520992530682), (4750, 0.12262695760060534), (4751, 0.09131570530495356), (4752, 0.15560932257189514), (4753, 0.06740297873491327), (4754, 0.3543117212824527), (4755, 0.04598686708055499), (4756, 0.1295568270808902), (4757, 0.10532902000841543), (4758, 0.0), (4759, 0.05148238888321165)]\n"
          ]
        }
      ]
    },
    {
      "cell_type": "code",
      "source": [
        "len(Recommendation_Score)"
      ],
      "metadata": {
        "colab": {
          "base_uri": "https://localhost:8080/"
        },
        "id": "1RpvAfYcyu_D",
        "outputId": "cd516cfc-785e-4cda-ec74-beb3b04ad665"
      },
      "execution_count": 28,
      "outputs": [
        {
          "output_type": "execute_result",
          "data": {
            "text/plain": [
              "4760"
            ]
          },
          "metadata": {},
          "execution_count": 28
        }
      ]
    },
    {
      "cell_type": "markdown",
      "source": [
        "**Get all movies sort based on recemmendation score WRT favourite Movie**"
      ],
      "metadata": {
        "id": "aIsEi0Pzy47y"
      }
    },
    {
      "cell_type": "code",
      "source": [
        "Sorted_Similar_movies = sorted(Recommendation_Score, key= lambda x:x[1], reverse=True)\n",
        "print(Sorted_Similar_movies)"
      ],
      "metadata": {
        "colab": {
          "base_uri": "https://localhost:8080/"
        },
        "id": "mQo9mo12yz6E",
        "outputId": "14db8ffd-9f54-4fc1-a598-d21a98d89824"
      },
      "execution_count": 30,
      "outputs": [
        {
          "output_type": "stream",
          "name": "stdout",
          "text": [
            "[(2692, 1.0), (4091, 0.5845341092180137), (763, 0.5761976907847599), (3467, 0.5737530415903438), (3450, 0.568442367031623), (1775, 0.5674218174181564), (1173, 0.5667898613511401), (27, 0.5663074530873962), (307, 0.5645188915471987), (3982, 0.5641813523049087), (631, 0.5640205247539789), (1262, 0.5637647816024046), (143, 0.5635540881211022), (4046, 0.5619942677250248), (84, 0.561811490728559), (1532, 0.5602788782764027), (247, 0.5599792350446446), (10, 0.5598557830662984), (502, 0.559615031121495), (4077, 0.5594933880252494), (264, 0.5586337005631424), (3992, 0.5586206880847892), (731, 0.5578890078485879), (297, 0.5576821736976477), (1357, 0.5574868473245209), (299, 0.5574170899538122), (386, 0.5573110061179802), (189, 0.557003185903767), (135, 0.5566390759847638), (614, 0.5563434509612442), (70, 0.5563277440483959), (880, 0.5562830129216615), (4294, 0.556226791903182), (369, 0.5561922421839756), (1118, 0.556042198028599), (4493, 0.5556129577867654), (1012, 0.5551114076075992), (1129, 0.5549857684489404), (1484, 0.5549758244981223), (3697, 0.554910837304962), (298, 0.5547110004146624), (123, 0.5543911722256821), (280, 0.554238350462729), (3670, 0.5538387421098837), (3131, 0.5536871397859613), (283, 0.5535099871973714), (2641, 0.5533257039243856), (2181, 0.5533083011489637), (909, 0.5527799532684126), (231, 0.5526145550202819), (2524, 0.5525491241001677), (1455, 0.5521838261047232), (3130, 0.5521675236027258), (583, 0.5519171309740994), (4581, 0.5518844234122329), (960, 0.5518356800712931), (4289, 0.5512083404456787), (2294, 0.5511376441626907), (728, 0.5507673170133363), (425, 0.5506990087160396), (980, 0.5506803081576531), (4185, 0.550400035864496), (4130, 0.5503543477884024), (661, 0.5501562428765031), (727, 0.5500504513125938), (6, 0.5498592835833316), (1511, 0.5495270209217129), (1164, 0.5494711533119185), (729, 0.5493909305317006), (3126, 0.5491426568837751), (2045, 0.5490727269356495), (656, 0.5490103996431546), (411, 0.5490097496242309), (230, 0.5490010153298291), (753, 0.5489550085615162), (1152, 0.5488772134035754), (170, 0.5486931086817618), (41, 0.5485697298816052), (3427, 0.5483614449965039), (3169, 0.5476899239779174), (650, 0.5475170191598091), (1728, 0.5474614756754841), (829, 0.5472529632052126), (651, 0.5472280425822742), (286, 0.54713699280755), (9, 0.5470783567326195), (2016, 0.546797781323452), (4152, 0.5466594852487046), (302, 0.5464154324933951), (4055, 0.5463644465269613), (1335, 0.5461521686322715), (906, 0.546129073670011), (994, 0.5460353795769072), (3566, 0.5459253776585804), (1122, 0.5458160831728329), (3124, 0.5457693545373705), (2960, 0.5453763807674035), (4, 0.5452730423346446), (3767, 0.5452582850465038), (3507, 0.544966984590024), (3532, 0.5447957123409785), (4076, 0.5447306434928367), (1325, 0.5445706026188204), (3310, 0.5444897830105516), (4462, 0.5443427096430755), (263, 0.5443156274590758), (444, 0.544148131063569), (3, 0.544050543853315), (83, 0.5437731524791907), (1611, 0.5436789417703254), (1388, 0.5434149744515208), (4653, 0.5432057209456268), (53, 0.5431258493308787), (196, 0.5429273621913591), (1922, 0.5428743418771416), (39, 0.5428118127646883), (1773, 0.5426251770062597), (512, 0.5426163937662632), (3451, 0.5426001555703308), (3361, 0.5425472791404018), (4100, 0.5425154099510301), (730, 0.5424378720660091), (1928, 0.5423490120509029), (4181, 0.542156576484589), (235, 0.5420729339209949), (1391, 0.5419560017077528), (4406, 0.5418996673086366), (1393, 0.5418886720449622), (141, 0.5418492557859619), (3997, 0.5417660129237458), (3979, 0.5414774624538888), (229, 0.5413713140716107), (1073, 0.5413128566834752), (839, 0.5408069381318423), (1007, 0.5407795856605738), (4507, 0.5406558798913896), (1279, 0.5406073264131868), (4153, 0.540586075121395), (1716, 0.5403208805436551), (625, 0.5402270784839676), (4445, 0.540213498648531), (1998, 0.5401711220768837), (1282, 0.5401379942395924), (1267, 0.540119291312369), (1354, 0.5400672899295136), (1955, 0.5400562621227206), (849, 0.5400194175426184), (1512, 0.5400053842503368), (744, 0.5398177280699142), (2231, 0.5396184042743399), (588, 0.539579595648771), (1855, 0.5394466845978506), (675, 0.5393372447110669), (837, 0.5392413999214364), (4591, 0.5392090436346451), (3907, 0.5390922544801774), (4272, 0.5390208432138592), (3167, 0.538976881382538), (710, 0.5387743248545842), (387, 0.5386922362071499), (938, 0.5385772561518082), (2716, 0.5385486467494187), (954, 0.5382858648306437), (4624, 0.5382445559123612), (893, 0.5381222100351833), (868, 0.5380619553491641), (244, 0.5379229209829977), (136, 0.5375823527604435), (312, 0.5374818208830988), (4523, 0.53738543088525), (1729, 0.5373325525362236), (4299, 0.5372265101737185), (1226, 0.5371610912926186), (181, 0.5370240489225141), (999, 0.5368086850461866), (2112, 0.5364450625850162), (762, 0.5362665670417842), (72, 0.5360813367868164), (712, 0.5360022042810251), (1643, 0.535998398842983), (1936, 0.5359804214623302), (1380, 0.5359752736859791), (3914, 0.535899720956809), (4238, 0.5358871624817458), (1289, 0.5357256823201838), (1181, 0.5357196570563548), (540, 0.5357185402353871), (152, 0.5356979637681275), (3445, 0.5356251567400176), (3705, 0.5356035954829936), (1107, 0.5354815526748831), (3782, 0.5354531377003161), (1057, 0.5353084746063915), (4345, 0.535114751453955), (253, 0.5351121864293447), (171, 0.535082474608366), (1413, 0.5350820938082363), (3692, 0.5349148022768955), (3862, 0.5348983580079921), (4211, 0.5348679319341064), (795, 0.5348415529038423), (594, 0.5348078713647808), (3368, 0.534692606273015), (758, 0.5346560513409772), (496, 0.5346550995228455), (4568, 0.5345997291250777), (4633, 0.5345587667155189), (3344, 0.5345310968822161), (250, 0.5345237820437189), (3623, 0.5344442372255538), (268, 0.534240111093347), (2374, 0.5342048872736914), (1940, 0.5341960879394902), (3911, 0.5338392814125947), (820, 0.533816395559186), (68, 0.5337446042352596), (492, 0.5336413038224048), (481, 0.5336186115543061), (50, 0.5335208804230352), (1322, 0.5334704643944899), (756, 0.5333622982327563), (360, 0.5332826224684384), (2084, 0.5332488847271364), (1556, 0.5332401723892622), (1876, 0.5332265019736514), (1493, 0.5331573284206436), (3360, 0.5330925723573441), (1153, 0.5328620875119868), (1284, 0.5327122983042676), (1770, 0.5326830721957114), (686, 0.5326772409129528), (3873, 0.5325744358494602), (424, 0.5323840248203927), (1381, 0.532035881172474), (3718, 0.5318940008782489), (278, 0.5318423432532112), (1121, 0.5317750028185828), (329, 0.5314703191039194), (3840, 0.5314269731062213), (4336, 0.5314050421301466), (1788, 0.5312800133283193), (572, 0.5312789922769183), (1324, 0.5309254840531895), (875, 0.5309210490022439), (418, 0.5308599681823848), (1498, 0.5307656548368876), (2691, 0.5305572467587818), (1870, 0.53025614514661), (615, 0.5300678094958005), (20, 0.5297535628025201), (292, 0.5296120668889314), (1271, 0.5294921863245512), (4450, 0.52940547292489), (3492, 0.5292102615065565), (2622, 0.5291443848022388), (678, 0.5289853632830076), (1483, 0.5289158851427134), (1006, 0.5288899744828469), (1927, 0.5287261098830748), (1443, 0.5284848383269832), (1141, 0.5284066291497673), (1069, 0.5283949965285595), (771, 0.5281919488544047), (992, 0.5280327760137203), (26, 0.5280101010129652), (1852, 0.5279149078479415), (952, 0.5278297314303873), (4466, 0.5275704282521558), (750, 0.5274673594113766), (676, 0.5273893772064343), (679, 0.5267741709064611), (2711, 0.5267264466303601), (371, 0.5266286236526792), (3783, 0.5263321685586008), (1368, 0.526206847322272), (3810, 0.5260432395804702), (4168, 0.5260038330458996), (151, 0.5259944956346183), (4535, 0.525799485899191), (76, 0.5255267810166906), (706, 0.5254825317783065), (3642, 0.525325714428502), (997, 0.5252425143103848), (1424, 0.5250858759479515), (233, 0.525065784317955), (4005, 0.5250230323910103), (2184, 0.5249366392998329), (3002, 0.5247884439786966), (4378, 0.5247811710219409), (857, 0.5246145179626549), (1550, 0.5245427505814853), (1404, 0.5245042595174157), (124, 0.5242812826348178), (4465, 0.5242309547969639), (150, 0.5242020646040629), (1901, 0.5241715025795175), (2232, 0.5241133924374619), (1229, 0.5238632679168806), (4590, 0.5237777477176754), (974, 0.5237653786524763), (3379, 0.5235716311314105), (1457, 0.5235112879789896), (2850, 0.5234938847228425), (126, 0.5234194997651648), (3689, 0.523323552709079), (4264, 0.5232849321407185), (664, 0.5227550335398036), (811, 0.5226656078527987), (1067, 0.522561247652437), (2031, 0.5223238304177052), (3288, 0.5221422138700297), (523, 0.5220920969279041), (2351, 0.5220895970930296), (4576, 0.5219424360498586), (4432, 0.5218095467799372), (1154, 0.5217880660988985), (470, 0.5216436865050744), (2518, 0.5214811417790534), (833, 0.5213797942661237), (4081, 0.5212372154097579), (4629, 0.5212228758738172), (4641, 0.521148386911918), (514, 0.5210307457371846), (529, 0.520820132377786), (88, 0.5208197042951241), (2213, 0.52075300562402), (517, 0.5207246076572943), (4041, 0.5205905325504181), (4283, 0.5204170894799156), (671, 0.520247616176363), (516, 0.5199766807235974), (4387, 0.5199293726170575), (2429, 0.5199042607563401), (1910, 0.5198681114343813), (1315, 0.5198198888154958), (1146, 0.5195894718350668), (4314, 0.5194660562913747), (536, 0.5194418359767429), (3612, 0.5194142542613672), (4502, 0.5194004310417194), (860, 0.5193508398971046), (4479, 0.5193342356431765), (3525, 0.518881330963613), (1608, 0.5188647178717114), (2480, 0.5188583149979151), (628, 0.5187273282181962), (4103, 0.518630857763739), (3970, 0.5186304065796813), (544, 0.5185842067242669), (4324, 0.5184584089674005), (2088, 0.5183936876918289), (332, 0.5181804187470598), (4227, 0.5180670826351518), (341, 0.5180181608326002), (308, 0.5180082409715979), (4388, 0.5179837143480345), (3834, 0.5179823169399909), (4256, 0.517966201963552), (225, 0.5179643767602449), (1140, 0.5177524529513244), (1584, 0.5176868399396863), (23, 0.5176086373017226), (125, 0.5175891307575672), (4183, 0.5175360891181208), (4148, 0.5173293256772875), (1068, 0.517313692103157), (700, 0.5173027611386648), (746, 0.5172730098941126), (1272, 0.5172231201653581), (902, 0.5172001273922424), (724, 0.5171196769315318), (2445, 0.5170605701350998), (2482, 0.5170576076212104), (2615, 0.5170485797885924), (4321, 0.516805899277749), (1135, 0.5167003358939786), (1398, 0.5164952145312696), (3429, 0.5163589040444123), (4070, 0.516345935072421), (3047, 0.5161845374016508), (4509, 0.5161307236030587), (4374, 0.5161012037396663), (810, 0.5160760792679555), (1904, 0.5151706932019887), (1190, 0.5149949734327479), (74, 0.514676475605125), (3708, 0.5145499145782517), (92, 0.5143270720116906), (1378, 0.5141997779434957), (1239, 0.5141767710509444), (3066, 0.514117342672298), (2801, 0.5138914493527138), (128, 0.5137883946009654), (965, 0.5137610801322949), (3453, 0.5134649945189692), (3784, 0.5133819889700899), (867, 0.5131085708733314), (1804, 0.5130683727045299), (2198, 0.5130404770412551), (1502, 0.5129621469881912), (621, 0.5128835529722099), (4281, 0.5127322399050839), (1899, 0.5125115829244171), (3275, 0.5124675430387352), (1815, 0.5123256819493989), (1167, 0.5122536416580179), (519, 0.5119944907263165), (3660, 0.5119667691740897), (4564, 0.5119511426583904), (0, 0.511776251134308), (24, 0.5117481273780965), (4119, 0.511672740518718), (4241, 0.5116207248464982), (342, 0.5115073983294579), (4459, 0.5114904289516231), (2919, 0.5113802465228711), (3787, 0.511318973851076), (1002, 0.5112668532908202), (3903, 0.5112483592560726), (4538, 0.5112344532955078), (2803, 0.5105941448831608), (2535, 0.5105708782043352), (2371, 0.5104431482361966), (4428, 0.51038126608402), (1342, 0.5102360319262507), (242, 0.5101447353202073), (1897, 0.5096957137234013), (4525, 0.5090675085060398), (3937, 0.5090064350208743), (4218, 0.5088665276755503), (2040, 0.5085821161005135), (1233, 0.5084473728123093), (4467, 0.5084229578634996), (384, 0.5084105217281272), (850, 0.5083240856473703), (673, 0.5083010372068398), (4354, 0.5082291752211241), (1009, 0.5081633637992033), (4449, 0.5079721409692262), (4273, 0.5079535430827753), (3398, 0.5076995105998011), (1637, 0.5075725085800201), (3681, 0.5075168694070935), (1119, 0.5074238358456314), (1093, 0.5073130920289725), (451, 0.5072796817510845), (3968, 0.5072462492777439), (714, 0.5069407580653359), (4279, 0.5068135911469674), (815, 0.5064318847550681), (4620, 0.5061280109231686), (2017, 0.5059075390903727), (4381, 0.5057645757167707), (3866, 0.5057277599069298), (3342, 0.5050893749295535), (1412, 0.5050291753913834), (4216, 0.5050164505766003), (1799, 0.5049287191852644), (2799, 0.504841024607509), (3335, 0.5048112672298288), (443, 0.5046583792671048), (894, 0.5045809129693994), (4627, 0.5045687373759904), (2541, 0.5043963653960768), (4310, 0.5043706491548502), (3657, 0.5042713682376995), (215, 0.5040517070200565), (1641, 0.5040172343180133), (193, 0.5039924145747412), (447, 0.5038052189351256), (1097, 0.5037058014366009), (2578, 0.5036672906745404), (46, 0.5036524396005948), (4085, 0.5036195976706741), (2896, 0.5033438241297039), (1105, 0.5033039691512872), (2826, 0.5032218137865988), (3416, 0.5030549709158522), (1063, 0.5025865904832311), (343, 0.5024981457621656), (81, 0.5022645948009317), (1128, 0.5021909562234751), (2421, 0.5020898598457657), (2903, 0.5020814528828506), (4640, 0.5020738519497401), (537, 0.5016537206218457), (3743, 0.5014768054573473), (2032, 0.5013754212410633), (4300, 0.5013629958179895), (988, 0.5013199091655371), (346, 0.5010067140845432), (3691, 0.5005373722963962), (164, 0.5004206210993979), (4471, 0.5004184925965809), (4259, 0.5002855253749461), (3801, 0.5002013846392179), (4366, 0.4999377333623398), (3508, 0.4999184962975964), (3961, 0.4997962903617715), (276, 0.49978586959986676), (4154, 0.49971178069174893), (1283, 0.49955746415090035), (4096, 0.4994843489964726), (3100, 0.49946993146607876), (4678, 0.49909986046943944), (4503, 0.4989240292899922), (4320, 0.498684653177254), (4074, 0.49862238290728933), (4481, 0.49860706606547106), (472, 0.49852272692586397), (4344, 0.498504376789735), (413, 0.4983648698624694), (255, 0.49824262184885937), (3231, 0.4981426625402531), (4588, 0.4981314507078124), (4665, 0.4980724803042064), (3798, 0.49803577866978416), (3592, 0.4979373754172206), (3484, 0.4971132876883541), (2548, 0.49704251457742316), (1179, 0.496875640258301), (1459, 0.4966817821714957), (116, 0.49649837359181276), (4257, 0.4962166031366352), (258, 0.4961554229282321), (463, 0.49598749321811497), (1740, 0.4957484098830412), (1374, 0.49564878828105746), (245, 0.49504629124168376), (4474, 0.49494930036542556), (361, 0.49489077630388284), (1433, 0.4948890872656687), (633, 0.49473589395164974), (4095, 0.4947167243946711), (137, 0.4943031032768518), (1091, 0.4941839240713293), (4224, 0.49409217076701106), (271, 0.4940338650672709), (1207, 0.49373072337041896), (259, 0.4934727683690871), (2682, 0.49331071455264225), (2067, 0.49319162146894324), (4189, 0.4931389188443446), (1667, 0.49305544266864004), (1280, 0.49293144233914643), (47, 0.49290910389588805), (971, 0.49287490267963535), (4373, 0.49258740410800905), (4242, 0.4925127461275323), (85, 0.4925077266501259), (3698, 0.49250331398493435), (2329, 0.49248333211307105), (1460, 0.4922498981666602), (4399, 0.492141353691112), (207, 0.4920487061688017), (4517, 0.49184738134045763), (1273, 0.49182567673788075), (1377, 0.4917980531937561), (1101, 0.49163513881681964), (1148, 0.4916247288793587), (334, 0.4915944479529835), (657, 0.49145242029768665), (1714, 0.49134756945117913), (362, 0.4913459004139008), (3490, 0.491315120561878), (3233, 0.49131207225929696), (4364, 0.49092113477210986), (3478, 0.4908437640435452), (4401, 0.4907945783590768), (1569, 0.4906753775803372), (1111, 0.49064629782047603), (1189, 0.4906146024870194), (191, 0.4906128454855816), (4557, 0.49059217173806374), (3957, 0.490578365128999), (4600, 0.49037645914384903), (4268, 0.4903228865050901), (4677, 0.4901043680817528), (4136, 0.48982724065229255), (2197, 0.4898040420409125), (636, 0.48955992802164455), (3869, 0.48943996971734444), (3230, 0.4892080909909549), (102, 0.4891795258118982), (747, 0.4891099180843208), (1076, 0.48892086736648266), (2, 0.48891508598937017), (1825, 0.4886145597876876), (1218, 0.4881839277131049), (3604, 0.4880647983983294), (1471, 0.48742580886623205), (2023, 0.4873970242899505), (3587, 0.4873617996275427), (1313, 0.48729756416751574), (1961, 0.48706650198112056), (3367, 0.48684040327911693), (599, 0.4866627824891147), (1796, 0.48631469907462666), (402, 0.4861319424836411), (3180, 0.485881835964426), (1402, 0.4858035229800369), (2918, 0.48569840853363966), (220, 0.48556095437536284), (4053, 0.4855316698655222), (4385, 0.4854771450604695), (3696, 0.4853987071960638), (4312, 0.4853501916359364), (695, 0.4853185907343049), (518, 0.485314256184486), (4383, 0.485300699925371), (3618, 0.4851776440302463), (1560, 0.4850288050405246), (2169, 0.48484415609126635), (467, 0.4847444137979707), (3611, 0.4846900662502123), (3463, 0.4846200375275534), (4630, 0.48454011000229225), (107, 0.4844437706234491), (45, 0.4843539114218962), (2052, 0.484205964824389), (619, 0.48416738245453494), (4472, 0.48395485510469866), (1234, 0.4839528737573067), (3435, 0.4839403369283012), (1662, 0.4838727702975211), (513, 0.483509566913752), (1758, 0.48345271907294507), (111, 0.4833629604803022), (4332, 0.4832239656402874), (4106, 0.48319791798611944), (203, 0.4830114380692314), (2078, 0.48294184462213485), (1165, 0.48293072719516167), (1246, 0.48288337202938886), (987, 0.4828612334091283), (689, 0.48270456519734145), (4105, 0.4826915235357576), (805, 0.4826878147018662), (4090, 0.48262943561336913), (3462, 0.4824027829704115), (4625, 0.4823531027410872), (3381, 0.48223044227322587), (1969, 0.48222154739194834), (436, 0.48219876321969446), (4007, 0.4817796156435085), (60, 0.4815986128880256), (4510, 0.48111319332685143), (347, 0.48104632271835535), (1473, 0.4808344449636242), (3436, 0.480686668432168), (1810, 0.48066139924130374), (2132, 0.48065873023597455), (1696, 0.4804769875678705), (4322, 0.48007722927266283), (3212, 0.48004472080301464), (932, 0.4800045324931862), (2984, 0.47982452110206225), (1399, 0.47974606581804874), (4623, 0.4797068110494403), (419, 0.47957526807512296), (3944, 0.47944347037822416), (3496, 0.4793346945300412), (3569, 0.4791707726305308), (2961, 0.47836652243202377), (35, 0.4782996929990335), (3709, 0.4781070724938013), (3470, 0.47798064057986367), (3409, 0.47782396920166187), (4379, 0.4777420850817357), (206, 0.4776573098923579), (2337, 0.47749502447621883), (190, 0.4774613354012835), (3742, 0.47744552452031463), (2089, 0.47723833250434644), (3454, 0.4771886143270582), (2316, 0.477166175632749), (4365, 0.4771183696422066), (4669, 0.47708422581385096), (1041, 0.47692058201172866), (410, 0.4769018380324421), (4649, 0.47676170754198155), (530, 0.47671642310435647), (3160, 0.47667328668587733), (3797, 0.4766622753368579), (3043, 0.47664576656737245), (4673, 0.47662209848240544), (4414, 0.4764582266468117), (935, 0.47644521674161444), (3959, 0.4762203382752721), (4006, 0.47609668717646725), (3447, 0.47608454329862027), (1177, 0.476026064813172), (1769, 0.4759360074668775), (622, 0.4757533041801373), (4442, 0.4757333270691452), (3720, 0.47569051421867214), (3058, 0.4755699202125094), (1056, 0.47545155740609524), (2643, 0.47526967809715814), (318, 0.4752131875791091), (3469, 0.47489575084720537), (4400, 0.47462370840092233), (4044, 0.474622989185923), (37, 0.4746128424756606), (323, 0.4745569012030839), (1638, 0.4745335249540155), (2555, 0.47449713950307126), (1710, 0.4744614010467581), (1962, 0.4744468114091006), (2980, 0.47362583963265165), (2279, 0.47357766787302186), (4389, 0.4735692435533008), (3771, 0.47355647049408117), (1823, 0.47350621411863314), (1050, 0.47328648148960256), (4639, 0.4732827960174237), (3886, 0.4728640053244777), (855, 0.4728014654927924), (3290, 0.47273464412587823), (778, 0.47247540091105983), (452, 0.4724164989058697), (4236, 0.47241178134666784), (2661, 0.4724097659751482), (1997, 0.4723399917112339), (1215, 0.4722868661133346), (4663, 0.47224714452181327), (3338, 0.4721517445807428), (3633, 0.4721490991158126), (858, 0.471904131599588), (448, 0.47187597217386135), (4075, 0.4718227561359971), (1860, 0.47166714007661054), (3658, 0.4716273321770552), (4347, 0.4715974979189904), (1505, 0.4715591155735687), (2784, 0.4712950158213151), (3637, 0.4712750709026679), (2603, 0.4712568757740104), (4575, 0.4707911006441812), (4579, 0.4706480297543141), (2070, 0.47057677692001365), (4542, 0.4705340339918744), (769, 0.4702947953886739), (1973, 0.47021625711974696), (344, 0.4702161309989336), (2382, 0.47020512424344624), (3505, 0.4700686898850907), (392, 0.46995655558132904), (13, 0.4697618027636871), (304, 0.46957248364387144), (274, 0.46954172094314783), (391, 0.4692067149430192), (2792, 0.4691147120801646), (3260, 0.46877491426341045), (89, 0.4685427886535434), (4275, 0.4684875653881142), (4116, 0.46843188753669074), (1191, 0.46831049971043043), (43, 0.46828784117628386), (4674, 0.4681987305576198), (234, 0.4681874280767836), (109, 0.46812005993998346), (3164, 0.4680775140193436), (1265, 0.4680142515171475), (379, 0.4678070502165975), (4306, 0.4677666393234704), (3974, 0.4677520028180008), (365, 0.4677172774630259), (830, 0.4676222701583592), (1296, 0.46741404462480823), (333, 0.46738780970029703), (48, 0.46737473191381534), (1791, 0.4673742714559499), (1674, 0.4672981610040439), (232, 0.46724978251389576), (2920, 0.4670080842612796), (1464, 0.4667626798456986), (3572, 0.46653552517554503), (4410, 0.4663593115223208), (3605, 0.46635883029876735), (4498, 0.46634244970766653), (817, 0.4662980951582029), (3225, 0.4662483751457098), (2105, 0.4661990210907956), (4468, 0.46619747791721955), (154, 0.4660422378496978), (1355, 0.46590643684726174), (2011, 0.46542856560705637), (4595, 0.4652019057259031), (4360, 0.46509319009159805), (1552, 0.46494909828745934), (1982, 0.4649458075305195), (3795, 0.4648646344670593), (1607, 0.46484966991065146), (1737, 0.46480134179615173), (4282, 0.46463454472087806), (4184, 0.4646148324636623), (4375, 0.46453357075268487), (1044, 0.46450080167423224), (4193, 0.4641369665635191), (4477, 0.4641096039535918), (1347, 0.46407578772860675), (423, 0.4640523022992311), (1334, 0.4640444462148519), (267, 0.4639255280553619), (4569, 0.46349822181779016), (623, 0.46348720601964766), (4533, 0.46343961842900344), (3879, 0.46342318928660764), (591, 0.4631951736940484), (110, 0.46318427461231004), (1106, 0.46301261518654296), (1699, 0.4629573215100007), (1160, 0.4628645230530481), (4577, 0.4626466983786912), (556, 0.46263560000590165), (4033, 0.4625194992640862), (328, 0.4625113727897067), (3565, 0.4625030945806893), (1911, 0.4622670530606537), (3739, 0.4621857030127832), (5, 0.46217319987030153), (185, 0.4620791207250731), (4524, 0.4618701441638356), (2235, 0.46165737636359183), (1346, 0.46164858480154947), (3452, 0.46154573054445225), (1270, 0.46149095750329305), (3972, 0.4614759117094924), (3977, 0.46130566961041847), (617, 0.46121838927713565), (842, 0.4611930067262901), (1896, 0.4611221001491781), (4305, 0.4611129057894), (3134, 0.4609878757548871), (3846, 0.4609106039599728), (1846, 0.46082118346519824), (3493, 0.46071955973775147), (1124, 0.4605033819873433), (2617, 0.46004623067960476), (887, 0.4598999755441189), (4583, 0.45984589699613776), (145, 0.4595086934264061), (2271, 0.4593962286741828), (1028, 0.45936456660655683), (2540, 0.4592024097423176), (590, 0.4592009281469767), (2808, 0.4591867484978421), (1358, 0.4591580209155762), (3550, 0.4591512198569773), (3649, 0.45890592725979856), (169, 0.45871181978965603), (4123, 0.4585983401732699), (1831, 0.4581455291327152), (626, 0.45799963474956856), (1771, 0.4578223607139406), (4704, 0.4577889198144459), (4430, 0.4577598504553134), (592, 0.4577014403386075), (586, 0.45750826853415705), (1806, 0.45728497338386415), (3549, 0.4570000691358236), (3867, 0.45695108614418595), (2819, 0.45658904331723194), (1765, 0.4565444964882641), (1669, 0.4564833152371335), (4159, 0.45626431994705324), (12, 0.4562342551996812), (1609, 0.45614289978763023), (51, 0.4561142136788476), (4058, 0.45604026222955213), (4244, 0.4557732635772652), (639, 0.4557103074002853), (611, 0.4556768480353273), (500, 0.45555553152260164), (955, 0.45553770498509305), (1531, 0.45531039682477553), (3593, 0.45529132629284613), (4049, 0.4552349625425194), (3662, 0.4551888192863849), (175, 0.455169877779776), (946, 0.45507184563057496), (439, 0.4550509164545371), (900, 0.45501840928606874), (558, 0.45492832249833354), (187, 0.45455676856437555), (663, 0.45448339696462603), (705, 0.45445633019443366), (499, 0.4540857972352078), (476, 0.45393892204544506), (4142, 0.45373712666695454), (3077, 0.45363778481677264), (1080, 0.45355430536064845), (3192, 0.45342600101855457), (213, 0.45303265500818274), (1003, 0.45301945790739906), (2399, 0.45300631376780937), (2390, 0.45293949483871876), (698, 0.4526991785590495), (2270, 0.452557822571609), (4368, 0.45236993955338733), (4187, 0.45228922584103626), (1779, 0.45224507802150665), (2153, 0.4522201231669695), (3519, 0.4520941705688603), (4476, 0.45196162167878323), (1287, 0.4517604308317841), (1874, 0.45169876558362626), (61, 0.4515445645574934), (1328, 0.4513742022843218), (3777, 0.4510638314439248), (1693, 0.45094802723213356), (2069, 0.45078453094705234), (303, 0.45077737908037885), (2405, 0.4507149583588501), (2284, 0.4503542759191562), (4309, 0.44998024622130905), (2027, 0.44996982153787785), (246, 0.44995375594026155), (493, 0.44987207095055304), (177, 0.44974511429151764), (2830, 0.4495751430084187), (4162, 0.4492798127199779), (986, 0.4491618204629624), (4679, 0.4491602266214678), (2249, 0.4491556184635233), (511, 0.44913183162207226), (4329, 0.4490854943238971), (4261, 0.4489624886592628), (119, 0.4488338766675629), (1772, 0.44869262243509517), (4441, 0.4486452675110945), (4664, 0.44848346725126836), (2079, 0.4484453383134446), (446, 0.4483425339754563), (828, 0.44821658873708214), (662, 0.4482161715146832), (183, 0.44783048833726613), (4248, 0.44780871206653844), (2629, 0.44768716770058076), (3114, 0.44738188335446377), (765, 0.4473126183296121), (3786, 0.44731127601390586), (2039, 0.4472312538936345), (1180, 0.4471729889102327), (1251, 0.44698749299683005), (1587, 0.44687542645833234), (130, 0.4468053211658744), (494, 0.4466001054301596), (1436, 0.44653412865171555), (354, 0.4464868975729206), (620, 0.44630286088054105), (4621, 0.44626441587564014), (1375, 0.4462354905785084), (2459, 0.4460972845497063), (873, 0.44609390761644474), (2815, 0.44586669551697844), (2245, 0.4457342380085558), (2026, 0.4456870834822901), (2576, 0.4456670222217013), (560, 0.4455737404286977), (3520, 0.4455691731028296), (1445, 0.44552931885368335), (2162, 0.4453495286267113), (2623, 0.44534696551105935), (1060, 0.44516931198821286), (2686, 0.4451337619224192), (4331, 0.4451307220789699), (1665, 0.4448090121761218), (3370, 0.44462090613231264), (3208, 0.44459768700717833), (1456, 0.44453991803814674), (4376, 0.4445139847052743), (819, 0.44442740188771634), (1203, 0.4442023756695147), (2128, 0.44394865876029127), (62, 0.4438536615776654), (1974, 0.44358755823195634), (885, 0.4434925976591816), (3442, 0.4434495203515196), (1116, 0.4434033007428862), (4258, 0.44322034961899043), (2638, 0.4431800937435881), (352, 0.4431725534556432), (2921, 0.4431509893914892), (1880, 0.4431010349380233), (816, 0.44261510609906646), (1565, 0.442431683413353), (4658, 0.44227224485181804), (300, 0.44225232493536004), (3635, 0.44224527845186634), (3603, 0.44222481698714233), (654, 0.4421956378261909), (4643, 0.44211688134969734), (3163, 0.442075340234695), (2156, 0.44191280207206823), (3122, 0.44177350957679784), (1606, 0.44172021839192993), (2237, 0.4416988376380711), (55, 0.44168731299928904), (1047, 0.4416194858808067), (3788, 0.4416173626170631), (3567, 0.44131038925933874), (2415, 0.4412786678921875), (144, 0.4411229074613524), (4606, 0.4411195974530425), (4377, 0.4410380295966514), (3316, 0.44091411700465927), (1174, 0.44081920543378583), (1004, 0.44060599723859817), (4135, 0.4404366002879461), (4661, 0.44037851108419857), (4615, 0.4403714825411374), (3963, 0.4402197767775968), (4343, 0.4399345928607854), (14, 0.43988573164177314), (4435, 0.43977670194503077), (3473, 0.43972857087950745), (2334, 0.4396675318792448), (3776, 0.43951611195852736), (3732, 0.4395115090361623), (2574, 0.4395034805412772), (1414, 0.4393470044957647), (4328, 0.439314308260653), (551, 0.4390074428018911), (4602, 0.4390021346084749), (1873, 0.43888069986381767), (1387, 0.4387909116093087), (3586, 0.43878720680912825), (2742, 0.43869961667237667), (1723, 0.43846200258588597), (2544, 0.4383619239535926), (31, 0.43816412154070994), (3700, 0.438067297847124), (1881, 0.4380554816132896), (1776, 0.4379618478573278), (732, 0.4379603171081896), (1011, 0.43789281450549106), (484, 0.43768481256861186), (979, 0.43757249459285363), (768, 0.4374056616353603), (1664, 0.43711458078092635), (1872, 0.4369070639173924), (4027, 0.4368243918341007), (1305, 0.4367744927868469), (3831, 0.4366327090288817), (489, 0.4364744006806803), (4534, 0.4364150359960194), (4543, 0.4361043127664163), (4240, 0.43597072807801174), (4327, 0.43583121633251665), (2259, 0.43562454355662644), (4255, 0.43554575726130507), (674, 0.4353918614484131), (3444, 0.4352741169608045), (3996, 0.43526839007212004), (2800, 0.4352583826825852), (2083, 0.4352485418665438), (254, 0.43515845061876113), (834, 0.4350093207995098), (348, 0.43496107809372997), (2183, 0.4347922392595172), (655, 0.43460398708977555), (1621, 0.43437642373476404), (4161, 0.43429398554332616), (2573, 0.43426227620282676), (1196, 0.43420285248863655), (3241, 0.4339484201066035), (4001, 0.4339149340042613), (77, 0.4338039589898773), (2410, 0.4335531542425539), (1554, 0.4333126853422553), (97, 0.43325680184946624), (4662, 0.43321962969298267), (4280, 0.43304608307602616), (2687, 0.4328144885882067), (4104, 0.43281437551137514), (104, 0.43271751916923323), (1600, 0.4326996317858313), (3298, 0.4326617024550256), (788, 0.4324158903553654), (407, 0.4322103369495189), (18, 0.4322010611072199), (566, 0.4320085585990676), (4267, 0.4318855205274585), (4210, 0.43128773843238344), (942, 0.4310373252117421), (3775, 0.4310171187589525), (156, 0.431014698257109), (1360, 0.43091982781368193), (4335, 0.43081211606252007), (792, 0.43078057652126306), (3193, 0.43073107853768366), (3799, 0.43066640909813275), (131, 0.4298829825378529), (4098, 0.4297907062689942), (353, 0.4297805237351604), (3568, 0.4297737077526933), (3865, 0.42973990581758703), (1176, 0.42966577039875953), (2494, 0.42947351182592963), (184, 0.42874501074804905), (52, 0.4286748853962683), (806, 0.4286603378361394), (1988, 0.42861316679537675), (3522, 0.4285455537561722), (4611, 0.4285232571113469), (1924, 0.42851329016245077), (2689, 0.4283916824502744), (1504, 0.4283567249248055), (1340, 0.42833250036180476), (1603, 0.4277844432884702), (3741, 0.42764483620759774), (1931, 0.4273183782584077), (2398, 0.427300397983304), (288, 0.4271791715332842), (2985, 0.42708617361610424), (699, 0.42706498192511966), (1260, 0.427022931621945), (2798, 0.4269680215189111), (1469, 0.42690681489987403), (1406, 0.42682586339340395), (3468, 0.4266126874277359), (3947, 0.42640028766984733), (2418, 0.4263249802023875), (2912, 0.4261577875593918), (1458, 0.4260746801292594), (3955, 0.4259230514435569), (977, 0.4258361164353811), (989, 0.4256323693066852), (3202, 0.4254070497203622), (2272, 0.4253667672665379), (66, 0.42499628296471476), (165, 0.42494968579374365), (4231, 0.42492819228692674), (3150, 0.42489810784322124), (4233, 0.4248885348641468), (604, 0.424834886189721), (1110, 0.42480653742143004), (1838, 0.4247725838844424), (3872, 0.42461714973461556), (480, 0.4245790205991442), (734, 0.4244770968624556), (3805, 0.42408513874574794), (1494, 0.42401917912590986), (160, 0.42382601364677874), (2522, 0.42362092617461405), (3916, 0.4236041727012702), (422, 0.42357955154432914), (2053, 0.423552232113518), (1646, 0.42349131048324573), (2022, 0.4232778338473152), (1766, 0.42304727262671526), (843, 0.42302346579438255), (3993, 0.42297628059093717), (3695, 0.4222764718002484), (1295, 0.4222403767495003), (239, 0.42219719586562976), (2365, 0.4220389968480549), (957, 0.4219590271760757), (1602, 0.4219067574156941), (4015, 0.4217275636208828), (4735, 0.42169033367602826), (1795, 0.4216740279670773), (4191, 0.4216487563840597), (2476, 0.4216000211896693), (541, 0.42157910561208256), (1863, 0.4214943003289241), (2267, 0.4213978952214307), (3828, 0.42138155972248664), (3351, 0.42136279333461046), (1540, 0.42127546157432466), (3910, 0.42107730494417234), (4339, 0.4210347917364932), (794, 0.4209781569250175), (4338, 0.4209068649835618), (3926, 0.4206902841177363), (1579, 0.42067299052142926), (1052, 0.42060473669492804), (2120, 0.4205491626128095), (2780, 0.4204521002988071), (1172, 0.4204292049365299), (3723, 0.4204173377775729), (1195, 0.420295450993598), (1266, 0.42028821442551484), (378, 0.42021282015579875), (340, 0.4201691890902731), (1298, 0.4201033933507089), (3734, 0.41980440530873664), (3483, 0.4196488867570493), (132, 0.4196362589734094), (4433, 0.41962972735776494), (755, 0.41962889360079914), (3480, 0.41955310088150016), (3564, 0.41954431739618536), (2807, 0.41948218589667635), (1094, 0.4194396676884592), (825, 0.41902615269960886), (2754, 0.41901056380657736), (4597, 0.4187758634261013), (3628, 0.4187527219319182), (4213, 0.4185702463288354), (3179, 0.41843326741348624), (822, 0.4184287977462095), (301, 0.41836989388545187), (4350, 0.4182394126821667), (1751, 0.4182003914939564), (1480, 0.41811388339826305), (3559, 0.4178861782340737), (3432, 0.417711733927827), (368, 0.4176451359969229), (4099, 0.41752949168958725), (4697, 0.41745739260314546), (3339, 0.41728953401935176), (1362, 0.41723554410682684), (2292, 0.4170914363134369), (54, 0.41690211275664374), (2007, 0.4168124210574389), (1438, 0.4167980197822427), (16, 0.4164786263281736), (44, 0.41617294799911264), (2409, 0.4161271750790116), (36, 0.4161089532796346), (1978, 0.4159479479539965), (2652, 0.41587555817452965), (426, 0.4158315624275696), (1162, 0.4152478245266368), (1599, 0.4152030916791357), (466, 0.4150902037198764), (915, 0.41500725407897077), (3384, 0.4149551823950429), (1487, 0.41490320374352524), (696, 0.41486489742259774), (694, 0.4148451768880334), (799, 0.4146737216415563), (3129, 0.4146603273509525), (1005, 0.4146206306384714), (2558, 0.41435683681366464), (635, 0.41427124670142695), (715, 0.4142690420772231), (1820, 0.4142324440932287), (293, 0.41419341322671616), (56, 0.41413602294488594), (872, 0.4141312614780399), (3746, 0.4140303217506246), (4012, 0.41395777154977775), (1711, 0.4139057895805476), (1307, 0.41388815763483444), (3373, 0.4138364135021526), (1835, 0.41374229815561836), (4513, 0.4136679346960825), (3464, 0.41363937575522397), (335, 0.4136381518721637), (22, 0.41359489327878074), (4392, 0.41351982667580633), (2547, 0.41351706173444513), (2193, 0.41341271341790853), (2098, 0.4131711201297058), (4045, 0.4131432514860437), (1993, 0.41300788783307985), (40, 0.41296052415866263), (1700, 0.4129122337762535), (1403, 0.41281764725388137), (2886, 0.41274816808965936), (2408, 0.41273832444322756), (1802, 0.41272296641209416), (3201, 0.41268885747791934), (265, 0.4125920865654504), (1561, 0.4125335217998574), (409, 0.4125315814070562), (3744, 0.4124997454980148), (3815, 0.4123704781928281), (4527, 0.4122126641811175), (1365, 0.4121451106556317), (227, 0.41200330425962306), (883, 0.41199074268883473), (1903, 0.4117251776455894), (469, 0.41171165598796194), (2610, 0.41163964648989865), (468, 0.41163683763794917), (1240, 0.41162558342055217), (2736, 0.4115913011847108), (899, 0.4114324835173593), (1114, 0.4110224197469337), (959, 0.41100534858619353), (2908, 0.41097758931302936), (713, 0.41090310355881643), (506, 0.41060677908817556), (237, 0.41047636115237446), (4488, 0.4102835796979946), (4016, 0.4101521559286574), (404, 0.4100092475372457), (2848, 0.40973761218353066), (1348, 0.4096213467511655), (4666, 0.40939570669472236), (1523, 0.4093271740832712), (752, 0.4092693801878642), (3096, 0.4090461330064211), (2356, 0.4090445093374625), (2061, 0.40886338285466134), (4093, 0.4087516689826733), (330, 0.40855376537718757), (3954, 0.4083505263321266), (1597, 0.40828483308585195), (2322, 0.40823894857627563), (179, 0.40793009514888123), (3666, 0.40767464104562207), (208, 0.4076644005857045), (1685, 0.4076133754923181), (1353, 0.40758723831496096), (3376, 0.40752654478932887), (4448, 0.40748026581303254), (1634, 0.4074052881590471), (2714, 0.4073680441787735), (802, 0.4072729609143574), (3039, 0.40708740022290624), (1521, 0.4069905109346818), (1059, 0.4068679696324819), (2144, 0.40682670963882633), (3207, 0.4067426810234275), (2381, 0.4066719212269587), (919, 0.406660204173727), (1524, 0.40655710127603173), (2148, 0.4061111201708232), (1581, 0.4060929146990014), (2268, 0.4060205658050296), (3713, 0.40596836192164015), (1023, 0.4059165014707203), (4454, 0.40582391078634955), (4323, 0.4056821554867393), (1906, 0.4055629677492867), (3548, 0.405556204908825), (4340, 0.40545691936591116), (2386, 0.4054145639832398), (2116, 0.40516751842480947), (1869, 0.4051588666191505), (3727, 0.4050406473880749), (256, 0.40495829840369585), (1535, 0.4048541731835228), (2174, 0.40483178224089716), (3133, 0.4047754208933454), (3503, 0.4047544244884706), (509, 0.4047433306857413), (4438, 0.40474050983097837), (2713, 0.4046749615906584), (1010, 0.4046719659770023), (3690, 0.4043242042805507), (59, 0.40400976587558635), (1008, 0.4038900354592468), (4274, 0.40384233685677984), (4440, 0.4037592049296392), (835, 0.4036796587990531), (3394, 0.4031407682642846), (4656, 0.4031369427597407), (2303, 0.4028420394807821), (73, 0.4027838393775912), (465, 0.4027557501197333), (984, 0.4027498549280712), (243, 0.4024234642320518), (209, 0.4023313019676934), (4298, 0.4021226406919985), (3773, 0.4020331023957686), (3387, 0.4019683491115503), (2205, 0.4018875153738819), (725, 0.40188267615029744), (912, 0.40162302392385546), (2190, 0.4013643195988596), (372, 0.4010909597279346), (4296, 0.40081651634344195), (2122, 0.40066605912495384), (751, 0.40057160139635034), (3860, 0.4004977161913483), (2349, 0.4004504797196803), (3852, 0.4002784737493687), (2233, 0.4002351802827986), (248, 0.4001585663756719), (2413, 0.40005939708640875), (3785, 0.39999943724953635), (4747, 0.39976948776171406), (2019, 0.3996736687759895), (166, 0.39956683561574785), (1722, 0.3994276043422572), (1663, 0.39932982077650914), (2878, 0.3991788409478239), (4039, 0.39913523208532264), (1951, 0.398982824408876), (1078, 0.3989299109542375), (3085, 0.3988995842204864), (3143, 0.39870842190503386), (4290, 0.3986888319195723), (1337, 0.3985831795985314), (3607, 0.3985806207802336), (2109, 0.3984095449055786), (2423, 0.39815963973252155), (172, 0.3981336946952226), (1787, 0.3979990759872549), (3949, 0.3977417354570244), (1213, 0.3977233262764765), (1548, 0.39766460420361316), (4496, 0.39763341968081917), (3641, 0.3975767465345591), (1680, 0.39753144980938004), (1616, 0.3975225852297128), (3894, 0.3974716648142579), (485, 0.397458374251869), (1979, 0.3972434996133837), (643, 0.397125239348126), (2525, 0.39710125352228387), (4516, 0.3970856337451133), (4444, 0.3969350311986419), (1921, 0.3968189175238513), (1566, 0.39665007257035184), (1048, 0.3966197457945091), (1525, 0.3965995511070811), (797, 0.3965545750082541), (3917, 0.3963049523768143), (3078, 0.39628588744221827), (3358, 0.39599956150952853), (667, 0.39593345209095154), (4080, 0.3959173334769684), (240, 0.39586353150523557), (1475, 0.395825663587729), (1691, 0.3957773483038123), (306, 0.39569387033272113), (2586, 0.39565222359333724), (2763, 0.39537671983410555), (4453, 0.39508253672907), (563, 0.39501521354439373), (2104, 0.3949919559421412), (1188, 0.3949282137653761), (2110, 0.39481584264298825), (464, 0.3946513442636474), (522, 0.394627027987829), (2609, 0.3945598104476618), (923, 0.394512340134109), (1274, 0.3944838281163488), (681, 0.39435282436326796), (928, 0.3942568250048051), (1829, 0.394162896016248), (1481, 0.3941157015627248), (1809, 0.3940281580990765), (4434, 0.39375167475044937), (1509, 0.3937083323830943), (701, 0.3936571135299808), (844, 0.39348157665804173), (3595, 0.3934235759785236), (3010, 0.3930540308251615), (1461, 0.3929936002971966), (3943, 0.3928797157026937), (3279, 0.3928087831653397), (803, 0.3927219218278151), (2648, 0.39269185141229057), (28, 0.3926609950730266), (2665, 0.3925332277215788), (4478, 0.3922953570238496), (1088, 0.39221958532196877), (219, 0.39215289361380357), (3132, 0.3921196850024021), (4451, 0.3921046759209152), (2723, 0.39204161678219807), (1727, 0.39204055712402175), (4680, 0.39186092309218945), (2203, 0.3916713964488454), (1332, 0.3915306873839573), (1306, 0.39143226924218966), (3385, 0.39139759679906455), (3161, 0.39138631228294646), (1656, 0.3913393086055151), (95, 0.391322676842426), (390, 0.3911861365671985), (1705, 0.390957543084658), (3509, 0.390786700107267), (1534, 0.3906624721005126), (1139, 0.3906030086466816), (2035, 0.3904471272962966), (532, 0.39038808595970287), (1329, 0.39037489395688024), (4409, 0.3902930598686943), (3769, 0.39023563254673205), (416, 0.3898287403320221), (4688, 0.3896508992607229), (4346, 0.38955809889075294), (3388, 0.38951484873157727), (3619, 0.38950646387977444), (1555, 0.38936566256126526), (2172, 0.3893349677543234), (3270, 0.38879422337700525), (1516, 0.38868470647346304), (1952, 0.3884985698995965), (2100, 0.3884463468374651), (1681, 0.3884189270812128), (827, 0.38815063897457414), (3174, 0.38802834654500845), (1999, 0.38798255996928854), (1127, 0.38795865967984755), (3352, 0.38792024008345116), (3466, 0.38790015621807306), (1864, 0.3878938389223073), (2317, 0.38774926992277764), (3247, 0.3875021103133325), (2041, 0.38742408632709724), (1888, 0.38712562044449284), (1497, 0.38707055860196554), (3147, 0.3870656889563297), (587, 0.3870639631338927), (2295, 0.38687684946770906), (3011, 0.38687054064629617), (17, 0.3868045456011173), (4684, 0.38670566337548445), (317, 0.38668848737267014), (3329, 0.38668260027912316), (3498, 0.3866710668945531), (2336, 0.38647288472061353), (1854, 0.3863375514905002), (2412, 0.38632383675473314), (2963, 0.3863047916531597), (1551, 0.38625388886308964), (367, 0.3861806264389856), (261, 0.3859006882396627), (4036, 0.38583624330676647), (1083, 0.38563831461478687), (1557, 0.38538367061559287), (1432, 0.3850444345292128), (4447, 0.3848570119386914), (204, 0.3847513301931952), (1021, 0.3844491904196208), (4043, 0.3843301020161033), (1155, 0.38432348683630535), (4010, 0.3842497066520929), (793, 0.38422079012271776), (4718, 0.38406624007237944), (2621, 0.3839997202612315), (281, 0.3838618159294536), (3363, 0.3838386125909737), (4023, 0.383634984846808), (483, 0.3835749980647261), (2853, 0.38348693492203156), (1559, 0.38321818232818516), (2565, 0.3831514586548783), (2942, 0.3831416268853457), (397, 0.38313658888285634), (908, 0.3830645918462136), (127, 0.38305872134270885), (3863, 0.38303283412677497), (1944, 0.3828540353140739), (1466, 0.3827203814161972), (1553, 0.38263340688582276), (4158, 0.38255479293142736), (4295, 0.38254317275917327), (2161, 0.38250683077813563), (1861, 0.3824904837051914), (3989, 0.38246759673396785), (878, 0.38245825422390767), (1045, 0.38215940174429736), (2082, 0.38213732225397673), (3688, 0.3819826581381228), (716, 0.38191898911868993), (1238, 0.38186612158364436), (2507, 0.3817702917350089), (3965, 0.3816958487281917), (3499, 0.38162462856392576), (168, 0.3815517637665625), (2667, 0.3815458721442475), (3555, 0.38147399294415535), (1356, 0.3814264851411295), (956, 0.38138051578191323), (3885, 0.38135208098043677), (4089, 0.38125740654878265), (1142, 0.3811564377828094), (2557, 0.38112889930098204), (449, 0.3810304576031507), (186, 0.38102203912918775), (456, 0.38095916263143265), (105, 0.38082672806976076), (2516, 0.38078329371572917), (3596, 0.38062959732892465), (2802, 0.3805283223292285), (1043, 0.38041963982171023), (1258, 0.3803041840650022), (565, 0.38014798392179294), (2779, 0.3801172037412053), (3781, 0.37999959911307774), (1651, 0.3798633689462841), (2130, 0.3798600628999884), (3079, 0.37974770443006217), (4013, 0.37974548625842397), (1349, 0.37969015744687956), (1718, 0.37959684703150537), (4511, 0.3794811241481706), (3551, 0.37947581769790806), (2727, 0.37913067963874014), (3598, 0.3791294622974114), (3337, 0.3790862543478709), (435, 0.378923346724664), (3204, 0.3788330340063361), (548, 0.3787198993618713), (1755, 0.37865112057755823), (2438, 0.3784291290963643), (1310, 0.37832392556080907), (129, 0.3782318923344871), (961, 0.3781939789421717), (4582, 0.37808278031730164), (2136, 0.3780101813691628), (869, 0.37800380435380865), (266, 0.3778821006061921), (3902, 0.37785762862543004), (3542, 0.37768219419526305), (3448, 0.3776576937685728), (222, 0.3776332454179382), (1312, 0.3774703922795609), (1527, 0.37735339316192007), (1767, 0.3773496444433908), (2931, 0.3773062442021074), (366, 0.37723365386333646), (1500, 0.37721496413957334), (841, 0.37720266391796586), (2804, 0.3771835047128256), (1912, 0.3771785010292394), (892, 0.3771573605994191), (2495, 0.3771387963715328), (4647, 0.37704873252818333), (1170, 0.3767932088913079), (3811, 0.3767840655319638), (2909, 0.3766108661309823), (612, 0.37660228344186414), (917, 0.3765050168179796), (859, 0.3764981644677974), (1031, 0.3762727192568247), (257, 0.3761767487749548), (3870, 0.3761523225453323), (3693, 0.3757094006242972), (142, 0.37538777239328414), (2498, 0.3751355860082832), (2975, 0.3751257541028892), (3224, 0.3750688556053872), (2127, 0.37500955481760223), (260, 0.37498015440583626), (1311, 0.37496278760117374), (4439, 0.37493994812903025), (3320, 0.37492315199594733), (1103, 0.37489899907372676), (845, 0.3748897659291576), (1112, 0.37483675873185757), (327, 0.3746990049004228), (3646, 0.3745941395525888), (1839, 0.3745742499859332), (4112, 0.37442603896687776), (3803, 0.37440502882982085), (2845, 0.3743603626834646), (1970, 0.37434212405628975), (2898, 0.37420825524643586), (589, 0.37406936634253385), (3104, 0.3739859948717095), (4192, 0.37395877416117657), (1024, 0.3738783452126627), (1126, 0.3738494037258594), (1074, 0.3738457453859114), (1672, 0.3738342184694805), (3590, 0.37381377093742807), (3091, 0.37378292297371357), (3738, 0.37365036008291475), (1323, 0.3735820128544018), (1678, 0.37351230500217436), (338, 0.3734566491036781), (1886, 0.37344927802451267), (3792, 0.3734335231919948), (174, 0.3733688455563815), (310, 0.3733219151400695), (2273, 0.37330902613786304), (3284, 0.37328547550105595), (1454, 0.37322182642786006), (1492, 0.3731909330383463), (1626, 0.37310591439377067), (3356, 0.3730207853223905), (350, 0.37289158149829593), (1890, 0.37267591041286824), (2957, 0.3725646425196011), (2704, 0.37243361446658013), (1882, 0.3724264584222771), (2620, 0.37237912686744157), (1739, 0.37211964273861214), (1476, 0.37211919999930954), (504, 0.3720493011234727), (3694, 0.37200553735294944), (93, 0.3719756057051475), (3083, 0.3719544826941559), (1292, 0.37175014904867576), (1742, 0.3715816426617037), (2663, 0.3715365661452828), (1778, 0.3714816552928328), (1859, 0.37148054854613494), (1474, 0.37141270484801925), (4563, 0.3713433581546597), (1081, 0.37134193319118597), (904, 0.37098779771202783), (1762, 0.3708971446518338), (1539, 0.37086458456658256), (1617, 0.37081226745236145), (2462, 0.37072836888812294), (4235, 0.3707105488341601), (2868, 0.3706919382598092), (1824, 0.370648412087804), (2606, 0.37063138698803133), (669, 0.37060350306703604), (1781, 0.37046648694559947), (1543, 0.37034544602226543), (3460, 0.37027473970104163), (316, 0.3702478790111825), (2822, 0.3702107726107194), (3793, 0.37018814462341953), (1, 0.3699352140025777), (567, 0.36993294593606996), (3405, 0.3698007686465263), (305, 0.36972744659120704), (4506, 0.36970688553824294), (2523, 0.36960450813564144), (1236, 0.3693892457625704), (2091, 0.36936245215161523), (1429, 0.3692726055741549), (2434, 0.36923826460526343), (3735, 0.36914947454295155), (262, 0.369126676421233), (2373, 0.369108509876394), (459, 0.3690413957903672), (4566, 0.36897144882598637), (94, 0.36895060107504685), (427, 0.3688611804982353), (3286, 0.3687974235106286), (1351, 0.36868168425870174), (1526, 0.36847722168560937), (3486, 0.3684422161245499), (2710, 0.3684010912034019), (375, 0.3683647031514024), (3898, 0.36836443790496776), (458, 0.36831259259450166), (2106, 0.3682391955061248), (4034, 0.3681726088359184), (429, 0.36815185463664907), (773, 0.36811882436622384), (3406, 0.3679683793854384), (4598, 0.3677866461547382), (3308, 0.36775350031013776), (597, 0.36770204314014526), (4452, 0.36767883092621956), (1564, 0.36760543979118365), (57, 0.367527658728455), (322, 0.3674522042100039), (221, 0.36743789970792406), (4143, 0.36731222081821735), (112, 0.36731094014936727), (1345, 0.3672396662536198), (916, 0.3670854990683087), (2111, 0.3670109304355575), (4139, 0.3669603653598281), (2015, 0.3668384919953918), (3457, 0.3667812135135342), (291, 0.366676785986496), (1950, 0.36663941920319326), (3546, 0.3666029459548622), (677, 0.3665974237368055), (100, 0.3664872573314756), (1463, 0.366403598468777), (1472, 0.3663078997103419), (4574, 0.36618646088708207), (3609, 0.3659978345880402), (1923, 0.3659087109897363), (1143, 0.36582022159085414), (2614, 0.365730968851999), (3986, 0.36571921476550906), (4178, 0.3655820235448), (4612, 0.3655072341957399), (4011, 0.36541485614386526), (930, 0.3653771371568942), (4277, 0.3653289863212707), (228, 0.365313480255845), (3904, 0.36524716933046997), (438, 0.3651369566692814), (3751, 0.36511693506581383), (415, 0.3650700348579539), (405, 0.36503110520940185), (1082, 0.3650115666995478), (804, 0.3649734103656695), (1591, 0.3648925874557226), (65, 0.364841742187759), (2856, 0.3647484334510056), (2981, 0.364734118006456), (1987, 0.36461721690866555), (821, 0.3646090467056984), (2668, 0.3645207099378767), (739, 0.3645077075179396), (2791, 0.3643991935454731), (602, 0.36427617973093573), (2491, 0.3642695113121486), (3754, 0.364090778828378), (2001, 0.3640780645648195), (30, 0.3640299956826224), (3726, 0.36397673523103957), (4707, 0.36396806891853783), (1513, 0.36396640904153865), (351, 0.3639338251603579), (2189, 0.3639024500670547), (3941, 0.3638821952288513), (749, 0.3636908032511168), (3602, 0.36363200525776873), (3889, 0.363557238312514), (4670, 0.36349439853672527), (321, 0.3634296951105558), (3497, 0.36333140671473996), (450, 0.36330072957351134), (2571, 0.3632928555657861), (4531, 0.36324351177389796), (963, 0.3631864434183973), (1905, 0.363156777416984), (4057, 0.36299188905047763), (2639, 0.36287363561025193), (1754, 0.36279304013376373), (4362, 0.36277558126827153), (4088, 0.3627162651744193), (2605, 0.36269991687301817), (3410, 0.3623311550413179), (748, 0.36233095007745253), (2092, 0.36232974113944283), (2846, 0.3622365024852869), (4426, 0.3622302231466794), (4655, 0.3622204774156016), (1515, 0.3621275835707626), (2988, 0.36208163684617095), (603, 0.36202978650299866), (3158, 0.3618269323880138), (3747, 0.36167136146088286), (1519, 0.36161263647179065), (809, 0.36145394637163875), (3671, 0.3614418439032666), (535, 0.3613510138764623), (3724, 0.36123964156691224), (3541, 0.36119466616481966), (3072, 0.3611518729693243), (3591, 0.36102963658198156), (3073, 0.36095483352907803), (4009, 0.36094801269135374), (2582, 0.3609229886535365), (2766, 0.36086226466267696), (652, 0.36082506715548024), (786, 0.3608222464935414), (1194, 0.36070804440312276), (3684, 0.3606564856744721), (1202, 0.36063007832639193), (823, 0.3606170644214418), (2996, 0.3605995291987562), (683, 0.3605337069994946), (178, 0.3605336021355595), (528, 0.3604208314019033), (2502, 0.3603016243988821), (2430, 0.36024536947761254), (277, 0.3599904324683532), (182, 0.3599180619275772), (877, 0.35991671465832575), (1636, 0.3598157269327019), (3543, 0.359690050655917), (1486, 0.3596085499621072), (4195, 0.35957000895074276), (1520, 0.3595467444552244), (1614, 0.35949397148782114), (3599, 0.35947410089877485), (1434, 0.35918840018336906), (2986, 0.3590614536120261), (2755, 0.3590197968019304), (3960, 0.35901890931909713), (1964, 0.35896808987936635), (3012, 0.3589378512555155), (1145, 0.35893062054832103), (653, 0.3589207744514457), (1071, 0.35879878528446674), (491, 0.3587972803520368), (2781, 0.35879333789028384), (4137, 0.35860147624469335), (2566, 0.3585614669086658), (1131, 0.3585335111085393), (4318, 0.35851460865764756), (2258, 0.3584413445472279), (241, 0.3582673207150431), (613, 0.35814704560984895), (582, 0.35793219293788103), (376, 0.35783554635659676), (1249, 0.3578077241942235), (722, 0.35778572026772554), (103, 0.35778341628437715), (394, 0.35774978271814134), (521, 0.3575977298439094), (1221, 0.35730537483012814), (58, 0.3572862603691684), (4411, 0.3570706267494073), (1706, 0.35686933359854034), (2359, 0.3567055352613549), (3153, 0.3564930920226596), (920, 0.3564538768373895), (3191, 0.3562336738848838), (3168, 0.35616949580882573), (2177, 0.35612875057486415), (993, 0.3560753789515515), (736, 0.3559531646361564), (1066, 0.35581487751131297), (2718, 0.3557952931333028), (4460, 0.35573968200569056), (314, 0.35568459896823984), (1364, 0.355617589513202), (414, 0.35559150974795317), (1549, 0.35555526081604877), (1495, 0.3555057042407899), (3915, 0.35541414394927656), (707, 0.35541075647926323), (1738, 0.35540260998261997), (3854, 0.3553117862571438), (1900, 0.35515045102594783), (315, 0.35500277154612675), (4473, 0.3549668233153306), (1228, 0.35496568340168827), (1211, 0.3549395055520776), (562, 0.35492545853542423), (2504, 0.3548144321771), (1462, 0.3547011064634987), (180, 0.35462229654766914), (4223, 0.3545554455915533), (4754, 0.3543117212824527), (4470, 0.3543028818388384), (4650, 0.3542450903325154), (891, 0.3542402133716635), (3060, 0.3540900467851555), (2361, 0.3540585965885851), (3313, 0.3538592182384732), (3182, 0.3537315227056276), (211, 0.35361821029029367), (118, 0.3536181526614392), (3969, 0.35353862223783966), (91, 0.35350543332111234), (2149, 0.3532442299568158), (507, 0.3532110574399723), (1522, 0.3532053247233633), (526, 0.3531724159516928), (3823, 0.3530345704471868), (3938, 0.3529964535802676), (2483, 0.3527925981489142), (282, 0.352756150841525), (417, 0.35268128794684467), (1427, 0.3526607676559095), (818, 0.35260601932759816), (1518, 0.3525268322294211), (2496, 0.352498879211005), (733, 0.35249708531000074), (2492, 0.352353340480436), (4682, 0.3523313980929046), (2892, 0.35224567850629884), (3276, 0.35219603213881573), (3643, 0.3520585738573484), (399, 0.3519715791542837), (721, 0.35191680070468456), (2944, 0.35189884266331123), (3659, 0.35188337283218346), (401, 0.35177707480185305), (217, 0.35163760565964686), (4695, 0.3516308341240852), (876, 0.35157293529355843), (990, 0.35140399042303355), (1542, 0.350694321073549), (1528, 0.35061763098170434), (161, 0.35048329784097654), (3711, 0.3504527012502033), (398, 0.35042329047786874), (4035, 0.3503217245775953), (3953, 0.35030811551348545), (4002, 0.35027481719646736), (4038, 0.35019928078209234), (2817, 0.3501872877955661), (570, 0.3501869829278285), (527, 0.3501368792059648), (320, 0.35010154152892303), (718, 0.3500333410479843), (3597, 0.3500197436495648), (1782, 0.3499160369847108), (1789, 0.3498904200418178), (4431, 0.3498899757132483), (2417, 0.3498659902164711), (275, 0.3495715041139596), (836, 0.3494879175537546), (1517, 0.3489380960567973), (2108, 0.3488513693546055), (3433, 0.34884359363990164), (3531, 0.34873987941143336), (3639, 0.3487092956787668), (205, 0.3486203431874394), (2456, 0.3485925471820758), (1198, 0.3484860159950236), (862, 0.34836574828876665), (2131, 0.3482774066878287), (4384, 0.3480549706572352), (3859, 0.34804748726867696), (269, 0.3480446423311315), (2793, 0.347908083196286), (4156, 0.3476785541028451), (685, 0.3476365754242548), (3300, 0.3476087213948732), (4483, 0.34757170840182183), (945, 0.3473616227085082), (618, 0.347319360364334), (3097, 0.347305183448485), (1400, 0.3472268618171669), (3756, 0.3472257512727208), (2526, 0.34714681297736916), (895, 0.34711980597668524), (4436, 0.3471171184319921), (4113, 0.34697762415584693), (4685, 0.346837202883417), (2758, 0.3465663610927274), (3311, 0.34654101093744843), (4482, 0.34645378912066543), (272, 0.346375679121573), (1158, 0.34626414511713527), (148, 0.34612232711148744), (2959, 0.3459312203726046), (4245, 0.3457408301255188), (2277, 0.3457094826155315), (2419, 0.34559052761130526), (1571, 0.3455112374772159), (273, 0.345489062935284), (848, 0.3454840933558066), (3144, 0.3453403766947272), (1721, 0.34532519849927124), (976, 0.34530412517087106), (4530, 0.345303706780943), (3850, 0.3452847837800681), (1054, 0.34525227736968317), (2508, 0.34486674223778474), (568, 0.344862351451692), (218, 0.34466567634343337), (2389, 0.34455296247183104), (944, 0.34452585864537855), (4687, 0.3444991675210709), (1697, 0.34443502549207133), (2137, 0.34442513217560594), (1489, 0.34442101576764717), (634, 0.3442698409821232), (2732, 0.34425563458363884), (1529, 0.34413845684883215), (1396, 0.34398727281248526), (1730, 0.3437435489226434), (3042, 0.34373851257743465), (4408, 0.3436941846343889), (2510, 0.3436597857335952), (3706, 0.34336771919339265), (884, 0.34333451312026575), (3430, 0.34324464508667524), (798, 0.3432222862203132), (3855, 0.3426293193199393), (2501, 0.3426013283252855), (3632, 0.3425832788977625), (249, 0.34255206185925346), (1538, 0.34248246933040416), (3987, 0.3424147242710953), (3259, 0.3422331441172477), (552, 0.3421673999810522), (3956, 0.34211283552258354), (1243, 0.3420790175938925), (2107, 0.3420393583829635), (1327, 0.3419669973045623), (2095, 0.3419188486783088), (3888, 0.3418747467233793), (2280, 0.34186679878136345), (505, 0.34183284042149586), (3333, 0.34177195573108493), (2694, 0.34160985618217143), (1331, 0.3415217222747213), (4234, 0.34146534802495926), (2824, 0.34122243147232334), (2789, 0.3411721003449097), (637, 0.3411349977498026), (554, 0.3411032017598894), (1541, 0.34099855298429455), (2178, 0.3409585438304998), (4421, 0.34083079788526083), (162, 0.3408080398063037), (1352, 0.34075944128683705), (1070, 0.3407233214913334), (408, 0.3406369907735611), (34, 0.34063627474579095), (3021, 0.3405653861899393), (2182, 0.34056041865135456), (4353, 0.34053128494713825), (3404, 0.34051117752513815), (3301, 0.34048547264738316), (1491, 0.3404798475456917), (646, 0.34046661009365), (412, 0.34045369349556465), (3814, 0.34038948743299346), (21, 0.3402470595227339), (2950, 0.340235601463452), (176, 0.3402280890066106), (1840, 0.3402175909001498), (490, 0.3400340491876226), (4422, 0.33984120339254015), (2416, 0.3397407163936634), (1014, 0.33970297502049546), (3299, 0.3396078634027731), (2570, 0.33959507842092174), (4690, 0.33952470664955925), (3069, 0.33926913028539885), (680, 0.3392445371954136), (4486, 0.3391947109827455), (1866, 0.33904573494761464), (4288, 0.3390359064632429), (4017, 0.3388354636441271), (2764, 0.3386463969223859), (2058, 0.33864372321584535), (1089, 0.33862682706187225), (782, 0.3384488923871354), (1701, 0.33837890416893013), (1734, 0.338282515032139), (726, 0.33823667238466937), (2362, 0.33822365553933187), (1049, 0.33817189861160407), (852, 0.33802166939374867), (4138, 0.33800214683991264), (3554, 0.337832752888244), (1186, 0.3377290717230821), (3305, 0.3376578476146317), (252, 0.33759047351227267), (1072, 0.33753165765696547), (846, 0.3375154112557868), (2214, 0.33747840203078544), (238, 0.33743184870913584), (879, 0.33741894909917663), (3516, 0.3373285000313982), (3271, 0.3373112023457173), (2481, 0.3372759325589333), (687, 0.33723752416833463), (1989, 0.3370823567534145), (2369, 0.3370076018926685), (4063, 0.33699625013421475), (3226, 0.3369422848106036), (596, 0.3368866220347164), (1514, 0.3368358518834924), (4555, 0.3368273183862176), (380, 0.33680957282361884), (15, 0.33676252257864703), (1642, 0.3367372917963608), (3485, 0.33671262343717506), (3908, 0.3366319714593862), (339, 0.3363472808589227), (486, 0.33633617621461404), (1659, 0.3361790693381463), (101, 0.33615692467176383), (313, 0.33598828815966986), (757, 0.33577831764867233), (593, 0.3355853876745706), (4599, 0.3355320478544828), (331, 0.3354630122371899), (357, 0.3353628283713569), (1096, 0.3353486044844258), (3013, 0.33530853178540565), (1939, 0.33528893066509863), (1633, 0.33525222316898096), (4217, 0.3351177756245863), (682, 0.3350102078726952), (3374, 0.3349441110841875), (4003, 0.3349130789520204), (1027, 0.3348334402185898), (121, 0.33481345658916983), (4214, 0.3346781879966659), (1946, 0.33467190695832777), (1925, 0.33466160958747254), (648, 0.33465820953316067), (3576, 0.334553217989475), (4202, 0.3344890942485696), (2719, 0.33439156244295876), (3491, 0.3343898512279386), (389, 0.3343603031372013), (1225, 0.3343241451459076), (1726, 0.3342921123777672), (3875, 0.3342414927814029), (4186, 0.33421703097085687), (279, 0.33410213671917577), (2117, 0.33400145190305464), (1217, 0.3338964280525662), (3183, 0.33384811385636387), (4638, 0.333832620841668), (801, 0.33377433859592226), (1439, 0.33376097388513204), (4334, 0.33367877782870037), (3186, 0.33357352242936844), (4417, 0.3335051723133792), (2013, 0.3334170736334299), (1138, 0.3332995315855127), (3278, 0.33319296718534264), (856, 0.3331520791788279), (4203, 0.33311507841746113), (420, 0.3330728788090702), (910, 0.3328936581582461), (670, 0.3328634850449788), (4614, 0.3325708610803687), (4204, 0.3324524950719691), (1546, 0.33234439329913645), (647, 0.3322871962500097), (4404, 0.33225311110292677), (460, 0.33221159046137877), (4228, 0.3321622414481676), (2460, 0.3321047628352251), (1593, 0.3318131471152454), (290, 0.3317158212988258), (4155, 0.3316474623703788), (2873, 0.3315961622677195), (1104, 0.3314059480828042), (4000, 0.331361153470681), (90, 0.3312631362233788), (3778, 0.33123048458520116), (772, 0.3307672167006789), (2168, 0.3307463310452202), (665, 0.33057951676886904), (3061, 0.33045561618743313), (2904, 0.3304232845111644), (4124, 0.3304010580755893), (1720, 0.3303894560573474), (2839, 0.3303518948205904), (4716, 0.33033126949036756), (538, 0.33018740427613796), (1496, 0.33014043373276325), (488, 0.33002862219420104), (2103, 0.329981422868437), (3362, 0.3298419937109978), (534, 0.32979949603637293), (2863, 0.3297223569542474), (2956, 0.3296397401737104), (1341, 0.32956993323990597), (1563, 0.3294998501810889), (2252, 0.3294190993639235), (851, 0.3292539198323496), (4221, 0.3291968901652471), (3975, 0.32910752957478523), (2970, 0.3290785089693947), (1803, 0.3290772924224168), (2254, 0.3290409065824231), (864, 0.32902824471712494), (2447, 0.32897317781322094), (3030, 0.3289185061736575), (2335, 0.32885235178549344), (2536, 0.32884019182357516), (3256, 0.32877480583017615), (503, 0.3287626332879623), (2528, 0.3286000094918478), (3701, 0.3285982128457607), (1976, 0.3285444970730081), (3314, 0.32841935711541914), (720, 0.32835521870635587), (4051, 0.3283172694934925), (1137, 0.32824443779313783), (4315, 0.3280996099699503), (2377, 0.3279575481136537), (3725, 0.3277021652249535), (3740, 0.3277010537743267), (2428, 0.32768028530258414), (2813, 0.3276761689915905), (3319, 0.32765031162658154), (890, 0.327603708362997), (847, 0.32757673410322924), (382, 0.32756669689980755), (2229, 0.32756114749845905), (2542, 0.32747074351943306), (898, 0.32740737777463536), (1821, 0.3272769764862227), (3028, 0.3271825487351425), (3166, 0.32703798680131124), (75, 0.3270280016291055), (3868, 0.32696968079417266), (4558, 0.32696191748013265), (1530, 0.3269162393288686), (2894, 0.3269162161312593), (1649, 0.32686492211923346), (1629, 0.32679065137430563), (688, 0.32676966119748346), (157, 0.32663579847838115), (25, 0.32656807922741454), (2882, 0.3263814385092775), (3881, 0.32635778927370407), (3327, 0.3263550647664719), (3211, 0.3263203082658586), (2478, 0.3261309843733889), (659, 0.3261133730263719), (4024, 0.32611208436022737), (2225, 0.32594742375723496), (4025, 0.32582317871836375), (658, 0.3258208807199207), (1149, 0.3257740814592784), (4073, 0.32567307625790554), (1985, 0.32552721831209425), (188, 0.32546663097215284), (1640, 0.32545755818327776), (3280, 0.32536944904297976), (1811, 0.325358992261468), (3837, 0.3253585755051569), (4125, 0.325332877387451), (3094, 0.3253314636710061), (1827, 0.32492289488197296), (2453, 0.3249096608716296), (381, 0.3248660727561564), (1774, 0.32479661016589534), (163, 0.324747353819601), (3102, 0.3246218723569233), (2828, 0.32459630471344014), (1544, 0.3245748035940499), (607, 0.32450375233303874), (1786, 0.32443418437728727), (223, 0.32429150624159203), (4069, 0.32421377449661876), (1843, 0.3241691077625306), (2352, 0.32408948129586845), (2976, 0.3240513546941616), (3446, 0.3240277441700914), (598, 0.3238966320863321), (576, 0.32388394999858194), (2809, 0.3238673834028289), (610, 0.3238166563166055), (3001, 0.3238076514064371), (120, 0.3237317361689153), (2487, 0.3236951391007644), (853, 0.32362779711336737), (2354, 0.3236050575097885), (3250, 0.32350526524853146), (2368, 0.3233154969172947), (1065, 0.32331135179925685), (2338, 0.3232926069280965), (431, 0.3232815695550114), (578, 0.3231666236737153), (4052, 0.3230801995995801), (2616, 0.32307603315914657), (2300, 0.3230512132693701), (2062, 0.3230231795832677), (3673, 0.3229754235465611), (1192, 0.32293512967233856), (2150, 0.3228278006247665), (738, 0.3228159636546591), (2276, 0.322735335576587), (1250, 0.32258803723031104), (557, 0.3225299528805664), (937, 0.3225286487270302), (38, 0.32242617230354276), (2325, 0.3223900859485196), (870, 0.3223855867807449), (1437, 0.32236378593471116), (377, 0.32213515749984667), (2051, 0.32212328198267154), (2701, 0.3220583155528348), (2497, 0.3220350996103673), (575, 0.32198378186381915), (4121, 0.3218009349466271), (400, 0.3217179429616753), (2749, 0.3216433836539624), (4068, 0.3216269379916681), (1001, 0.32161608561430055), (950, 0.3215108931343091), (4723, 0.3214919535918449), (1620, 0.32149126070662015), (1061, 0.32144808089617416), (3654, 0.32142540702913613), (1995, 0.321286697910997), (363, 0.32125691456287864), (3677, 0.3212089228643886), (1968, 0.3211019085767597), (3318, 0.3209814588717134), (1013, 0.3208969987149033), (167, 0.3208730838854289), (1263, 0.3207052810927505), (3045, 0.32061326185071226), (3922, 0.32059078802190977), (214, 0.3205809725808799), (774, 0.3205736744018251), (991, 0.3204545525934043), (4278, 0.3202692431663844), (3292, 0.32014376411345136), (4560, 0.3200648153961924), (1957, 0.31996626185811206), (1261, 0.3199500147413855), (684, 0.3199283254353978), (4094, 0.3198361190437563), (2725, 0.3198020243101698), (3570, 0.3197403852494754), (87, 0.31968434803735846), (3901, 0.3195478292585085), (19, 0.31954322108920014), (2264, 0.3194552359458433), (2493, 0.319450642140591), (580, 0.3191734198235069), (2895, 0.31909468024541915), (2261, 0.31890049555718536), (1948, 0.3188339469857938), (3661, 0.31879131846418257), (1055, 0.3187162394223544), (2200, 0.31866417340599235), (3730, 0.3185063354907009), (3753, 0.31824886964218535), (790, 0.31819833222394656), (4700, 0.3179979307865302), (3232, 0.31791316711097223), (743, 0.317758295737659), (4494, 0.31773331835937973), (3853, 0.3176401804702311), (1785, 0.3175653570792786), (3355, 0.3175018257957231), (1567, 0.31719763638468024), (1794, 0.3171442722354514), (717, 0.3171394727477013), (770, 0.3170111555951211), (2206, 0.3169521391921735), (601, 0.31682892521866424), (515, 0.31682663834450775), (3326, 0.3167928533208142), (2683, 0.3167898166469175), (2059, 0.3167891547821568), (2865, 0.31678185591486163), (3181, 0.3167638254641819), (3651, 0.3166540229657224), (3052, 0.3164547392198747), (1814, 0.31635140400802675), (2012, 0.3163283831485219), (1058, 0.31631571135815795), (433, 0.31621692247969696), (4140, 0.3161450119335159), (2102, 0.316130146911763), (2823, 0.3161186163140264), (3939, 0.3159728320185786), (4004, 0.3156739396766053), (2165, 0.3155950726150623), (1807, 0.3155054123750298), (3919, 0.31546802051548356), (8, 0.3154455692979447), (1506, 0.3153718559045869), (2073, 0.31536976443735726), (3375, 0.3153472175049019), (1510, 0.315307672863184), (777, 0.3152708421140079), (553, 0.3151872759019806), (373, 0.3150905714831298), (1092, 0.3150611394111467), (3845, 0.31505149629762763), (2947, 0.31487478749463516), (3621, 0.3147008472628717), (1241, 0.31469552141068086), (638, 0.314546361683815), (3218, 0.31451204111179126), (71, 0.31447465011792747), (3710, 0.31432546374567566), (693, 0.31430191677207475), (775, 0.3141231382880369), (1660, 0.3140704976352418), (1291, 0.31392071084925016), (800, 0.3138675174455402), (195, 0.31384017282081456), (2785, 0.3137690173341788), (474, 0.3137170283157013), (295, 0.3136350107184491), (4667, 0.3135875327758653), (3606, 0.313465548412372), (2057, 0.31337336185652725), (975, 0.313279985690054), (973, 0.313256091140821), (349, 0.3131069333678922), (2520, 0.31300861039057526), (251, 0.31292016198582095), (3924, 0.3129011926138989), (4083, 0.31284972670255995), (3272, 0.3128004644586632), (2613, 0.3127896243956057), (2788, 0.3127284655837825), (3346, 0.3127233808540512), (2366, 0.31269282911109836), (4200, 0.31268102751138677), (1294, 0.31265251085403556), (3438, 0.3125326971156384), (4197, 0.3124526269823382), (2086, 0.3122484487022578), (479, 0.31190369921911804), (226, 0.3118181974397784), (396, 0.3117740874224172), (4456, 0.31172571298117646), (4731, 0.3116788466131644), (813, 0.3116464929804974), (3474, 0.3115837618412536), (1856, 0.3113489182908223), (1937, 0.3112511488876241), (1792, 0.3112379946364659), (1417, 0.3112138957140827), (2625, 0.31119555174220803), (2612, 0.3111374869681697), (4668, 0.31113097272067514), (791, 0.3111266470908972), (7, 0.31110647400391195), (1134, 0.31109486755600246), (4504, 0.310997099640202), (1783, 0.31078729178317105), (2861, 0.31075460083096945), (2729, 0.3107360605821069), (533, 0.3107067570731224), (2910, 0.3106824000701259), (1507, 0.3103982195562881), (3923, 0.3103836571290639), (1573, 0.3102719509405939), (4122, 0.3102123507092209), (4536, 0.3101794484965163), (2196, 0.3101751644887551), (497, 0.31014736629318473), (67, 0.3101268579111444), (4363, 0.31008893723717146), (4730, 0.3100336998141814), (2588, 0.3099791347899299), (2326, 0.3097370392995302), (4022, 0.30971334655844796), (1169, 0.3093056892747103), (1570, 0.3092677405521461), (1768, 0.30926697587901963), (1259, 0.3092618912938161), (3858, 0.3091923667663169), (1850, 0.30915927672557825), (114, 0.30913726133171426), (2790, 0.30912863192315276), (3407, 0.30907930926922716), (3053, 0.30900343520350604), (1269, 0.30898311208173723), (808, 0.30891059524496506), (754, 0.30886145411555854), (1537, 0.3088546895942204), (4529, 0.3088411284826996), (571, 0.3088316787268731), (1446, 0.3087948694756792), (4351, 0.3087883440932477), (606, 0.308616194967779), (1275, 0.30852739967818804), (2228, 0.308451123966354), (949, 0.3084084762735447), (2123, 0.3083886273223667), (1147, 0.30834105536379103), (2690, 0.308218608611346), (581, 0.3081471700956405), (3835, 0.3081312799644131), (2812, 0.30805347211997114), (395, 0.3080482234966167), (2820, 0.30785396141849974), (3141, 0.3078258067834504), (445, 0.30767219056097395), (370, 0.307656765883723), (2219, 0.3076300088842668), (584, 0.30755437353316994), (4626, 0.30746691346892235), (1333, 0.30742023471135305), (1410, 0.30739436450527724), (585, 0.3073714396874283), (285, 0.3073473648398793), (2672, 0.30717347808356615), (1042, 0.3071515439729785), (854, 0.3071088334655924), (1120, 0.3070328784035994), (2893, 0.30700978343911706), (2564, 0.30676784490723613), (1983, 0.30667084820466756), (325, 0.3066606167215352), (2287, 0.30638253824106415), (1053, 0.30633749109426206), (2728, 0.30631036852550914), (201, 0.3061587061746614), (345, 0.3060334192985685), (550, 0.30599864362463597), (4659, 0.3059345007328862), (3343, 0.30582288124873647), (882, 0.30579520586482095), (1321, 0.30576823238885664), (3081, 0.3055989135542984), (2929, 0.3054488471606851), (385, 0.30543959097996937), (3655, 0.3053354710888504), (1618, 0.30529326216518243), (3294, 0.3051466125288294), (1490, 0.3049348879349653), (1894, 0.30487986092107905), (1452, 0.3048236856976084), (69, 0.30481528529879504), (289, 0.3046303957300944), (4552, 0.3046296309288437), (2757, 0.30458905843546225), (3200, 0.3045223618937895), (1206, 0.3044163315381637), (735, 0.30434445237852753), (1451, 0.3042632343743911), (1887, 0.30422377903005576), (3980, 0.3041982152889459), (2216, 0.3041505309153475), (440, 0.30412514125741463), (202, 0.30393817920868466), (3808, 0.30393244009228626), (2888, 0.30390936690355297), (3461, 0.30370912246289206), (2090, 0.3036919015052487), (1209, 0.30361252546433154), (1568, 0.3035848085525591), (477, 0.3035221933442815), (3254, 0.3034444887224565), (80, 0.3034113130084479), (918, 0.30307237694791017), (1615, 0.30304547021385797), (454, 0.3029827887690415), (3178, 0.30285233764684766), (2597, 0.3027672110665159), (2543, 0.3027560041978727), (1421, 0.3027338033342904), (99, 0.3027221705030676), (224, 0.30268169599134825), (2170, 0.3025470999934049), (1499, 0.30243565465536915), (1793, 0.3022914655952621), (1117, 0.30227991542266436), (3780, 0.30218548121179095), (117, 0.30204731420580705), (3832, 0.30195538350017304), (616, 0.3019395013969185), (113, 0.3018115821117133), (2452, 0.3015338073658494), (4266, 0.30135438835801726), (966, 0.30127725567329294), (3736, 0.30122394751598813), (2611, 0.30111291438447224), (355, 0.3011051410385092), (692, 0.301080677560766), (3334, 0.30104908282507153), (1303, 0.3010159158904498), (1166, 0.30101008003715074), (649, 0.30092977963196776), (4608, 0.30092929115037326), (2006, 0.30090737526983646), (64, 0.30075634707562804), (3978, 0.30057102540785346), (1255, 0.30046210565516296), (1257, 0.3003458494743737), (158, 0.3003333362320488), (3145, 0.30020724128183995), (473, 0.30013327122305455), (3357, 0.3000942696482998), (4054, 0.3000710739057917), (3443, 0.3000071903412092), (3807, 0.29999652009117117), (4501, 0.2999678007288332), (2631, 0.29989353483468706), (2114, 0.29977692961794233), (374, 0.2997674236516048), (3395, 0.29956035321130703), (3540, 0.29949296784861856), (2124, 0.29936000816957437), (2922, 0.2990172444401156), (1319, 0.2987499881532598), (1253, 0.29867537178224624), (2529, 0.2986708190309486), (1281, 0.29866758111282504), (913, 0.29850757521395554), (861, 0.29849728466466585), (2978, 0.2984822099619038), (796, 0.2984146320140424), (1113, 0.29841063614808755), (2009, 0.29840491768430755), (3779, 0.29837469565325464), (2038, 0.2983695111631933), (1297, 0.29824800470090446), (1857, 0.2981697163542255), (359, 0.2981154747084293), (3393, 0.29802884375527317), (1383, 0.29799777298621327), (1220, 0.29791341821977496), (3377, 0.29759354828118767), (1244, 0.2974681621287375), (3733, 0.29745740116490293), (812, 0.29744561200297137), (2852, 0.2974080325224207), (1763, 0.29732988415894385), (2759, 0.29732057780738064), (2301, 0.2972810530822213), (1913, 0.2970869438046955), (545, 0.2970782674730392), (4157, 0.2969996873978863), (645, 0.2968475825508063), (3031, 0.2967311524953946), (442, 0.29665079140548656), (1760, 0.29663864420427577), (2730, 0.29653647566014346), (564, 0.29647360378940457), (1016, 0.2964696867036403), (1558, 0.29635994571484425), (3722, 0.2963354920980236), (3791, 0.29622178768706936), (1039, 0.2960981209972766), (1712, 0.29608732455954556), (600, 0.2960856357601134), (1654, 0.29607928542889966), (632, 0.29607564849549695), (3976, 0.2960689965676738), (1834, 0.2960430208892403), (1849, 0.2960164650057336), (1917, 0.295957550317051), (3494, 0.2958965901392327), (543, 0.2958263601416287), (1123, 0.29569792194304056), (455, 0.29567563381710726), (3228, 0.2955585960932869), (2675, 0.2953800997067125), (1713, 0.2952132988692051), (546, 0.2951739397669844), (2653, 0.29514589871538666), (336, 0.29500347306505303), (3843, 0.2949990561261033), (2185, 0.29492940805845574), (640, 0.2948915555639981), (1168, 0.29486454283126), (1320, 0.2948238495768944), (968, 0.2946870554691915), (995, 0.294665479433557), (2677, 0.29462427096853483), (1087, 0.2946234539454792), (2054, 0.29461685654683933), (4357, 0.2945073612352658), (2285, 0.2944976159462307), (32, 0.2944648087174973), (4648, 0.29445225575370015), (1032, 0.2944217784204176), (1733, 0.2944090750490747), (1725, 0.294081551885401), (2293, 0.2940196575152522), (482, 0.2940149358772591), (2991, 0.2939853970797247), (2283, 0.293772852652563), (2753, 0.29376249334828974), (2239, 0.29372192847794765), (3390, 0.2936804113292789), (284, 0.2936573993601199), (927, 0.29354313425271705), (212, 0.2934911368634386), (3527, 0.29332628897124585), (1316, 0.29327666785845324), (3415, 0.2931245916592505), (1015, 0.2930140852378111), (983, 0.2929647685981064), (2756, 0.29293402307134225), (3127, 0.29278049758392344), (4398, 0.2925516525651289), (3155, 0.29238049235011876), (3426, 0.2922784812606852), (122, 0.29224350246141456), (948, 0.29219968984273603), (1201, 0.29218264410190853), (139, 0.2920381459272882), (1885, 0.29197658490215606), (1536, 0.2918284726796121), (824, 0.2918267306678662), (3317, 0.29180108694655144), (1624, 0.2917874655959886), (3440, 0.29161218781999076), (2211, 0.2916030386856009), (1994, 0.29158836574328123), (2151, 0.291466123798468), (969, 0.2913791269144912), (1545, 0.29129077771345513), (1000, 0.291198145076512), (2004, 0.29119412161781305), (525, 0.2911442777125084), (781, 0.2911245556731308), (194, 0.29099796713287274), (2680, 0.2909768949066453), (760, 0.2907103194620817), (159, 0.29070168172291894), (1361, 0.29062969162754576), (4609, 0.290560926865803), (2437, 0.29053827750963496), (3495, 0.2905071508544992), (1219, 0.29037993230937137), (3906, 0.29037665864222173), (1655, 0.29036480749150184), (428, 0.29033175554605795), (3893, 0.2903256041179497), (3613, 0.2902149588063446), (3877, 0.29017644299149975), (4265, 0.2900538687134804), (1235, 0.2900468150501369), (1441, 0.2900169668664484), (2598, 0.28979916000807193), (3880, 0.2896590895165732), (2222, 0.28964459461237996), (964, 0.28964327682543767), (2927, 0.28958559946193), (1547, 0.28929566981008087), (3093, 0.28921634108043176), (1731, 0.28916978017941286), (3340, 0.28902195428473937), (2958, 0.28895563106137623), (3768, 0.2888317876643941), (2173, 0.2887429271994985), (4745, 0.2887348403993376), (1227, 0.288595154930688), (3220, 0.2885382342839905), (814, 0.2882146778001854), (1686, 0.2881776272877475), (2402, 0.2881050965087455), (2313, 0.28808411893538755), (4174, 0.288027618007025), (1503, 0.2879127592599689), (2246, 0.2879058212702744), (787, 0.2876874427953726), (3413, 0.28766543699295316), (2096, 0.28746592550806443), (82, 0.2874209918569472), (605, 0.2874066590207134), (1508, 0.2873772412489963), (403, 0.2872852147617713), (4132, 0.2872334653595824), (3210, 0.2871619202828348), (3223, 0.28713678242458257), (4164, 0.28706459644413906), (4489, 0.28706101188228084), (2955, 0.2868769488822661), (3583, 0.28665690858488785), (3682, 0.28661308257304785), (2599, 0.2860540420818698), (4342, 0.28604020615986336), (2811, 0.285905306568898), (29, 0.2858264264274816), (2969, 0.2857914046642804), (393, 0.2856750282408508), (3964, 0.2855909353540598), (2029, 0.28533905569224577), (1242, 0.2852392912832061), (508, 0.28520944924892777), (4514, 0.285074161145853), (2906, 0.2850632405411056), (1336, 0.2848605998633782), (539, 0.28485008566652203), (3216, 0.2848399359634544), (953, 0.2847350065277153), (1784, 0.28469708546367417), (2072, 0.2846038126649873), (3631, 0.28442995834567475), (905, 0.2843946642996337), (4515, 0.2843064596763811), (2834, 0.2842856945925333), (4205, 0.2842099185453227), (3064, 0.2841770891831761), (3839, 0.28414588506443605), (4464, 0.28408143002844316), (970, 0.28404739562383613), (3857, 0.284004251640926), (3246, 0.2839909316241101), (2499, 0.28384164713758747), (2533, 0.2837905395143212), (627, 0.2837843250880367), (1425, 0.2837598311589755), (608, 0.28372307840088135), (1440, 0.2836264958904118), (495, 0.2835788445005212), (1308, 0.28355493583254976), (457, 0.28352568728106264), (2055, 0.2835138427797043), (2157, 0.2834981045207805), (3921, 0.28344978445544244), (42, 0.28341143176319117), (2715, 0.28339291023478835), (2036, 0.28338752793950495), (3105, 0.28334852548583717), (2101, 0.28315753377570557), (4303, 0.2830987952977536), (4084, 0.2830487820628198), (1108, 0.2830205308900599), (149, 0.28277605538031925), (3402, 0.28272747898108663), (3842, 0.2826272915006384), (3171, 0.28256180508293105), (4429, 0.2825090780035671), (197, 0.28248002367851666), (3934, 0.28246811589360216), (1431, 0.2823040138807247), (3665, 0.28215703937578546), (2121, 0.2821194920650805), (2134, 0.2820777113840418), (2538, 0.2819278209725422), (1631, 0.2816305242573885), (1687, 0.28143911153085527), (1371, 0.2813910236674135), (1684, 0.2811150054770181), (1264, 0.28110371235724774), (1468, 0.28107665706623686), (1817, 0.2809304885389915), (4528, 0.2808061427387083), (1895, 0.28075522517277046), (1389, 0.28069267260348174), (742, 0.2804513505799579), (4269, 0.28040410573033353), (1588, 0.28037870597604936), (3238, 0.28028226095478737), (1025, 0.28028085592116503), (4215, 0.2802361617294394), (2794, 0.28019138657840226), (383, 0.2801852654663299), (3487, 0.2801000164669832), (3188, 0.28008892397734364), (1501, 0.2800839512403258), (2318, 0.2800607635212021), (108, 0.27996230754891177), (903, 0.2797920815833154), (3707, 0.27978600634539985), (1193, 0.27973679373189425), (1868, 0.2796929487943369), (3425, 0.2795488469661858), (1777, 0.2795309035310251), (624, 0.2794722477372509), (2194, 0.27930393798895187), (4078, 0.27926474879194096), (3539, 0.2792430921267753), (934, 0.2791912419166173), (1916, 0.27908994784184704), (3477, 0.27892760542147116), (1224, 0.27889010449773816), (3817, 0.27879024465217916), (1574, 0.2787675459778681), (1592, 0.27857226024606396), (1562, 0.27852783921236407), (1675, 0.2784781961790858), (1893, 0.27846339869776665), (3946, 0.2784620799341844), (889, 0.27839148725136376), (3966, 0.2783419334936522), (3841, 0.2782847881933297), (3098, 0.27825324140943214), (1151, 0.27802834427559714), (3156, 0.2779472943514519), (1344, 0.27782940298761255), (1653, 0.2778086637113202), (2081, 0.2774483863655509), (1040, 0.2773177278531931), (2033, 0.27729811833943185), (2126, 0.2770631728629526), (1908, 0.27695168159947237), (783, 0.2767979730070343), (3958, 0.27677601727294), (2907, 0.2767715864258618), (1372, 0.27674205254525497), (1756, 0.2767108242858869), (1245, 0.27662331769286197), (2562, 0.2763603164960909), (1582, 0.27633484987346035), (981, 0.2762136278783345), (198, 0.27614988768608795), (4402, 0.2759175590716386), (3574, 0.2758930913691076), (2534, 0.2758386179765974), (3920, 0.2756847428194477), (1577, 0.2755833070240668), (3847, 0.2755500560951674), (2688, 0.27533912150120304), (294, 0.275288600349341), (4056, 0.275221667450772), (1986, 0.2751653761805756), (609, 0.2750643240203335), (388, 0.2750025776787907), (3068, 0.2748743582344821), (2037, 0.27469086132661485), (1317, 0.2746311950934028), (3581, 0.2745163009542968), (939, 0.2744647187080591), (924, 0.2744133321889491), (4207, 0.2743786333358611), (1232, 0.2742607742125247), (4247, 0.2737210246507585), (1254, 0.2736894910685208), (4589, 0.2735482150176351), (147, 0.2735405186624215), (702, 0.2734385562670902), (98, 0.27340200017846494), (2703, 0.27333061797681046), (155, 0.27327171073405115), (1098, 0.2731838637234017), (79, 0.2731627755380649), (2485, 0.27312308289350806), (432, 0.27303004075795817), (1416, 0.273004246555492), (3018, 0.27298181650350956), (3790, 0.27294986291544593), (569, 0.2729378915477402), (2545, 0.2725437359431726), (4420, 0.2723429367507826), (1075, 0.27210434010774015), (2602, 0.2720306846914494), (3119, 0.2719926636717385), (807, 0.2718907169934034), (1695, 0.27182709279329353), (1200, 0.2715833423097326), (866, 0.2714423313151826), (3366, 0.27112496270738445), (3818, 0.27089545512289703), (134, 0.27069775200932905), (1231, 0.2702582274849114), (3833, 0.27020473015384333), (2085, 0.2701671219503945), (642, 0.26999729048917337), (2439, 0.26978150635127773), (1683, 0.2695488226398866), (3195, 0.26950132824397544), (3584, 0.2694553207093542), (1373, 0.26923675435263034), (199, 0.2690288186465932), (309, 0.268973193124419), (911, 0.2689589429304639), (1932, 0.26882922223056527), (3813, 0.26859440100392296), (3871, 0.2685845870369166), (2251, 0.26848948714382814), (3026, 0.268437970708159), (2527, 0.26837310356560146), (3826, 0.2683634529228067), (2451, 0.26835147559158024), (2158, 0.268300215762967), (1938, 0.2682985189379297), (1034, 0.2682779416327129), (4263, 0.26820952305741735), (49, 0.2681678597496464), (4270, 0.26815950516994624), (3998, 0.2681488493702764), (1929, 0.26808889938105807), (1033, 0.2680296780820648), (3481, 0.26792195821709963), (2720, 0.26790137565203465), (1828, 0.2678755625008891), (1790, 0.2677209509740638), (2050, 0.2671603331275183), (2595, 0.2670718809538978), (2087, 0.2669077975615872), (1488, 0.26687784798934144), (2003, 0.2668559873069645), (3925, 0.26679677937903423), (4725, 0.266763894601397), (1853, 0.2667584190549525), (3985, 0.2667452600601149), (2005, 0.2667355775414081), (2230, 0.2667250387550526), (33, 0.26665631234833126), (1077, 0.2666244072096262), (3895, 0.26659331214978343), (1842, 0.26656782346716), (2192, 0.26651321031311737), (2093, 0.26645122098471963), (1409, 0.2664411691409187), (2094, 0.2663598432544011), (901, 0.2663516629459369), (3236, 0.26597087721773477), (461, 0.2659225263701727), (63, 0.2656862987034455), (1102, 0.2656414755287827), (3685, 0.26554563897771316), (2979, 0.2654234150846406), (1612, 0.26528749792602535), (4101, 0.2651831939592558), (3759, 0.26501735386400993), (4021, 0.2649789913192918), (1205, 0.2649330423528528), (3106, 0.264856772632976), (3005, 0.2647779512387364), (3557, 0.2647029889295146), (287, 0.2646031669037449), (2660, 0.2645488305322924), (3008, 0.2645414465540695), (11, 0.26434435988612087), (1575, 0.2641612334177502), (1478, 0.264156384924328), (764, 0.2639422416217394), (2278, 0.2638963805958706), (996, 0.2638899827142788), (2953, 0.2638590990088886), (1419, 0.26385886270505704), (1956, 0.2637680384393665), (784, 0.2637512270275617), (1384, 0.26370188920414833), (967, 0.26354486068645044), (4047, 0.26352157105584934), (2761, 0.2634116664564714), (785, 0.2633959887641397), (192, 0.26329000421804943), (1363, 0.2631570845604756), (4696, 0.26314021745765187), (4165, 0.26313454938859143), (3812, 0.26307699218130937), (871, 0.2630727311417983), (1376, 0.263055453812955), (3234, 0.26303528527810055), (881, 0.26291955466336836), (4586, 0.26283263013375296), (296, 0.2624728780222512), (1197, 0.2623955320739703), (1623, 0.26225353530344847), (3794, 0.26220093314874027), (1163, 0.26199156619895614), (3304, 0.26189445473166895), (3942, 0.26186156044694475), (1099, 0.261525403308457), (3772, 0.2614188160599809), (1343, 0.261336513243125), (2424, 0.2611903611683427), (1309, 0.2611075413989566), (1390, 0.2611005594814677), (1256, 0.26099916155280606), (4572, 0.260837404371621), (78, 0.26074610451358987), (138, 0.26073588534589687), (1679, 0.2606029238321175), (4490, 0.26058193269913743), (4097, 0.2605371134457283), (1709, 0.2603879118394886), (703, 0.2603473674430142), (719, 0.26030730195712326), (2964, 0.26026355020714487), (3789, 0.2602470366778576), (3534, 0.2602142161376068), (3984, 0.26020893606855217), (1757, 0.2602023968712101), (1479, 0.2601463830600205), (1847, 0.2601325617605528), (2021, 0.2598186311386741), (4349, 0.25964773582356376), (2521, 0.25928873762323834), (3816, 0.25901794596302546), (2539, 0.25896105832097305), (4219, 0.2588779423321323), (4491, 0.25886114932282484), (1064, 0.25881828965068265), (146, 0.2587778372710532), (761, 0.25867495802872625), (4040, 0.25851590484464837), (236, 0.25846193025479586), (4066, 0.2583576867840601), (3330, 0.25831425750658776), (1367, 0.25824109092472175), (1736, 0.25816245234358826), (2624, 0.2581601090164888), (1586, 0.2579309254120927), (4396, 0.2578614578227817), (1017, 0.2578207307972973), (1889, 0.257784283797636), (4246, 0.2576249332709378), (4403, 0.25762125887778914), (2274, 0.2576203138642297), (4732, 0.2575352371691476), (337, 0.25734686889850356), (1735, 0.2573290394435089), (2472, 0.25724873980298746), (1407, 0.2572059583837457), (4457, 0.25717395188648695), (1708, 0.2571451339050582), (672, 0.25708206948885765), (2872, 0.2570610947235338), (1595, 0.25704077632045963), (3227, 0.25687235782242573), (1583, 0.25683997046170426), (4415, 0.25683387678566305), (4020, 0.25658912952840807), (2143, 0.2565065159136063), (779, 0.25648732164835253), (2020, 0.25641872633889673), (2187, 0.25638175098821664), (106, 0.256342407172656), (1248, 0.2561998756155139), (1798, 0.2561725757845141), (972, 0.25614245229406907), (2167, 0.2560865384744164), (3719, 0.2560282915787273), (1435, 0.25590302011180505), (1966, 0.2557177380416204), (4128, 0.25566110852741036), (840, 0.2554543818804924), (1933, 0.25537442411167116), (1818, 0.2553330140944161), (2024, 0.25529216641883795), (4371, 0.2552366601334552), (2825, 0.2552052746494995), (1392, 0.25512333424281963), (2099, 0.25510214103913154), (1844, 0.2550802227726181), (1902, 0.25496568387651475), (4518, 0.2548675419277492), (1447, 0.2548556971092764), (709, 0.25484459441010826), (1942, 0.2548303292437989), (922, 0.25471231528707505), (3861, 0.254701224406007), (4212, 0.25468694585600404), (4616, 0.25458093660013975), (1302, 0.25451099809656386), (3580, 0.2543806460175385), (1613, 0.2543649225736467), (776, 0.2540899120647289), (3221, 0.2540125951297187), (2159, 0.2539934460541874), (4071, 0.2538273044962092), (3190, 0.25381716884879785), (1370, 0.2536946077901431), (4617, 0.25364010268619336), (4556, 0.2536201193569849), (1645, 0.2535766106871694), (1578, 0.2535113360662459), (1420, 0.2534443170276632), (3905, 0.25342504624989226), (1878, 0.2533182289049138), (140, 0.25324647396635935), (4160, 0.2531582628157639), (4694, 0.2531560842988668), (356, 0.25290314125185387), (2142, 0.2529027976226639), (2797, 0.25265810893145446), (2164, 0.2526144765110335), (2160, 0.2520407732207701), (3022, 0.2518791466154975), (4551, 0.25177541575828244), (364, 0.25172302140956127), (2771, 0.25166254955984374), (319, 0.25133015037735357), (2135, 0.25131333297415825), (216, 0.25120766081605617), (1482, 0.2511453797142041), (896, 0.2508249945308387), (2867, 0.2507306587053758), (324, 0.2506901645042092), (3626, 0.25065528239122975), (2854, 0.250632971202145), (1930, 0.25056486385412324), (1326, 0.25046705311169054), (3411, 0.25030152676963513), (3437, 0.2502877014470082), (2553, 0.2502593459102678), (2414, 0.2502394710997498), (1724, 0.25016362637597545), (1627, 0.24991208670721737), (1401, 0.24986634572401767), (2917, 0.24978298555831768), (3864, 0.24957795726299353), (3401, 0.24957739007955437), (2075, 0.24957169726923764), (1732, 0.2495078079077813), (2696, 0.24939474419430624), (2217, 0.2493546438713145), (2066, 0.24902516697252433), (1862, 0.24901854907905968), (2549, 0.2489408219397748), (3015, 0.24878972213351463), (3806, 0.24877961806149082), (1428, 0.2487409625305197), (595, 0.24862375977078466), (1133, 0.24856925948896488), (3948, 0.24853992450599866), (1590, 0.24843007083855284), (3421, 0.24837508293645968), (577, 0.24835717685072067), (270, 0.24833836358168163), (1405, 0.24832507201667897), (1837, 0.24828925106074018), (1079, 0.248236278112451), (4337, 0.24819364686397236), (2002, 0.24805907666479143), (2056, 0.24804757693567397), (2952, 0.24804414184379034), (4115, 0.24783756522537084), (3065, 0.24770319829103699), (2575, 0.24760968534017885), (1157, 0.24744237191611237), (1949, 0.24742371626341045), (2881, 0.24711981617325324), (660, 0.24709872073014086), (3431, 0.24709476026693816), (4008, 0.2469634829850071), (1984, 0.2468892549956972), (886, 0.24679968477598477), (520, 0.246661716965208), (2973, 0.24663314586623325), (2000, 0.24645302149916715), (2422, 0.246400298503403), (1750, 0.24624368040263891), (1851, 0.24616040411438114), (1035, 0.2459467026872095), (1576, 0.24594480428976812), (2155, 0.2458480825305339), (2743, 0.24574654977899862), (1084, 0.24562689984830102), (1975, 0.24560186232200254), (2240, 0.24559948173771406), (3229, 0.24543123551597223), (1051, 0.2454162086557452), (1485, 0.24537323633128705), (745, 0.24534176280005987), (1914, 0.24526608648279166), (3287, 0.24517737598122666), (4029, 0.24505824245873353), (173, 0.245055808498238), (1109, 0.2449898672674526), (1941, 0.24491287684116964), (3991, 0.2448825638498817), (711, 0.24456567558653264), (914, 0.2443651899308467), (2166, 0.24432148817082264), (478, 0.24419455637853385), (2559, 0.2441327914925096), (780, 0.24380908150750716), (863, 0.24378058224595106), (3392, 0.24342356474948076), (421, 0.24341812178639322), (2938, 0.24341710465531702), (1212, 0.2432664336801123), (1448, 0.2432258182881305), (1161, 0.24322514345035276), (2145, 0.24313284290553067), (2147, 0.24310534303612624), (2584, 0.24306289366458184), (697, 0.24296339149283114), (471, 0.242864043011756), (1926, 0.24281498584776062), (666, 0.24278259055226906), (3608, 0.24256222233776834), (831, 0.24244810649220022), (1801, 0.24242019403272824), (931, 0.24233590916166872), (1369, 0.24230684235316002), (2899, 0.2422119589919402), (1619, 0.24215196655987636), (2608, 0.24213873575803974), (1386, 0.24201502069035502), (2515, 0.24178977883613473), (2939, 0.24173665213975587), (4291, 0.2416555764236387), (2971, 0.2415886847902364), (2915, 0.24144117726122322), (936, 0.2413286593428927), (2473, 0.241281401014156), (2962, 0.24113498695982732), (2014, 0.2410086502903394), (1450, 0.24096713207417053), (2841, 0.24089722243325418), (888, 0.240717574873895), (1644, 0.2406592221890538), (838, 0.2404370301372579), (1836, 0.2404239753056967), (2065, 0.24041240945877745), (1585, 0.24018610661117504), (1650, 0.24009882237086577), (1230, 0.23971451932990784), (951, 0.23970567561257827), (2532, 0.23952454284854302), (2154, 0.2393259547648894), (1780, 0.2392723193984825), (4604, 0.23915856544379147), (3912, 0.2389637165422388), (3281, 0.23881798448791725), (3625, 0.23873032054254706), (434, 0.23858163847681738), (2353, 0.23825827124314278), (3252, 0.2381342574785949), (1980, 0.23797085749577723), (723, 0.2379408563081566), (2263, 0.237859867827522), (1884, 0.2375754781443653), (2060, 0.2375639317832904), (2372, 0.23753109225698874), (1858, 0.23749619596676017), (510, 0.2373635521384058), (2977, 0.23730704603982047), (1909, 0.23717727778806785), (4427, 0.23717602320910208), (2010, 0.23716691161644457), (943, 0.2371232175111516), (4209, 0.23705567663816038), (4358, 0.23705019095168925), (3971, 0.2369904436637852), (1990, 0.23698452832775319), (1299, 0.2369404308950711), (1892, 0.23688507539813564), (1397, 0.2368428607655983), (2926, 0.23676260909787952), (4733, 0.23668879960922162), (1085, 0.23649551724691623), (1159, 0.23649166900483193), (4367, 0.23648557563005207), (358, 0.2363581174294653), (561, 0.23626534159633922), (940, 0.23600149739481013), (2503, 0.23591473558736661), (1408, 0.2358556324468438), (3170, 0.23583181732795286), (2637, 0.23578618204500174), (3634, 0.23571970356610467), (1156, 0.235527983761595), (2118, 0.23534701285212928), (1130, 0.2351978301405065), (1115, 0.23518746028935333), (3328, 0.2349868361942525), (1385, 0.2349434838827975), (1918, 0.2347977256611687), (2982, 0.23475843039869765), (1670, 0.23473594736436776), (4380, 0.2346803517485565), (4463, 0.23462176281539815), (1442, 0.23441506955547634), (1214, 0.23412141816386067), (115, 0.2340560373730828), (1752, 0.23393941842531638), (1907, 0.23391740748069154), (4636, 0.23384173086852472), (1268, 0.2338227869398483), (4672, 0.23364513495630893), (2972, 0.23364359907408228), (1572, 0.23356886693515883), (4394, 0.23315183681721352), (1898, 0.23314169216678848), (4497, 0.23312267094314953), (3146, 0.23286074642127422), (3071, 0.23281797217941913), (740, 0.23280408642036843), (200, 0.23230152421421252), (2746, 0.23229748926460625), (1963, 0.23217027747686284), (2138, 0.23210958999050252), (1996, 0.23208726158078669), (3930, 0.23203923940540594), (1293, 0.2320154055111572), (4740, 0.231934467411052), (1648, 0.23188389413677646), (3322, 0.23175847130353955), (1875, 0.2316967720437281), (1252, 0.23163069079192067), (2028, 0.2315400853895197), (1848, 0.23149319137659954), (1676, 0.23133371578340414), (2097, 0.23118968328595185), (4307, 0.23116657310529207), (1819, 0.2306859606276877), (2795, 0.2305899645120679), (1671, 0.23057023883689567), (4167, 0.23054618602137308), (704, 0.23030247970900447), (2671, 0.23027130906779292), (2068, 0.23022090471133605), (2221, 0.23012853903285163), (1453, 0.2299095472463375), (501, 0.22982492619459507), (1030, 0.22972080721712718), (1338, 0.2296833236740016), (4169, 0.22963729156383153), (4601, 0.2294162537395914), (2583, 0.2293945717012718), (644, 0.22937242942221947), (2406, 0.22915528622731213), (153, 0.22875767275235712), (1959, 0.22859558575000533), (1657, 0.22843822727757757), (1350, 0.22842823253493966), (1945, 0.22842235299719213), (1237, 0.22813893926689277), (2262, 0.22813091637940106), (2046, 0.22810945998581977), (3380, 0.22793874912204726), (3617, 0.22792249879398968), (1185, 0.2276679259109292), (2432, 0.22759577418018212), (2333, 0.22740543212931064), (1090, 0.22729561306864207), (3268, 0.22715345981717958), (3215, 0.2270997150316265), (1418, 0.22683299417935338), (3331, 0.22677865845838152), (1589, 0.22673058062729992), (2306, 0.2265544973964535), (865, 0.22652184558774868), (1630, 0.22650916316838623), (4594, 0.22638379801900682), (897, 0.22612837853522808), (2519, 0.22602062818536875), (3648, 0.2258889135846883), (437, 0.2258258373777537), (3629, 0.22580373869480264), (1304, 0.22579915124756414), (1533, 0.22576747951929174), (978, 0.2256792961792648), (1879, 0.2252099946591197), (4418, 0.22507730617232263), (555, 0.22492661252318769), (2139, 0.22482143193735218), (1816, 0.22480184031671552), (1830, 0.2245773091272233), (1707, 0.224560662136131), (1288, 0.22450227538828266), (2049, 0.22441463713395382), (2275, 0.22439839589420907), (4301, 0.22439141554736028), (1682, 0.2243472135858235), (96, 0.2241583650206965), (641, 0.22390078985921147), (4108, 0.22388750310706373), (2077, 0.22365809632764158), (1314, 0.22364118393807092), (1915, 0.22361065104402578), (2113, 0.22341538691400098), (498, 0.22332284785093676), (1430, 0.22331729228875205), (1688, 0.2232862084053765), (86, 0.22319817761762054), (2871, 0.22276286628483144), (1692, 0.22275625710067193), (1038, 0.2227399786311385), (210, 0.222710081039063), (2818, 0.2226980486939349), (441, 0.22265963464104682), (4386, 0.22260801330849406), (4176, 0.2224953330836852), (3120, 0.22247835537149682), (1639, 0.22242361659785376), (4031, 0.22240234981835996), (3553, 0.222210111406197), (3038, 0.22213381690600298), (1359, 0.2220772648037945), (1330, 0.22191345660825845), (2768, 0.22173939725591385), (3935, 0.221584547772408), (3950, 0.2215542317283653), (1247, 0.22145800927522527), (2064, 0.22141923072003722), (1943, 0.22112275545981597), (2517, 0.22112213011427567), (4087, 0.2210458721649763), (4699, 0.22099306747959627), (1658, 0.22098248967759634), (1891, 0.22090752875281416), (789, 0.22089025235710164), (3890, 0.22066934393842286), (3076, 0.22061389864849212), (1394, 0.2206008803441532), (4548, 0.2204932293375313), (3173, 0.22013350138402818), (1136, 0.2201094237767788), (4243, 0.22006132833128136), (1958, 0.22003650350065135), (2656, 0.2199474818281295), (2008, 0.21974520541675838), (2489, 0.2195630345808307), (3500, 0.21939758673059823), (4645, 0.21939670193697502), (1981, 0.2193324481366591), (1036, 0.2193047882137108), (2152, 0.21919223604400856), (1290, 0.2191835847757256), (3149, 0.21907759406535743), (4173, 0.21867564263726155), (1286, 0.21831003667058432), (2080, 0.2181870594219948), (2076, 0.21816745959519487), (2685, 0.21809356490728257), (1422, 0.2179309680018918), (1285, 0.21789007646340688), (1444, 0.21760595518083517), (1366, 0.21760116077145672), (1095, 0.21755840649726138), (3332, 0.2174640289744028), (2706, 0.21743032718892252), (3274, 0.2173209806923577), (1150, 0.21725506514808043), (3757, 0.21720736177846528), (1673, 0.21710580152837722), (3135, 0.21704202780770657), (3652, 0.21683881591172596), (4520, 0.21658856429246934), (2305, 0.21658645329367893), (2858, 0.21632118845836784), (1204, 0.21589518965450752), (1812, 0.21586161715390517), (1223, 0.21583807515949852), (2071, 0.21579999445539705), (1208, 0.21576761636516384), (3973, 0.21552687610949206), (4393, 0.2150127357392163), (2995, 0.21500288859674618), (3023, 0.21493729826406507), (1920, 0.2148164480553827), (2568, 0.21476357501609186), (1935, 0.2145541030566627), (4397, 0.21407325095325658), (531, 0.21404352420935036), (3825, 0.2139110069241814), (2253, 0.21378448403649003), (1276, 0.21336768892070887), (1947, 0.2129603795598729), (691, 0.2126690268656002), (2630, 0.2126219608859135), (2500, 0.21259683868675514), (1967, 0.21250702781273442), (2760, 0.21249414867346808), (2115, 0.21239564112746412), (1182, 0.2122875705740249), (1301, 0.21225288528275352), (2238, 0.21214093782658136), (4475, 0.21213996841714897), (3562, 0.212133123975075), (1278, 0.21199952191221783), (1704, 0.21196016857134364), (2486, 0.21186966209848662), (3874, 0.21184414689939823), (3667, 0.21184332369911246), (1677, 0.21181684732897707), (2387, 0.21175776291529103), (3386, 0.21175293188776032), (741, 0.21162164362635535), (4302, 0.21154857171228986), (2847, 0.21151180041985707), (4628, 0.21136321431554256), (3273, 0.21134625162785792), (2862, 0.211264156231278), (2859, 0.21108417462726636), (1187, 0.21101268285452474), (3513, 0.21082044268841327), (2047, 0.21078161525809513), (766, 0.21074685670543108), (3729, 0.2107030387084063), (3836, 0.209738929363037), (4114, 0.20940669521190236), (4512, 0.20938883403515035), (2321, 0.20923508934860538), (3849, 0.2092346705696237), (1144, 0.2090008869613053), (4014, 0.20896834173270357), (1199, 0.20884076156603962), (326, 0.2088018726390907), (4127, 0.20867928162434696), (2030, 0.20859957524212666), (1300, 0.20855963762901705), (1808, 0.20850806726164095), (1635, 0.20818686013997134), (1845, 0.20803915506402088), (4746, 0.20795285453217), (2048, 0.20788627212236324), (3359, 0.2077675992594006), (4355, 0.20770241357158775), (2634, 0.2075881139391899), (1625, 0.20757887436498582), (1689, 0.2075325671136959), (2044, 0.20726292467979487), (2589, 0.2071035967193374), (4550, 0.20694125674864638), (1171, 0.2067786003444413), (832, 0.20640723115454038), (3748, 0.20637116407602762), (2141, 0.20635692880279574), (1764, 0.20630024903932503), (1826, 0.20625498014841173), (4359, 0.20607271583458678), (1953, 0.20602299302117383), (1822, 0.2057847246063073), (4151, 0.20573601068850308), (1971, 0.20559489133082637), (2391, 0.20533535604101089), (3482, 0.20492189318224963), (2119, 0.20482246325610762), (1470, 0.20467213547860252), (3347, 0.20461839799293297), (3511, 0.20460106025175406), (1805, 0.2044706461192574), (3882, 0.2043719546563274), (4254, 0.2043700611457506), (2074, 0.20417124092795594), (3699, 0.20405484969291443), (1833, 0.2038918531193687), (3600, 0.2038107943751854), (3349, 0.2037014162597739), (874, 0.20358600483475706), (4356, 0.20340036432578856), (2443, 0.20314663686118187), (1746, 0.20313744483388083), (453, 0.2025677890984288), (1666, 0.20248797727383838), (947, 0.20225069813696195), (1797, 0.20188235256669787), (1761, 0.20179717521079743), (1743, 0.20178655515527513), (3887, 0.2014340774677922), (547, 0.201391526451243), (3476, 0.2013748302006458), (1965, 0.20103837555406018), (1960, 0.20103163247972733), (1934, 0.20087709011541274), (1379, 0.20075174126498296), (2511, 0.20072273399134422), (1184, 0.20022424687926937), (2140, 0.19989768586893264), (4539, 0.19983749693222624), (1800, 0.19976869854509693), (559, 0.19974769878728726), (3721, 0.19950997685762722), (2593, 0.19926838236954342), (2662, 0.19882990989243707), (985, 0.19881035346214435), (3189, 0.1986568423594368), (2769, 0.1984266944805239), (708, 0.1981971999944377), (4553, 0.19768795343536674), (4118, 0.1976653323805806), (133, 0.19755116322670546), (4146, 0.1973797881500246), (3137, 0.19731108364779365), (4424, 0.19724561885237607), (668, 0.1971635954059027), (2025, 0.19711277531077917), (4172, 0.1970017836073396), (1628, 0.19691799061221515), (2265, 0.19690435403703782), (2256, 0.1967618554440512), (3802, 0.19675493677102418), (4109, 0.19667141262993418), (3824, 0.1965977243885196), (3616, 0.19658424410697745), (2649, 0.19640628456525136), (1632, 0.19638603781551575), (4587, 0.19636791002600903), (2461, 0.1962531788946163), (549, 0.19624565281086806), (2401, 0.1962236662127039), (3099, 0.19609490978377803), (3048, 0.19606506395708645), (1210, 0.19588705480764296), (2218, 0.19561800173578947), (3291, 0.19560339949400893), (3449, 0.1955763627380448), (4391, 0.19538920716941216), (462, 0.1951155124625929), (4585, 0.19509166810598957), (4642, 0.19454575520550293), (3931, 0.19447340429191196), (1382, 0.1943298068580796), (4253, 0.19429904152451347), (4743, 0.19427842736341067), (2043, 0.19418345250664143), (1222, 0.19410608323135797), (3103, 0.1940757689261578), (3006, 0.19404724715302635), (4693, 0.19398356599481792), (4722, 0.19390502267220944), (3365, 0.19377821705399267), (4370, 0.1937685130907037), (1759, 0.19373684635462418), (4330, 0.1937288557973457), (4676, 0.1936294051436886), (2860, 0.19360698182772582), (3547, 0.19360667511824464), (3209, 0.1936008657532211), (4461, 0.19352423244568423), (1395, 0.19345828535627588), (4532, 0.1933124712130276), (1744, 0.19324838825800042), (4260, 0.1930036720960541), (2940, 0.19281629144726914), (1668, 0.19270394508615618), (1977, 0.19269191698946017), (3307, 0.19240029095473207), (2776, 0.19225992052024332), (1972, 0.19216855362832092), (4333, 0.19216001652901205), (1992, 0.19208203215292802), (2965, 0.1920816628582984), (4037, 0.1919322129084798), (3488, 0.19190111638491245), (1411, 0.19188352435528888), (2869, 0.19186447438373805), (1867, 0.19170158411624494), (4720, 0.1916987231285739), (4686, 0.19168073011207168), (998, 0.19166607242238703), (2125, 0.1915016520416138), (982, 0.19142573184278344), (406, 0.19141216540881975), (1465, 0.19139720396949506), (926, 0.19123120137346986), (1477, 0.19086254814456213), (3245, 0.19077874130140685), (958, 0.1907585235571284), (2350, 0.19058674625589936), (2330, 0.19047747521467642), (941, 0.19036466017947243), (1426, 0.19030338727835827), (925, 0.18989136419052816), (2628, 0.189818648728785), (2470, 0.18959824516453458), (4484, 0.1895257057347829), (2744, 0.18950858670568346), (4632, 0.1893785758682511), (2592, 0.18904615509135048), (2282, 0.18872102746031108), (4194, 0.1881720370296081), (3239, 0.18785517613966402), (3962, 0.1877118942745922), (1601, 0.18725042085803423), (4500, 0.18704715123771112), (1415, 0.18694472358709927), (4709, 0.18686312767539648), (1719, 0.18678672831790127), (3194, 0.18675523635732255), (1694, 0.18672484128967545), (3800, 0.1866494906332315), (4147, 0.18649122616011982), (3819, 0.1864593075442047), (2435, 0.1864495042611007), (3774, 0.18643847896039), (2448, 0.1864151623631326), (2684, 0.18635235245038395), (690, 0.18603119271351742), (1871, 0.18598666982098117), (2774, 0.18584738903227066), (2380, 0.18533071986329686), (1883, 0.1850299242828557), (3573, 0.18479847128848292), (1037, 0.1847420541606066), (4311, 0.1847060236654045), (2308, 0.18458237798221191), (2928, 0.18456569450105414), (1594, 0.18423640129542818), (2731, 0.18400573095944373), (4652, 0.18372588113526223), (3928, 0.18371225444482076), (2594, 0.183645736260297), (1749, 0.18339710667884374), (2042, 0.18293480043204305), (1865, 0.18267695838781248), (2442, 0.18238701133867724), (1622, 0.18238228021095768), (3504, 0.18228795351038235), (3423, 0.1821687814155906), (2569, 0.18210702179032365), (4292, 0.18209881522437635), (1100, 0.18205033225311268), (4369, 0.18199613820381427), (1216, 0.18185874519678166), (4361, 0.18171260475829043), (1580, 0.1815213182826601), (2034, 0.18132447056970252), (1596, 0.18109878477632052), (2905, 0.18109209714156765), (4547, 0.18088290599421902), (2247, 0.18082832094836931), (3909, 0.18069217917343436), (2537, 0.18060975342315927), (4540, 0.1802310763481683), (4079, 0.18019470849595634), (4613, 0.18014454922120202), (2587, 0.18010385626962905), (2455, 0.17939470189630555), (2146, 0.1793217049041021), (3089, 0.17914912335513122), (2425, 0.1791251960777536), (3614, 0.17894972270305898), (2681, 0.1787988383311531), (1449, 0.178794560411675), (1661, 0.17850295740804012), (2843, 0.1784456585340257), (962, 0.1783510517899211), (2018, 0.17818942912219093), (2737, 0.17794224394863883), (3514, 0.17785356095503663), (2063, 0.17782409765207907), (3876, 0.17761421770310426), (3664, 0.17750816160897337), (1183, 0.1774813574719863), (1277, 0.17713646791615695), (475, 0.17697953810961392), (1318, 0.17680056165755417), (2509, 0.17660257826168044), (1178, 0.1763610911452302), (2827, 0.17634253422695748), (4729, 0.17614439547547928), (3139, 0.17610023554239554), (2163, 0.17562207223975632), (4126, 0.17557279781080087), (3940, 0.17548015087043514), (3383, 0.17542967476868104), (2619, 0.17539592040420607), (3027, 0.17522923712085867), (1698, 0.17514652672729744), (1747, 0.1751056697965502), (1741, 0.175074392563272), (1991, 0.1748552885612558), (4249, 0.17478988607901175), (3057, 0.17460669214954128), (1339, 0.17423986921299234), (3296, 0.1742200650370405), (2339, 0.17421717519951993), (933, 0.17421436248430924), (3062, 0.1740876885926011), (2331, 0.17400159579146707), (3136, 0.17381902586980644), (4748, 0.17322422336131138), (4117, 0.17297893952509139), (1605, 0.17265214459215963), (4559, 0.1725610337956804), (921, 0.17236692176344715), (3883, 0.17170273308147635), (2396, 0.17151732945454212), (4018, 0.17141572495880045), (3184, 0.17120120705716016), (1086, 0.17118709573320662), (3999, 0.17118516996720695), (3371, 0.17112722536751734), (3054, 0.17106305217638001), (2463, 0.17097425393169183), (1647, 0.1709516240266912), (3927, 0.17093263775424922), (1745, 0.17079583561259323), (4059, 0.17057020033101966), (2866, 0.1701384982020534), (1813, 0.17012730032746434), (2880, 0.1699000468749757), (2897, 0.16954707898730811), (4319, 0.16947131110739175), (1832, 0.169396336945963), (1954, 0.1692637690954803), (4565, 0.16892347188954476), (4584, 0.16862485229669033), (1748, 0.16862040588566524), (4660, 0.16836637120231648), (1125, 0.16830851382562512), (4304, 0.16824967414097147), (3111, 0.1680879456387511), (2395, 0.16791090521298435), (4526, 0.16730234537905092), (3471, 0.1671781630512053), (4390, 0.16717554596231407), (2332, 0.16698491038852373), (3364, 0.16692261642613837), (4179, 0.16689556688007282), (4341, 0.16674329977138622), (1423, 0.1667066565503257), (3324, 0.16668094690110175), (4285, 0.1666321680687789), (2427, 0.16626639454248573), (3315, 0.1661123390622985), (4348, 0.16552676165500346), (2721, 0.16530121407498088), (4171, 0.16504680345349085), (1019, 0.1648391033664456), (4141, 0.16479028220921535), (430, 0.16469424251964998), (2601, 0.1645918439353375), (2676, 0.16449088160999625), (4067, 0.16442481647279766), (3728, 0.16435208640098486), (1022, 0.16429020678640677), (3465, 0.1642771962851736), (1046, 0.16377697563803523), (4250, 0.16360360035884433), (2916, 0.16349766220346346), (4190, 0.1634693437708067), (3560, 0.16336532807719234), (1652, 0.16332440858591982), (3321, 0.16325685991131442), (1062, 0.16291409743133187), (4423, 0.1628340688126234), (2299, 0.16254321438896235), (4702, 0.16229652214199453), (3809, 0.1619119475916466), (3844, 0.16184423715830826), (4201, 0.16165884388266133), (2420, 0.16144880762601768), (3610, 0.1613885368903724), (3745, 0.16116994704877532), (2468, 0.1611196516755553), (2767, 0.1609545633020218), (767, 0.1608331564787438), (4505, 0.1605002964179375), (4734, 0.1603681481143066), (4252, 0.16034209154571355), (1919, 0.160279458150511), (1715, 0.160165272786506), (2933, 0.16014548614948038), (1467, 0.1601295111577091), (4713, 0.16003934536571762), (2243, 0.15989718582913265), (2411, 0.1598047731262547), (2654, 0.15977874390080377), (3391, 0.15904629362667952), (2618, 0.1588741206039464), (3378, 0.15883497971306995), (2220, 0.15880475722288137), (2645, 0.15863905136238413), (4287, 0.1585338637699401), (2632, 0.15844889515821906), (4206, 0.15835859216043272), (2310, 0.15829199195201282), (542, 0.15820040933338347), (4727, 0.15800771739528496), (2796, 0.15783517145585607), (4492, 0.15754507045225416), (2400, 0.1573125575713501), (3517, 0.15729473077140252), (4232, 0.15728128339137806), (2747, 0.15717094117779826), (3647, 0.15714372785870595), (2375, 0.1569472489104075), (3588, 0.15693050155906085), (2466, 0.1568398762329), (4145, 0.15679650281411925), (3095, 0.15672012941223568), (3162, 0.1566952046175882), (3016, 0.15640160544573997), (4744, 0.1562813718699641), (4605, 0.15621551758217236), (3653, 0.15600902731124333), (4701, 0.15561751154465642), (4752, 0.15560932257189514), (759, 0.155395890720215), (3878, 0.15522281077931618), (3563, 0.15504555631558253), (3154, 0.1549165273072611), (2385, 0.1548144636601917), (573, 0.1547688089937342), (2343, 0.15452079063821583), (2176, 0.15443457662006765), (2946, 0.1542322758102942), (2943, 0.15409251928480955), (4485, 0.1538045226687725), (1018, 0.15335531589185725), (4737, 0.15334999934196436), (2188, 0.15324988606940465), (4706, 0.1531730739829995), (311, 0.15294054819268438), (3302, 0.15276520021617018), (4631, 0.1524108764607373), (1717, 0.15228613426472742), (2288, 0.15208302352138192), (4425, 0.1519534435949181), (4738, 0.15173924249703813), (1132, 0.15171466328493616), (2745, 0.15145210649554292), (4651, 0.15132491099149958), (4596, 0.15130637657831136), (3820, 0.15112019973699853), (2669, 0.15108516727026128), (3033, 0.15102834430568682), (3115, 0.1510067325268974), (2750, 0.15004146806261057), (907, 0.14945240163932455), (2360, 0.14936533538509789), (4508, 0.14932616415772715), (2778, 0.14904025248890018), (1610, 0.14890211021704447), (2260, 0.14888604152354556), (3578, 0.14879863646468383), (2546, 0.14877997119479497), (2911, 0.14867822367039027), (2923, 0.1486642571711396), (2738, 0.14841506871182952), (3983, 0.14834688477051045), (2580, 0.14827275370507303), (3765, 0.14805378430270624), (487, 0.14797453336864422), (3070, 0.14782381698281555), (4634, 0.14778951624851766), (2883, 0.14769419494274694), (3515, 0.14765929791037335), (1702, 0.147625757858911), (4724, 0.14757035822941691), (2837, 0.1474909321164728), (4637, 0.14727779057812768), (3762, 0.14720467606238996), (2994, 0.1471480836754272), (3848, 0.14681875501306949), (3242, 0.14635612777066764), (2581, 0.14606866059305482), (4593, 0.14605606340413155), (4030, 0.14558533802307344), (2600, 0.14542161483488542), (3913, 0.1453630427616405), (3656, 0.1450025703063664), (3418, 0.1449744347848507), (4562, 0.14493562806584206), (3112, 0.14485497317309817), (2341, 0.14479174574645906), (3716, 0.1447480266880791), (4086, 0.14446666436440872), (2458, 0.14438548340808557), (4657, 0.1438700419833277), (3459, 0.14350995086451623), (4276, 0.14349107429356825), (2436, 0.14345190419788953), (3758, 0.1434495990685138), (3265, 0.14333233104455273), (2281, 0.14317010982524134), (2327, 0.14316865630872783), (2255, 0.14310277782332007), (2560, 0.142937067994395), (2889, 0.1427658103424332), (2506, 0.1427618527231168), (3579, 0.14270031947072545), (4395, 0.1426775437329843), (3248, 0.14253835599286055), (3399, 0.14237473940163775), (3199, 0.14231268464479263), (3219, 0.14217146504331352), (4419, 0.14204345222340872), (4226, 0.14197741255399432), (3051, 0.14174134735429314), (4326, 0.14169164501933054), (1690, 0.1416282396579635), (2983, 0.14161521478797737), (4728, 0.1413641201654808), (3594, 0.14101758631830236), (2563, 0.14099840426881027), (4144, 0.14094669426173398), (2384, 0.14093803198984606), (737, 0.14069445568284034), (2171, 0.14067692988862499), (2642, 0.1402227981997216), (2877, 0.1397802842657195), (2998, 0.1397710347877761), (3502, 0.13964935410883075), (4521, 0.1396297620769123), (4446, 0.13962120719787113), (4225, 0.13958585746965282), (2291, 0.1395173089217318), (2664, 0.13922219419642032), (2674, 0.138988795919183), (4554, 0.1389714192088176), (3222, 0.13866817544638646), (4308, 0.1386431585270454), (3306, 0.1385656174242073), (3675, 0.138202548387676), (2567, 0.1381386943716585), (4714, 0.1380606857173741), (3489, 0.1376327674133278), (2709, 0.13760690888266666), (2966, 0.13740874826839228), (4372, 0.13730437214191943), (3582, 0.13707528696359467), (2650, 0.13702088335964122), (3036, 0.13655471027167823), (2404, 0.13652431515163832), (3203, 0.1362359642340559), (2836, 0.13613457276680602), (2379, 0.13613355232491342), (2724, 0.1360090277992859), (2765, 0.13579678954515817), (3196, 0.13574590926403013), (3138, 0.13523695483361486), (3253, 0.13464787912787007), (2241, 0.13430725748155461), (3067, 0.13428170244573434), (3040, 0.13414442780038804), (4042, 0.13409227288366635), (4721, 0.13403898899880312), (3295, 0.13382709517760216), (2722, 0.133811874383829), (3024, 0.13378298675651581), (4749, 0.1335520992530682), (2851, 0.1335481640688067), (2342, 0.1335475301805884), (2433, 0.13343060610130583), (4544, 0.13331988283787832), (3704, 0.13327703818646322), (929, 0.13309526124207044), (2572, 0.1328167673937114), (2693, 0.13279301452984152), (1877, 0.13276245179950585), (2810, 0.1326301912189194), (4443, 0.13221514797552117), (3644, 0.13216122624329568), (4239, 0.13179471920945202), (3851, 0.13177093006928842), (2844, 0.1316043597009375), (2951, 0.1316035552059735), (2604, 0.13134931371340242), (4469, 0.13133971169665895), (2296, 0.13118130054713123), (4412, 0.13111263970457615), (2885, 0.1310579526376887), (1703, 0.13091107111809488), (2290, 0.13084367164165941), (2775, 0.13078942373364127), (2266, 0.13073611508099187), (3896, 0.13070846388833465), (2740, 0.1306833909637492), (2357, 0.13040791031275226), (3556, 0.13035386548311112), (3056, 0.1302590302939894), (3084, 0.12995938242583607), (3518, 0.12990059858660935), (4082, 0.12967577424080645), (4175, 0.12963165152638764), (2234, 0.1296068517888513), (4293, 0.12957552571003084), (4756, 0.1295568270808902), (3172, 0.12947011057215424), (2449, 0.12873451631289126), (2397, 0.12863566096378382), (3049, 0.12858183906656123), (3764, 0.12855824297700486), (2647, 0.12846864976066585), (3918, 0.1282897115481101), (3312, 0.1280476053174279), (2891, 0.12803448122511712), (3439, 0.1280149603980332), (2204, 0.12768725082607907), (3354, 0.12766837474665677), (3669, 0.1276490279179762), (3151, 0.1275959193547582), (2838, 0.1275654531700745), (4710, 0.12650489459176506), (3650, 0.1264826654631279), (4635, 0.12645167483750064), (1753, 0.12638986392694207), (3952, 0.126319662848514), (2890, 0.1263093303181833), (2554, 0.12620797558539093), (3967, 0.1262046169429914), (630, 0.1260500735827628), (3249, 0.125910720937528), (2787, 0.12589002848461497), (3638, 0.12587677846092124), (4736, 0.12584439441484796), (3185, 0.12572612675032804), (2223, 0.1254041645859937), (4166, 0.12524506460753335), (2450, 0.1252337750623916), (2191, 0.1252090507646816), (3951, 0.12516858918961654), (3101, 0.1250294224132683), (4692, 0.12492652241110398), (4705, 0.12482689840924518), (2864, 0.12479692601572892), (579, 0.12467096159991738), (4437, 0.1246497453098983), (4742, 0.1244486821467), (4313, 0.12433869821590238), (4603, 0.12433240862997394), (2208, 0.1242275954844789), (3117, 0.12416467031309435), (4546, 0.12412023005065852), (2990, 0.12397191161037457), (2367, 0.12389085798642514), (4675, 0.12350963415537224), (3004, 0.1235091041055151), (2735, 0.12338973579269565), (2286, 0.12313866423198577), (2627, 0.12309915962033346), (1175, 0.1230663897526203), (1020, 0.12289151987156562), (4750, 0.12262695760060534), (2376, 0.12261657821883842), (2464, 0.12189369169283394), (2215, 0.12180415262006612), (2465, 0.12171225372883303), (2670, 0.12164532406439765), (2832, 0.12163952430492721), (2733, 0.12162525207262728), (3528, 0.12135557992335186), (3128, 0.12134640094226475), (1841, 0.12133768797884259), (3533, 0.12130198434140912), (4537, 0.12120451896840714), (4499, 0.12110812444450153), (3297, 0.12110523448015795), (4150, 0.12106504674801473), (2591, 0.12079211016160793), (2855, 0.12053895411376406), (4061, 0.12043960572879099), (2315, 0.1203952754002273), (2179, 0.12019641592157192), (2210, 0.1200487581476704), (2363, 0.12000984210163564), (3187, 0.11996410357992479), (4683, 0.11996055981808545), (2833, 0.11992527559507776), (3074, 0.11992328425044092), (3521, 0.11991875371806007), (3303, 0.11989092930402154), (2394, 0.11979041797641891), (3123, 0.1197368989673776), (3197, 0.11943027667406697), (4726, 0.11934182070610617), (3251, 0.11923437927571702), (3014, 0.11919351517477918), (2989, 0.11916685524408754), (3838, 0.11910891854554155), (2488, 0.11884170562606913), (4691, 0.11857413871778509), (2849, 0.11854466783342023), (3417, 0.11849212573010043), (2212, 0.11838191645806496), (4549, 0.11833315366985743), (2935, 0.11811191908344928), (2475, 0.11794790115221893), (4208, 0.11785258778522192), (2319, 0.11780915142123312), (3575, 0.11772149571024529), (2490, 0.11758438801336837), (4111, 0.11747260336474327), (4220, 0.11726290832444916), (1604, 0.11721127395396952), (3988, 0.11708110156922946), (2477, 0.1170237768761056), (4413, 0.11665459054582965), (574, 0.11659450466076274), (4222, 0.11658933495034347), (3369, 0.11633110467592639), (2987, 0.11627386399407913), (3680, 0.11605956547120536), (2344, 0.11576963834909768), (3763, 0.11558688367619957), (3289, 0.11547814987287028), (2324, 0.11545200517783172), (2426, 0.11537664949279536), (4284, 0.11533157338640648), (2388, 0.11527896135182393), (3796, 0.11497259252134115), (2968, 0.11489960314838443), (2666, 0.11485528519814223), (2309, 0.11476335021443415), (4177, 0.11464796809743452), (3009, 0.11454247455956759), (3674, 0.11430152990640254), (3408, 0.11401602606937675), (2997, 0.11399740898748524), (2469, 0.11397559239745292), (3702, 0.11367788261536924), (3082, 0.11362795357271283), (2207, 0.1129241425351559), (2974, 0.11288097904741728), (2209, 0.11287247883276227), (1598, 0.11274190913275386), (3900, 0.11246430420235337), (3050, 0.1124280712216496), (2479, 0.11230642018572466), (2875, 0.11230554019304528), (4689, 0.11218028861920411), (2348, 0.11205012095820223), (3737, 0.1120108460911044), (2748, 0.11189403880634098), (3770, 0.11184738946378163), (2705, 0.1113976844172628), (3285, 0.11122491739156709), (3213, 0.11114413584638083), (4622, 0.11109275881135225), (2514, 0.11095592524159595), (3472, 0.11092924128880932), (3403, 0.11086145168733094), (3434, 0.11081187899905717), (2739, 0.11060988673385269), (2202, 0.1099744228649452), (4571, 0.10963803962172985), (3107, 0.10948471193792902), (2513, 0.10940910721088652), (3092, 0.109351051176249), (4717, 0.10892375270160974), (4131, 0.10891624156240486), (3640, 0.10868765446835454), (3000, 0.10855773050367137), (2441, 0.10850006742282074), (3264, 0.10848482057654293), (2708, 0.10795235268930102), (2636, 0.1077546486557565), (3282, 0.10735481843787484), (2914, 0.10717262964654027), (4610, 0.10713306627962903), (3412, 0.10710930218920664), (3176, 0.10650013923557478), (4196, 0.10602800168281543), (4757, 0.10532902000841543), (2355, 0.10531490593381301), (4455, 0.10525301773448238), (3686, 0.10523153211938654), (2879, 0.10482548304803257), (2924, 0.10469835964229221), (3536, 0.10454394203512889), (3198, 0.1044823799233607), (4133, 0.10447610358128999), (3353, 0.10426523484745821), (4325, 0.10408664488304983), (2556, 0.10391791680524168), (2328, 0.10390728677918926), (2248, 0.10386969853079671), (2551, 0.1036780753367682), (2901, 0.103604790324999), (3529, 0.10348875491458354), (4567, 0.10348164541128568), (3884, 0.10328366476833861), (3277, 0.10303386499556225), (2314, 0.1027774906204815), (2770, 0.10263664756173951), (3755, 0.10257352070301154), (3086, 0.10222766029639777), (2821, 0.10218764481353132), (2227, 0.10211506971926118), (2444, 0.10192350641756481), (2840, 0.10178763200555531), (2751, 0.10166114274492198), (4120, 0.10153230017213535), (4229, 0.1014993834474199), (2312, 0.10128440512102524), (2175, 0.10127858091383025), (524, 0.10127458320701029), (2393, 0.10105703666165691), (3336, 0.10096943701781402), (2707, 0.10094185823799551), (3205, 0.1008749820223072), (826, 0.10072706930986784), (2370, 0.1001672048743381), (2585, 0.10008224119978185), (3175, 0.10008111116126386), (4592, 0.09989592457960275), (3419, 0.09989424332753254), (629, 0.09986166427926581), (2902, 0.09978900479474981), (3683, 0.099674689255795), (3456, 0.09965906582425824), (2311, 0.09953818160830939), (3936, 0.09951740849485984), (2657, 0.09950139158450585), (3044, 0.0991429262940851), (2640, 0.09911087303480429), (4048, 0.09899293195193616), (2805, 0.09897570780513847), (2783, 0.09886854720711953), (2655, 0.09873083161239937), (2884, 0.09872086648750295), (4032, 0.09861768180696892), (4262, 0.09859259716355503), (3109, 0.09849800424971548), (3113, 0.09839604867912428), (4180, 0.09835848793599741), (2304, 0.09828856029570529), (4545, 0.09811826520368482), (2936, 0.09808396558771762), (3400, 0.09806073159061421), (2949, 0.09804737196251473), (3624, 0.09803864166811245), (2816, 0.09731805098960916), (3558, 0.09675094913065706), (2530, 0.0966829378536758), (2932, 0.09663848731564773), (3382, 0.09657005520168992), (2712, 0.09654230239168948), (3892, 0.09645485703195825), (4522, 0.09638845016477597), (3037, 0.09614173938555824), (2561, 0.09612473351727487), (4230, 0.09558653593112007), (3165, 0.09530814103807649), (4712, 0.09477013092618261), (3035, 0.09468490880464045), (3237, 0.0946275107739588), (3345, 0.09459649592841748), (3622, 0.0945925723037039), (2226, 0.09450488070971487), (2782, 0.09450002675735844), (2289, 0.0944775070962026), (3897, 0.09433279303895838), (4149, 0.09432354054015396), (3829, 0.09417507278862938), (2831, 0.09406894468161885), (2887, 0.09400292620166217), (2954, 0.09344252761549421), (3341, 0.09328562486863183), (2607, 0.09291219257908334), (3348, 0.09279739744696908), (4671, 0.09279396648670521), (3479, 0.09248323854530302), (2626, 0.0922917479036838), (2250, 0.09220056173230202), (3687, 0.0921168266581305), (3749, 0.09207625635400826), (3645, 0.09203829009251216), (4495, 0.09185948500196371), (4573, 0.09183425960968597), (3679, 0.09167207369261238), (4570, 0.09138605306183069), (3995, 0.09134900548258976), (4751, 0.09131570530495356), (3703, 0.09116064961457633), (2224, 0.09094305234300067), (4060, 0.09090381891139103), (4382, 0.09064311206074463), (4286, 0.09040326998382477), (2195, 0.09039631791545043), (4519, 0.0899782744317872), (2180, 0.08953797929138776), (2347, 0.08941532888499636), (2199, 0.08924568870539622), (3891, 0.08902595385037064), (3046, 0.08894099299253895), (2874, 0.08888899728924311), (2752, 0.08888394390234662), (2646, 0.0887379353129168), (3032, 0.0887172931200593), (3506, 0.08842786516884008), (2431, 0.08838212981409488), (3526, 0.08830365105043536), (2762, 0.0882363560696944), (2186, 0.08823107455853221), (2777, 0.08800857532819087), (2659, 0.08783857547439414), (2876, 0.08771828264587293), (3257, 0.08767533813042622), (4129, 0.087461747574367), (2201, 0.08728432272570323), (4297, 0.08717685566109651), (4715, 0.08707783205199753), (2297, 0.08705502784354796), (2358, 0.0869143728845747), (3678, 0.08690594855324904), (3003, 0.0866859836542318), (4708, 0.08655564543585055), (3080, 0.08653923998808716), (4698, 0.08637279612252512), (2651, 0.08599334112215623), (3267, 0.08597153800652511), (2129, 0.08596481521583935), (2590, 0.08569861391413286), (2967, 0.08563046477001977), (4188, 0.08558481509523246), (3545, 0.08514071610177065), (2467, 0.08439104680585977), (3822, 0.08437272691050869), (2236, 0.08417404323051109), (2531, 0.08345093562084244), (4182, 0.08341252160490253), (2925, 0.08329464268038965), (4092, 0.0831835166315773), (3087, 0.08308408987914148), (3512, 0.0830128116223946), (3630, 0.08298742868167436), (3766, 0.08276647933562058), (3414, 0.08245003549828804), (3821, 0.08237771006834856), (3157, 0.08216853589323495), (2457, 0.08212463506356782), (4416, 0.08202545204353417), (3309, 0.08198216626468166), (3585, 0.08161569907208487), (3034, 0.08147158535461566), (2407, 0.08140846038263383), (2340, 0.08139312023028517), (3055, 0.0811793246876261), (4405, 0.08068952270693659), (3538, 0.08066466408565678), (3994, 0.08050035036341571), (4110, 0.08049562989079267), (2842, 0.08037168036602668), (4487, 0.08034085998607918), (3214, 0.08027852505179364), (2383, 0.07991912695226912), (3217, 0.07985682534178856), (2786, 0.07961478365546996), (3731, 0.0793421146628801), (3293, 0.07932407281366977), (2900, 0.07922843383693423), (4163, 0.0790349697960829), (2734, 0.07895309053783353), (3571, 0.07886958748794497), (3110, 0.07859796183891246), (4480, 0.07859173138045922), (3589, 0.07855853396853092), (2679, 0.07845553901353969), (2644, 0.07807755445791575), (2505, 0.07788103662757528), (2454, 0.07770046005311021), (2244, 0.07766798319942116), (3148, 0.07762436033566271), (2378, 0.07759989192263647), (2937, 0.07759860624823901), (3121, 0.07743073600081818), (1029, 0.07740501507946476), (3750, 0.07736428644684185), (2320, 0.0773456184428344), (2678, 0.07723210479172295), (2552, 0.07721178317645219), (3523, 0.07706224592184675), (2695, 0.07666094937413001), (4028, 0.07663414004471471), (3263, 0.07660098005988493), (3029, 0.07657833791803709), (3714, 0.07642281742278671), (3424, 0.07622280761278585), (4458, 0.07614390123705563), (4580, 0.07575310231463162), (3396, 0.07563097672728332), (4198, 0.07549356901540771), (4703, 0.07530902302849164), (4251, 0.07530738394461985), (4237, 0.07530569637487017), (2992, 0.07519194923557904), (3261, 0.07515315474647383), (3243, 0.07510545365832899), (3761, 0.07492267110667147), (4618, 0.07433448678523893), (3535, 0.07427362969157092), (2440, 0.07419914389781539), (4062, 0.07418584818748584), (4316, 0.07418003529406737), (3990, 0.07413947404725493), (3372, 0.074048686549587), (2697, 0.07379533854479149), (2474, 0.07354975703729248), (3118, 0.07320510683363056), (3715, 0.07305347284153584), (3932, 0.07299444680484252), (3636, 0.07297856256387678), (1026, 0.07293772296909644), (2446, 0.07286243588945227), (3063, 0.0726412536634088), (3258, 0.07260857673111515), (3475, 0.0725898664045405), (2242, 0.07246339848220837), (3283, 0.07231135987380204), (4607, 0.07230570421008715), (4317, 0.07219624402954894), (2698, 0.07197278629112482), (4050, 0.07197091480409619), (2945, 0.07192034497975294), (2948, 0.07168429678111325), (3255, 0.07162164625428369), (4102, 0.07152841912128098), (4619, 0.07150780186856182), (3627, 0.07145099542087271), (2814, 0.07139451647686437), (3856, 0.07135079909638127), (3389, 0.07128148102892927), (3510, 0.07127916033524444), (2772, 0.07123676490019797), (4170, 0.07106193178725746), (2829, 0.07092199851368843), (2364, 0.07065060879399185), (3422, 0.07043991252457409), (2257, 0.07043856626124263), (2346, 0.07042090089980634), (2596, 0.0703937833893254), (2579, 0.07017438066336906), (3615, 0.06996824136661278), (3017, 0.06995179629187949), (2913, 0.06972191310003514), (3945, 0.06959641174178319), (3561, 0.0695026035494962), (2741, 0.06901741599575507), (3458, 0.06860810342513694), (2993, 0.06854063705987025), (3025, 0.06823245820133206), (3075, 0.0677846212676571), (3020, 0.06759659884234456), (2577, 0.06743225063147938), (4753, 0.06740297873491327), (3262, 0.0672441512122712), (3108, 0.06709329379887626), (3668, 0.06687221595841332), (3159, 0.06684784570184243), (3140, 0.06684730107651882), (3088, 0.06683338370975193), (4065, 0.06673020105827643), (4578, 0.06597605823118816), (3544, 0.06570289728995407), (4644, 0.06569189352157362), (2857, 0.06524644108384373), (2870, 0.06523628979181662), (4646, 0.06514354761887603), (3577, 0.06484517787416334), (3524, 0.0647851959512691), (3152, 0.06471653751072247), (4407, 0.0645903617709565), (2269, 0.06431911351611946), (3455, 0.0639773036759505), (3804, 0.06358136951730246), (4741, 0.06337956182582066), (2302, 0.0632499416431363), (2702, 0.0629385186236573), (3830, 0.0627413026586388), (2699, 0.06271380167087878), (2658, 0.06258761704635274), (3269, 0.06214257524851055), (4019, 0.061245364134952775), (2806, 0.061122641034631914), (4107, 0.06103770664573419), (2298, 0.0609309863272439), (3827, 0.06080257467050951), (2934, 0.060701417121301005), (2635, 0.06066386429584229), (3537, 0.060573293730846495), (4681, 0.06024027592504812), (3620, 0.059821319994473494), (3019, 0.05976041535096941), (4064, 0.05948791957385712), (4271, 0.05887632877212978), (2133, 0.058711593666740614), (4134, 0.05858911802924371), (2392, 0.05827984704622835), (3601, 0.05808590625279397), (4541, 0.058041244564751016), (3116, 0.05787013413625806), (3899, 0.057567611590646516), (2941, 0.057447707321488184), (3142, 0.057410469249575734), (3125, 0.05702049870838137), (4561, 0.05689220416426646), (2471, 0.05688348091650995), (3206, 0.05681712041433323), (3235, 0.05681057298990467), (3059, 0.056466522719888564), (3676, 0.05637561654894892), (2484, 0.05627566715128138), (2700, 0.05617512569023703), (3717, 0.05582050950918936), (3501, 0.05537416983375224), (2403, 0.05532326609338271), (2773, 0.05494176137765748), (3530, 0.05489464329797353), (3672, 0.05444858078354302), (3041, 0.05440717953085522), (4199, 0.05416272469054578), (3663, 0.05391192416140564), (3760, 0.05302701754438634), (2999, 0.052997226955680515), (2930, 0.052478161697928176), (2726, 0.05238252063226384), (2307, 0.05233047670655927), (3428, 0.051708573530360305), (3441, 0.05162402427407802), (2345, 0.05154030340049891), (4759, 0.05148238888321165), (2512, 0.051447922242182934), (3240, 0.05106654086395309), (2550, 0.050751250156408766), (3933, 0.050497104073087475), (3177, 0.05014724505762276), (4352, 0.049924140417689764), (3090, 0.04923574300788558), (4072, 0.04919532402109251), (2323, 0.04872558556719429), (3244, 0.04851941208910679), (3929, 0.04827704644845569), (3350, 0.047940191920945806), (3007, 0.04745388366815069), (3712, 0.04635625585268713), (4755, 0.04598686708055499), (2633, 0.04527968856747989), (2835, 0.044327805442723814), (3752, 0.0442004838890721), (3397, 0.0411013493648428), (4739, 0.008135508388940222), (2673, 0.00799179257805685), (3420, 0.007316342746766523), (3325, 0.004168091866190812), (3552, 0.003871858310153076), (4719, 0.0020679278892331895), (4026, 0.0019863447415241894), (2717, 0.0), (3266, 0.0), (3323, 0.0), (3981, 0.0), (4654, 0.0), (4711, 0.0), (4758, 0.0)]\n"
          ]
        }
      ]
    },
    {
      "cell_type": "code",
      "source": [
        "#primt the name of Similar movies\n",
        "print(\"The 30 Movies Suggested for You\")\n",
        "i=1\n",
        "\n",
        "for movie in Sorted_Similar_movies:\n",
        "  index = movie[0]\n",
        "  title_from_index = df[df.index == index]['Movie_Title'].values[0]\n",
        "  if (i<31):\n",
        "    print(i, '.', title_from_index)\n",
        "    i+=1"
      ],
      "metadata": {
        "colab": {
          "base_uri": "https://localhost:8080/"
        },
        "id": "a0h9Uzn61X5k",
        "outputId": "89a69cb9-bc42-4d77-be38-d906259b3a54"
      },
      "execution_count": 33,
      "outputs": [
        {
          "output_type": "stream",
          "name": "stdout",
          "text": [
            "The 30 Movies Suggested for You\n",
            "1 . Niagara\n",
            "2 . Jurassic World\n",
            "3 . The Chronicles of Riddick\n",
            "4 . John Carter\n",
            "5 . The Dark Knight Rises\n",
            "6 . The Alamo\n",
            "7 . Bad Boys II\n",
            "8 . War of the Worlds\n",
            "9 . Contact\n",
            "10 . Ant-Man\n",
            "11 . Alexander\n",
            "12 . The Core\n",
            "13 . Catwoman\n",
            "14 . Dawn of the Planet of the Apes\n",
            "15 . Minority Report\n",
            "16 . Cursed\n",
            "17 . Big Fish\n",
            "18 . Kill Bill: Vol. 1\n",
            "19 . Collateral\n",
            "20 . The Hunger Games: Mockingjay - Part 2\n",
            "21 . Men in Black II\n",
            "22 . The Wolf of Wall Street\n",
            "23 . The Aviator\n",
            "24 . Harry Potter and the Philosopher's Stone\n",
            "25 . Tears of the Sun\n",
            "26 . Harry Potter and the Prisoner of Azkaban\n",
            "27 . Black Hawk Down\n",
            "28 . The Day After Tomorrow\n",
            "29 . Terminator 3: Rise of the Machines\n",
            "30 . Hulk\n"
          ]
        }
      ]
    },
    {
      "cell_type": "code",
      "source": [],
      "metadata": {
        "id": "t5GCKGkO20jB"
      },
      "execution_count": null,
      "outputs": []
    }
  ]
}